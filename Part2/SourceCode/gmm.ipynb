{
 "cells": [
  {
   "cell_type": "code",
   "execution_count": 10,
   "metadata": {},
   "outputs": [],
   "source": [
    "import pandas as pd\n",
    "import numpy as np\n",
    "import matplotlib.pyplot as plt\n",
    "from sklearn.cluster import KMeans\n",
    "from sklearn.model_selection import train_test_split\n",
    "from sklearn.datasets import make_classification\n",
    "from imblearn.over_sampling import SMOTE\n",
    "from sklearn.naive_bayes import MultinomialNB\n",
    "from sklearn.metrics import accuracy_score, confusion_matrix, classification_report\n",
    "import seaborn as sns\n",
    "from sklearn.mixture import GaussianMixture\n",
    "from sklearn.metrics import silhouette_score"
   ]
  },
  {
   "cell_type": "code",
   "execution_count": 11,
   "metadata": {},
   "outputs": [],
   "source": [
    "#Reading from CSV File and Storing in Dataframe\n",
    "X = pd.read_csv('../../Dataset/x_train_all.csv')\n",
    "y = pd.read_csv('../../Dataset/y_train_all.csv')"
   ]
  },
  {
   "cell_type": "code",
   "execution_count": 12,
   "metadata": {},
   "outputs": [
    {
     "name": "stdout",
     "output_type": "stream",
     "text": [
      "========================================\n",
      "Shape of X is  : (9690, 2304)\n",
      "Shape of y is  : (9690, 1)\n",
      "========================================\n"
     ]
    }
   ],
   "source": [
    "#Printing the shapes of the training\n",
    "print(\"========================================\")\n",
    "print(\"Shape of X is  :\", X.shape)\n",
    "print(\"Shape of y is  :\", y.shape)\n",
    "print(\"========================================\")"
   ]
  },
  {
   "cell_type": "code",
   "execution_count": 13,
   "metadata": {},
   "outputs": [],
   "source": [
    "#Splitting the data into training and testing\n",
    "X_train, X_test, y_train, y_test = train_test_split(X, y, test_size=0.2, random_state=42)"
   ]
  },
  {
   "cell_type": "code",
   "execution_count": 14,
   "metadata": {},
   "outputs": [
    {
     "name": "stdout",
     "output_type": "stream",
     "text": [
      "========================================\n",
      "=   Shape to train and test Dataset    =\n",
      "========================================\n",
      "= Shape of X_train is  : (7752, 2304)\n",
      "= Shape of y_train is  : (7752, 1)\n",
      "= Shape of X_test is   : (1938, 2304)\n",
      "= Shape of y_test is   : (1938, 1)\n",
      "========================================\n"
     ]
    }
   ],
   "source": [
    "#Printing the shapes of the training\n",
    "print(\"========================================\")\n",
    "print(\"=   Shape to train and test Dataset    =\")\n",
    "print(\"========================================\")\n",
    "print(\"= Shape of X_train is  :\", X_train.shape)\n",
    "print(\"= Shape of y_train is  :\", y_train.shape)\n",
    "print(\"= Shape of X_test is   :\", X_test.shape)\n",
    "print(\"= Shape of y_test is   :\", y_test.shape)\n",
    "print(\"========================================\")"
   ]
  },
  {
   "cell_type": "code",
   "execution_count": 15,
   "metadata": {},
   "outputs": [
    {
     "data": {
      "text/plain": [
       "((17930, 2304), (17930, 1))"
      ]
     },
     "execution_count": 15,
     "metadata": {},
     "output_type": "execute_result"
    }
   ],
   "source": [
    "#oversampling the data\n",
    "smote = SMOTE(sampling_strategy='auto', random_state=42)\n",
    "X_resampled, y_resampled = smote.fit_resample(X_train, y_train)\n",
    "X_resampled.shape, y_resampled.shape"
   ]
  },
  {
   "cell_type": "code",
   "execution_count": 16,
   "metadata": {},
   "outputs": [
    {
     "name": "stdout",
     "output_type": "stream",
     "text": [
      "========================================\n",
      "=====   Shape to train Dataset     =====\n",
      "========================================\n",
      "= Shape of X_train is  : (17930, 2304)\n",
      "= Shape of y_train is  : (17930, 1)\n",
      "========================================\n"
     ]
    }
   ],
   "source": [
    "#size of the data\n",
    "print(\"========================================\")\n",
    "print(\"=====   Shape to train Dataset     =====\")\n",
    "print(\"========================================\")\n",
    "print(\"= Shape of X_train is  :\", X_resampled.shape)\n",
    "print(\"= Shape of y_train is  :\", y_resampled.shape)\n",
    "print(\"========================================\")"
   ]
  },
  {
   "cell_type": "code",
   "execution_count": 18,
   "metadata": {},
   "outputs": [],
   "source": [
    "# with X_train\n",
    "gmm_xt = GaussianMixture(n_components=10, random_state=42)\n",
    "gmm_xt.fit(X_train)\n",
    "labels_gmm_xt = gmm_xt.predict(X_train)\n",
    "\n",
    "probs_xtrain = gmm_xt.predict_proba(X_train)"
   ]
  },
  {
   "cell_type": "code",
   "execution_count": 22,
   "metadata": {},
   "outputs": [
    {
     "name": "stdout",
     "output_type": "stream",
     "text": [
      "The average silhouette_score with X_train is : 0.14229382846914454\n"
     ]
    }
   ],
   "source": [
    "silhouette_avg_xt = silhouette_score(X_train, labels_gmm_xt)\n",
    "print(\"The average silhouette_score with X_train is :\", silhouette_avg_xt)"
   ]
  },
  {
   "cell_type": "code",
   "execution_count": 19,
   "metadata": {},
   "outputs": [],
   "source": [
    "#with x_oversampled\n",
    "gmm_xos = GaussianMixture(n_components=10, random_state=42)\n",
    "gmm_xos.fit(X_resampled)\n",
    "labels_gmm_xos = gmm_xos.predict(X_resampled)\n",
    "\n",
    "probs_xos = gmm_xos.predict_proba(X_resampled)"
   ]
  },
  {
   "cell_type": "code",
   "execution_count": 23,
   "metadata": {},
   "outputs": [
    {
     "name": "stdout",
     "output_type": "stream",
     "text": [
      "The average silhouette_score with X_resampled is : 0.160883057347202\n"
     ]
    }
   ],
   "source": [
    "silhouette_avg_xos = silhouette_score(X_resampled, labels_gmm_xos)\n",
    "print(\"The average silhouette_score with X_resampled is :\", silhouette_avg_xos)"
   ]
  },
  {
   "cell_type": "code",
   "execution_count": 27,
   "metadata": {},
   "outputs": [
    {
     "name": "stdout",
     "output_type": "stream",
     "text": [
      "========================================\n",
      "=====   Expectation-Maximization   =====\n",
      "========================================\n",
      "= cluster_assingment_xt is  : (7752,)\n",
      "= cluster_means_xt is       : (10, 2304)\n",
      "= cluster_covariances_xt is : (10, 2304, 2304)\n",
      "========================================\n",
      "The average silhouette_score with X_train is : 0.14229382846914454\n",
      "========================================\n"
     ]
    }
   ],
   "source": [
    "#Expectation-Maximization\n",
    "# with X_train\n",
    "\n",
    "cluster_assingment_xt = gmm_xt.predict(X_train)\n",
    "\n",
    "silhouette_em_xt = silhouette_score(X_train, cluster_assingment_xt)\n",
    "\n",
    "cluster_means_xt = gmm_xt.means_\n",
    "cluster_covariances_xt = gmm_xt.covariances_\n",
    "\n",
    "print(\"========================================\")\n",
    "print(\"=====   Expectation-Maximization   =====\")\n",
    "print(\"========================================\")\n",
    "print(\"= cluster_assingment_xt is  :\", cluster_assingment_xt.shape)\n",
    "print(\"= cluster_means_xt is       :\", cluster_means_xt.shape)\n",
    "print(\"= cluster_covariances_xt is :\", cluster_covariances_xt.shape)\n",
    "print(\"========================================\")\n",
    "print(\"The average silhouette_score with X_train is :\", silhouette_em_xt)\n",
    "print(\"========================================\")"
   ]
  },
  {
   "cell_type": "code",
   "execution_count": 28,
   "metadata": {},
   "outputs": [
    {
     "name": "stdout",
     "output_type": "stream",
     "text": [
      "========================================\n",
      "=====   Expectation-Maximization   =====\n",
      "========================================\n",
      "= cluster_assingment_xos is  : (17930,)\n",
      "= cluster_means_xos is       : (10, 2304)\n",
      "= cluster_covariances_xos is : (10, 2304, 2304)\n",
      "========================================\n",
      "The average silhouette_score with X_resampled is : 0.160883057347202\n",
      "========================================\n"
     ]
    }
   ],
   "source": [
    "# with X_resampled\n",
    "\n",
    "cluster_assingment_xos = gmm_xos.predict(X_resampled)\n",
    "\n",
    "silhouette_em_xos = silhouette_score(X_resampled, cluster_assingment_xos)\n",
    "\n",
    "cluster_means_xos = gmm_xos.means_\n",
    "cluster_covariances_xos = gmm_xos.covariances_\n",
    "\n",
    "print(\"========================================\")\n",
    "print(\"=====   Expectation-Maximization   =====\")\n",
    "print(\"========================================\")\n",
    "print(\"= cluster_assingment_xos is  :\", cluster_assingment_xos.shape)\n",
    "print(\"= cluster_means_xos is       :\", cluster_means_xos.shape)\n",
    "print(\"= cluster_covariances_xos is :\", cluster_covariances_xos.shape)\n",
    "print(\"========================================\")\n",
    "print(\"The average silhouette_score with X_resampled is :\", silhouette_em_xos)\n",
    "print(\"========================================\")\n"
   ]
  }
 ],
 "metadata": {
  "kernelspec": {
   "display_name": "Python 3",
   "language": "python",
   "name": "python3"
  },
  "language_info": {
   "codemirror_mode": {
    "name": "ipython",
    "version": 3
   },
   "file_extension": ".py",
   "mimetype": "text/x-python",
   "name": "python",
   "nbconvert_exporter": "python",
   "pygments_lexer": "ipython3",
   "version": "3.9.6"
  }
 },
 "nbformat": 4,
 "nbformat_minor": 2
}
