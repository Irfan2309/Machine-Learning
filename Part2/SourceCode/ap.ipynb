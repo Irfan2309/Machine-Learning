{
 "cells": [
  {
   "cell_type": "code",
   "execution_count": 1,
   "metadata": {},
   "outputs": [],
   "source": [
    "import pandas as pd\n",
    "import numpy as np\n",
    "import matplotlib.pyplot as plt\n",
    "from sklearn.cluster import KMeans\n",
    "from sklearn.model_selection import train_test_split\n",
    "from sklearn.datasets import make_classification\n",
    "from imblearn.over_sampling import SMOTE\n",
    "from sklearn.naive_bayes import MultinomialNB\n",
    "from sklearn.metrics import accuracy_score, confusion_matrix, classification_report\n",
    "import seaborn as sns\n",
    "from sklearn.cluster import AffinityPropagation\n",
    "from sklearn.metrics import silhouette_score"
   ]
  },
  {
   "cell_type": "code",
   "execution_count": 2,
   "metadata": {},
   "outputs": [],
   "source": [
    "#Reading from CSV File and Storing in Dataframe\n",
    "X = pd.read_csv('../../Dataset/x_train_all.csv')\n",
    "y = pd.read_csv('../../Dataset/y_train_all.csv')"
   ]
  },
  {
   "cell_type": "code",
   "execution_count": 3,
   "metadata": {},
   "outputs": [
    {
     "name": "stdout",
     "output_type": "stream",
     "text": [
      "========================================\n",
      "Shape of X is  : (9690, 2304)\n",
      "Shape of y is  : (9690, 1)\n",
      "========================================\n"
     ]
    }
   ],
   "source": [
    "#Printing the shapes of the training\n",
    "print(\"========================================\")\n",
    "print(\"Shape of X is  :\", X.shape)\n",
    "print(\"Shape of y is  :\", y.shape)\n",
    "print(\"========================================\")"
   ]
  },
  {
   "cell_type": "code",
   "execution_count": 4,
   "metadata": {},
   "outputs": [],
   "source": [
    "#Splitting the data into training and testing\n",
    "X_train, X_test, y_train, y_test = train_test_split(X, y, test_size=0.2, random_state=42)"
   ]
  },
  {
   "cell_type": "code",
   "execution_count": 5,
   "metadata": {},
   "outputs": [
    {
     "name": "stdout",
     "output_type": "stream",
     "text": [
      "========================================\n",
      "=   Shape to train and test Dataset    =\n",
      "========================================\n",
      "= Shape of X_train is  : (7752, 2304)\n",
      "= Shape of y_train is  : (7752, 1)\n",
      "= Shape of X_test is   : (1938, 2304)\n",
      "= Shape of y_test is   : (1938, 1)\n",
      "========================================\n"
     ]
    }
   ],
   "source": [
    "#Printing the shapes of the training\n",
    "print(\"========================================\")\n",
    "print(\"=   Shape to train and test Dataset    =\")\n",
    "print(\"========================================\")\n",
    "print(\"= Shape of X_train is  :\", X_train.shape)\n",
    "print(\"= Shape of y_train is  :\", y_train.shape)\n",
    "print(\"= Shape of X_test is   :\", X_test.shape)\n",
    "print(\"= Shape of y_test is   :\", y_test.shape)\n",
    "print(\"========================================\")"
   ]
  },
  {
   "cell_type": "code",
   "execution_count": 6,
   "metadata": {},
   "outputs": [
    {
     "data": {
      "text/plain": [
       "((17930, 2304), (17930, 1))"
      ]
     },
     "execution_count": 6,
     "metadata": {},
     "output_type": "execute_result"
    }
   ],
   "source": [
    "#oversampling the data\n",
    "smote = SMOTE(sampling_strategy='auto', random_state=42)\n",
    "X_resampled, y_resampled = smote.fit_resample(X_train, y_train)\n",
    "X_resampled.shape, y_resampled.shape"
   ]
  },
  {
   "cell_type": "code",
   "execution_count": 7,
   "metadata": {},
   "outputs": [
    {
     "name": "stdout",
     "output_type": "stream",
     "text": [
      "========================================\n",
      "=====   Shape to train Dataset     =====\n",
      "========================================\n",
      "= Shape of X_train is  : (17930, 2304)\n",
      "= Shape of y_train is  : (17930, 1)\n",
      "========================================\n"
     ]
    }
   ],
   "source": [
    "#size of the data\n",
    "print(\"========================================\")\n",
    "print(\"=====   Shape to train Dataset     =====\")\n",
    "print(\"========================================\")\n",
    "print(\"= Shape of X_train is  :\", X_resampled.shape)\n",
    "print(\"= Shape of y_train is  :\", y_resampled.shape)\n",
    "print(\"========================================\")"
   ]
  },
  {
   "cell_type": "code",
   "execution_count": 8,
   "metadata": {},
   "outputs": [
    {
     "name": "stdout",
     "output_type": "stream",
     "text": [
      "========================================\n",
      "=====   Score to train Dataset     =====\n",
      "========================================\n",
      "= Score of X_train is  : 0.09475427924053681\n",
      "========================================\n"
     ]
    }
   ],
   "source": [
    "\n",
    "#with x_train\n",
    "affinity_propagation_xt = AffinityPropagation(damping=0.9).fit(X_train)\n",
    "\n",
    "cluster_assingments_xt = affinity_propagation_xt.labels_\n",
    "\n",
    "silhouette_score_at = silhouette_score(X_train, cluster_assingments_xt)\n",
    "#PRINTING THE SCORE\n",
    "print(\"========================================\")\n",
    "print(\"=====   Score to train Dataset     =====\")\n",
    "print(\"========================================\")\n",
    "print(\"= Score of X_train is  :\", silhouette_score_at)\n",
    "print(\"========================================\")\n"
   ]
  },
  {
   "cell_type": "code",
   "execution_count": 9,
   "metadata": {},
   "outputs": [
    {
     "ename": "KeyboardInterrupt",
     "evalue": "",
     "output_type": "error",
     "traceback": [
      "\u001b[0;31m---------------------------------------------------------------------------\u001b[0m",
      "\u001b[0;31mKeyboardInterrupt\u001b[0m                         Traceback (most recent call last)",
      "\u001b[1;32m/Users/naveenjain/Desktop/Year 4/SEM 1/F21DL/CW/DMML-CW/Part2/SourceCode/ap.ipynb Cell 9\u001b[0m line \u001b[0;36m2\n\u001b[1;32m      <a href='vscode-notebook-cell:/Users/naveenjain/Desktop/Year%204/SEM%201/F21DL/CW/DMML-CW/Part2/SourceCode/ap.ipynb#X11sZmlsZQ%3D%3D?line=0'>1</a>\u001b[0m \u001b[39m#with x_resampled\u001b[39;00m\n\u001b[0;32m----> <a href='vscode-notebook-cell:/Users/naveenjain/Desktop/Year%204/SEM%201/F21DL/CW/DMML-CW/Part2/SourceCode/ap.ipynb#X11sZmlsZQ%3D%3D?line=1'>2</a>\u001b[0m affinity_propagation_xos \u001b[39m=\u001b[39m AffinityPropagation(damping\u001b[39m=\u001b[39;49m\u001b[39m0.9\u001b[39;49m)\u001b[39m.\u001b[39;49mfit(X_resampled)\n\u001b[1;32m      <a href='vscode-notebook-cell:/Users/naveenjain/Desktop/Year%204/SEM%201/F21DL/CW/DMML-CW/Part2/SourceCode/ap.ipynb#X11sZmlsZQ%3D%3D?line=3'>4</a>\u001b[0m cluster_assingments_xos \u001b[39m=\u001b[39m affinity_propagation_xos\u001b[39m.\u001b[39mlabels_\n\u001b[1;32m      <a href='vscode-notebook-cell:/Users/naveenjain/Desktop/Year%204/SEM%201/F21DL/CW/DMML-CW/Part2/SourceCode/ap.ipynb#X11sZmlsZQ%3D%3D?line=5'>6</a>\u001b[0m silhouette_score_xos \u001b[39m=\u001b[39m silhouette_score(X_resampled, cluster_assingments_xos)\n",
      "File \u001b[0;32m~/Library/Python/3.9/lib/python/site-packages/sklearn/base.py:1152\u001b[0m, in \u001b[0;36m_fit_context.<locals>.decorator.<locals>.wrapper\u001b[0;34m(estimator, *args, **kwargs)\u001b[0m\n\u001b[1;32m   1145\u001b[0m     estimator\u001b[39m.\u001b[39m_validate_params()\n\u001b[1;32m   1147\u001b[0m \u001b[39mwith\u001b[39;00m config_context(\n\u001b[1;32m   1148\u001b[0m     skip_parameter_validation\u001b[39m=\u001b[39m(\n\u001b[1;32m   1149\u001b[0m         prefer_skip_nested_validation \u001b[39mor\u001b[39;00m global_skip_validation\n\u001b[1;32m   1150\u001b[0m     )\n\u001b[1;32m   1151\u001b[0m ):\n\u001b[0;32m-> 1152\u001b[0m     \u001b[39mreturn\u001b[39;00m fit_method(estimator, \u001b[39m*\u001b[39;49margs, \u001b[39m*\u001b[39;49m\u001b[39m*\u001b[39;49mkwargs)\n",
      "File \u001b[0;32m~/Library/Python/3.9/lib/python/site-packages/sklearn/cluster/_affinity_propagation.py:520\u001b[0m, in \u001b[0;36mAffinityPropagation.fit\u001b[0;34m(self, X, y)\u001b[0m\n\u001b[1;32m    512\u001b[0m preference \u001b[39m=\u001b[39m np\u001b[39m.\u001b[39marray(preference, copy\u001b[39m=\u001b[39m\u001b[39mFalse\u001b[39;00m)\n\u001b[1;32m    514\u001b[0m random_state \u001b[39m=\u001b[39m check_random_state(\u001b[39mself\u001b[39m\u001b[39m.\u001b[39mrandom_state)\n\u001b[1;32m    516\u001b[0m (\n\u001b[1;32m    517\u001b[0m     \u001b[39mself\u001b[39m\u001b[39m.\u001b[39mcluster_centers_indices_,\n\u001b[1;32m    518\u001b[0m     \u001b[39mself\u001b[39m\u001b[39m.\u001b[39mlabels_,\n\u001b[1;32m    519\u001b[0m     \u001b[39mself\u001b[39m\u001b[39m.\u001b[39mn_iter_,\n\u001b[0;32m--> 520\u001b[0m ) \u001b[39m=\u001b[39m _affinity_propagation(\n\u001b[1;32m    521\u001b[0m     \u001b[39mself\u001b[39;49m\u001b[39m.\u001b[39;49maffinity_matrix_,\n\u001b[1;32m    522\u001b[0m     max_iter\u001b[39m=\u001b[39;49m\u001b[39mself\u001b[39;49m\u001b[39m.\u001b[39;49mmax_iter,\n\u001b[1;32m    523\u001b[0m     convergence_iter\u001b[39m=\u001b[39;49m\u001b[39mself\u001b[39;49m\u001b[39m.\u001b[39;49mconvergence_iter,\n\u001b[1;32m    524\u001b[0m     preference\u001b[39m=\u001b[39;49mpreference,\n\u001b[1;32m    525\u001b[0m     damping\u001b[39m=\u001b[39;49m\u001b[39mself\u001b[39;49m\u001b[39m.\u001b[39;49mdamping,\n\u001b[1;32m    526\u001b[0m     verbose\u001b[39m=\u001b[39;49m\u001b[39mself\u001b[39;49m\u001b[39m.\u001b[39;49mverbose,\n\u001b[1;32m    527\u001b[0m     return_n_iter\u001b[39m=\u001b[39;49m\u001b[39mTrue\u001b[39;49;00m,\n\u001b[1;32m    528\u001b[0m     random_state\u001b[39m=\u001b[39;49mrandom_state,\n\u001b[1;32m    529\u001b[0m )\n\u001b[1;32m    531\u001b[0m \u001b[39mif\u001b[39;00m \u001b[39mself\u001b[39m\u001b[39m.\u001b[39maffinity \u001b[39m!=\u001b[39m \u001b[39m\"\u001b[39m\u001b[39mprecomputed\u001b[39m\u001b[39m\"\u001b[39m:\n\u001b[1;32m    532\u001b[0m     \u001b[39mself\u001b[39m\u001b[39m.\u001b[39mcluster_centers_ \u001b[39m=\u001b[39m X[\u001b[39mself\u001b[39m\u001b[39m.\u001b[39mcluster_centers_indices_]\u001b[39m.\u001b[39mcopy()\n",
      "File \u001b[0;32m~/Library/Python/3.9/lib/python/site-packages/sklearn/cluster/_affinity_propagation.py:93\u001b[0m, in \u001b[0;36m_affinity_propagation\u001b[0;34m(S, preference, convergence_iter, max_iter, damping, verbose, return_n_iter, random_state)\u001b[0m\n\u001b[1;32m     91\u001b[0m Y \u001b[39m=\u001b[39m tmp[ind, I]  \u001b[39m# np.max(A + S, axis=1)\u001b[39;00m\n\u001b[1;32m     92\u001b[0m tmp[ind, I] \u001b[39m=\u001b[39m \u001b[39m-\u001b[39mnp\u001b[39m.\u001b[39minf\n\u001b[0;32m---> 93\u001b[0m Y2 \u001b[39m=\u001b[39m np\u001b[39m.\u001b[39;49mmax(tmp, axis\u001b[39m=\u001b[39;49m\u001b[39m1\u001b[39;49m)\n\u001b[1;32m     95\u001b[0m \u001b[39m# tmp = Rnew\u001b[39;00m\n\u001b[1;32m     96\u001b[0m np\u001b[39m.\u001b[39msubtract(S, Y[:, \u001b[39mNone\u001b[39;00m], tmp)\n",
      "File \u001b[0;32m~/Library/Python/3.9/lib/python/site-packages/numpy/core/fromnumeric.py:2810\u001b[0m, in \u001b[0;36mmax\u001b[0;34m(a, axis, out, keepdims, initial, where)\u001b[0m\n\u001b[1;32m   2692\u001b[0m \u001b[39m@array_function_dispatch\u001b[39m(_max_dispatcher)\n\u001b[1;32m   2693\u001b[0m \u001b[39m@set_module\u001b[39m(\u001b[39m'\u001b[39m\u001b[39mnumpy\u001b[39m\u001b[39m'\u001b[39m)\n\u001b[1;32m   2694\u001b[0m \u001b[39mdef\u001b[39;00m \u001b[39mmax\u001b[39m(a, axis\u001b[39m=\u001b[39m\u001b[39mNone\u001b[39;00m, out\u001b[39m=\u001b[39m\u001b[39mNone\u001b[39;00m, keepdims\u001b[39m=\u001b[39mnp\u001b[39m.\u001b[39m_NoValue, initial\u001b[39m=\u001b[39mnp\u001b[39m.\u001b[39m_NoValue,\n\u001b[1;32m   2695\u001b[0m          where\u001b[39m=\u001b[39mnp\u001b[39m.\u001b[39m_NoValue):\n\u001b[1;32m   2696\u001b[0m \u001b[39m    \u001b[39m\u001b[39m\"\"\"\u001b[39;00m\n\u001b[1;32m   2697\u001b[0m \u001b[39m    Return the maximum of an array or maximum along an axis.\u001b[39;00m\n\u001b[1;32m   2698\u001b[0m \n\u001b[0;32m   (...)\u001b[0m\n\u001b[1;32m   2808\u001b[0m \u001b[39m    5\u001b[39;00m\n\u001b[1;32m   2809\u001b[0m \u001b[39m    \"\"\"\u001b[39;00m\n\u001b[0;32m-> 2810\u001b[0m     \u001b[39mreturn\u001b[39;00m _wrapreduction(a, np\u001b[39m.\u001b[39;49mmaximum, \u001b[39m'\u001b[39;49m\u001b[39mmax\u001b[39;49m\u001b[39m'\u001b[39;49m, axis, \u001b[39mNone\u001b[39;49;00m, out,\n\u001b[1;32m   2811\u001b[0m                           keepdims\u001b[39m=\u001b[39;49mkeepdims, initial\u001b[39m=\u001b[39;49minitial, where\u001b[39m=\u001b[39;49mwhere)\n",
      "File \u001b[0;32m~/Library/Python/3.9/lib/python/site-packages/numpy/core/fromnumeric.py:88\u001b[0m, in \u001b[0;36m_wrapreduction\u001b[0;34m(obj, ufunc, method, axis, dtype, out, **kwargs)\u001b[0m\n\u001b[1;32m     85\u001b[0m         \u001b[39melse\u001b[39;00m:\n\u001b[1;32m     86\u001b[0m             \u001b[39mreturn\u001b[39;00m reduction(axis\u001b[39m=\u001b[39maxis, out\u001b[39m=\u001b[39mout, \u001b[39m*\u001b[39m\u001b[39m*\u001b[39mpasskwargs)\n\u001b[0;32m---> 88\u001b[0m \u001b[39mreturn\u001b[39;00m ufunc\u001b[39m.\u001b[39;49mreduce(obj, axis, dtype, out, \u001b[39m*\u001b[39;49m\u001b[39m*\u001b[39;49mpasskwargs)\n",
      "\u001b[0;31mKeyboardInterrupt\u001b[0m: "
     ]
    }
   ],
   "source": [
    "#with x_resampled\n",
    "affinity_propagation_xos = AffinityPropagation(damping=0.9).fit(X_resampled)\n",
    "\n",
    "cluster_assingments_xos = affinity_propagation_xos.labels_\n",
    "\n",
    "silhouette_score_xos = silhouette_score(X_resampled, cluster_assingments_xos)\n",
    "#PRINTING THE SCORE\n",
    "print(\"========================================\")\n",
    "print(\"=====   Score to train Dataset     =====\")\n",
    "print(\"========================================\")\n",
    "print(\"= Score of X_train is  :\", silhouette_score_xos)\n",
    "print(\"========================================\")"
   ]
  }
 ],
 "metadata": {
  "kernelspec": {
   "display_name": "Python 3",
   "language": "python",
   "name": "python3"
  },
  "language_info": {
   "codemirror_mode": {
    "name": "ipython",
    "version": 3
   },
   "file_extension": ".py",
   "mimetype": "text/x-python",
   "name": "python",
   "nbconvert_exporter": "python",
   "pygments_lexer": "ipython3",
   "version": "3.9.6"
  }
 },
 "nbformat": 4,
 "nbformat_minor": 2
}
