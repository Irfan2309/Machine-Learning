{
 "cells": [
  {
   "cell_type": "code",
   "execution_count": 2,
   "metadata": {},
   "outputs": [],
   "source": [
    "import pandas as pd\n",
    "import numpy as np\n",
    "import matplotlib.pyplot as plt\n",
    "from sklearn.cluster import KMeans\n",
    "from sklearn.model_selection import train_test_split\n",
    "from sklearn.datasets import make_classification\n",
    "from imblearn.over_sampling import SMOTE\n",
    "from sklearn.naive_bayes import MultinomialNB\n",
    "from sklearn.metrics import accuracy_score, confusion_matrix, classification_report\n",
    "import seaborn as sns\n",
    "from sklearn.cluster import SpectralClustering\n",
    "from sklearn.metrics import silhouette_score"
   ]
  },
  {
   "cell_type": "code",
   "execution_count": 4,
   "metadata": {},
   "outputs": [],
   "source": [
    "#Reading from CSV File and Storing in Dataframe\n",
    "X = pd.read_csv('../../Dataset/x_train_all.csv')\n",
    "y = pd.read_csv('../../Dataset/y_train_all.csv')"
   ]
  },
  {
   "cell_type": "code",
   "execution_count": 5,
   "metadata": {},
   "outputs": [
    {
     "name": "stdout",
     "output_type": "stream",
     "text": [
      "========================================\n",
      "Shape of X is  : (9690, 2304)\n",
      "Shape of y is  : (9690, 1)\n",
      "========================================\n"
     ]
    }
   ],
   "source": [
    "#Printing the shapes of the training\n",
    "print(\"========================================\")\n",
    "print(\"Shape of X is  :\", X.shape)\n",
    "print(\"Shape of y is  :\", y.shape)\n",
    "print(\"========================================\")"
   ]
  },
  {
   "cell_type": "code",
   "execution_count": 6,
   "metadata": {},
   "outputs": [],
   "source": [
    "#Splitting the data into training and testing\n",
    "X_train, X_test, y_train, y_test = train_test_split(X, y, test_size=0.2, random_state=42)"
   ]
  },
  {
   "cell_type": "code",
   "execution_count": 7,
   "metadata": {},
   "outputs": [
    {
     "name": "stdout",
     "output_type": "stream",
     "text": [
      "========================================\n",
      "=   Shape to train and test Dataset    =\n",
      "========================================\n",
      "= Shape of X_train is  : (7752, 2304)\n",
      "= Shape of y_train is  : (7752, 1)\n",
      "= Shape of X_test is   : (1938, 2304)\n",
      "= Shape of y_test is   : (1938, 1)\n",
      "========================================\n"
     ]
    }
   ],
   "source": [
    "#Printing the shapes of the training\n",
    "print(\"========================================\")\n",
    "print(\"=   Shape to train and test Dataset    =\")\n",
    "print(\"========================================\")\n",
    "print(\"= Shape of X_train is  :\", X_train.shape)\n",
    "print(\"= Shape of y_train is  :\", y_train.shape)\n",
    "print(\"= Shape of X_test is   :\", X_test.shape)\n",
    "print(\"= Shape of y_test is   :\", y_test.shape)\n",
    "print(\"========================================\")"
   ]
  },
  {
   "cell_type": "code",
   "execution_count": 8,
   "metadata": {},
   "outputs": [
    {
     "data": {
      "text/plain": [
       "((17930, 2304), (17930, 1))"
      ]
     },
     "execution_count": 8,
     "metadata": {},
     "output_type": "execute_result"
    }
   ],
   "source": [
    "#oversampling the data\n",
    "smote = SMOTE(sampling_strategy='auto', random_state=42)\n",
    "X_resampled, y_resampled = smote.fit_resample(X_train, y_train)\n",
    "X_resampled.shape, y_resampled.shape"
   ]
  },
  {
   "cell_type": "code",
   "execution_count": 9,
   "metadata": {},
   "outputs": [
    {
     "name": "stdout",
     "output_type": "stream",
     "text": [
      "========================================\n",
      "=====   Shape to train Dataset     =====\n",
      "========================================\n",
      "= Shape of X_train is  : (17930, 2304)\n",
      "= Shape of y_train is  : (17930, 1)\n",
      "========================================\n"
     ]
    }
   ],
   "source": [
    "#size of the data\n",
    "print(\"========================================\")\n",
    "print(\"=====   Shape to train Dataset     =====\")\n",
    "print(\"========================================\")\n",
    "print(\"= Shape of X_train is  :\", X_resampled.shape)\n",
    "print(\"= Shape of y_train is  :\", y_resampled.shape)\n",
    "print(\"========================================\")"
   ]
  },
  {
   "cell_type": "code",
   "execution_count": 12,
   "metadata": {},
   "outputs": [
    {
     "name": "stderr",
     "output_type": "stream",
     "text": [
      "/Users/naveenjain/Library/Python/3.9/lib/python/site-packages/sklearn/manifold/_spectral_embedding.py:273: UserWarning: Graph is not fully connected, spectral embedding may not work as expected.\n",
      "  warnings.warn(\n"
     ]
    }
   ],
   "source": [
    "#with x_train\n",
    "spectral_clustering_xt = SpectralClustering(n_clusters=2, random_state=42)\n",
    "clusters_xt = spectral_clustering_xt.fit(X_train)\n",
    "\n",
    "silhouette_avg_xt = silhouette_score(X_train, clusters_xt.labels_)"
   ]
  },
  {
   "cell_type": "code",
   "execution_count": 13,
   "metadata": {},
   "outputs": [
    {
     "name": "stdout",
     "output_type": "stream",
     "text": [
      "========================================\n",
      "=   Silhouette Score with X_train      =\n",
      "========================================\n",
      "= The average silhouette_score is : 0.00047074944716047175\n",
      "========================================\n"
     ]
    }
   ],
   "source": [
    "#printing the silhouette score\n",
    "print(\"========================================\")\n",
    "print(\"=   Silhouette Score with X_train      =\")\n",
    "print(\"========================================\")\n",
    "print(\"= The average silhouette_score is :\", silhouette_avg_xt)\n",
    "print(\"========================================\")"
   ]
  },
  {
   "cell_type": "code",
   "execution_count": 14,
   "metadata": {},
   "outputs": [
    {
     "name": "stderr",
     "output_type": "stream",
     "text": [
      "/Users/naveenjain/Library/Python/3.9/lib/python/site-packages/sklearn/manifold/_spectral_embedding.py:273: UserWarning: Graph is not fully connected, spectral embedding may not work as expected.\n",
      "  warnings.warn(\n"
     ]
    },
    {
     "ename": "KeyboardInterrupt",
     "evalue": "",
     "output_type": "error",
     "traceback": [
      "\u001b[0;31m---------------------------------------------------------------------------\u001b[0m",
      "\u001b[0;31mKeyboardInterrupt\u001b[0m                         Traceback (most recent call last)",
      "\u001b[1;32m/Users/naveenjain/Desktop/Year 4/SEM 1/F21DL/CW/DMML-CW/Part2/SourceCode/spectral.ipynb Cell 10\u001b[0m line \u001b[0;36m3\n\u001b[1;32m      <a href='vscode-notebook-cell:/Users/naveenjain/Desktop/Year%204/SEM%201/F21DL/CW/DMML-CW/Part2/SourceCode/spectral.ipynb#X11sZmlsZQ%3D%3D?line=0'>1</a>\u001b[0m \u001b[39m#with x_oversampled\u001b[39;00m\n\u001b[1;32m      <a href='vscode-notebook-cell:/Users/naveenjain/Desktop/Year%204/SEM%201/F21DL/CW/DMML-CW/Part2/SourceCode/spectral.ipynb#X11sZmlsZQ%3D%3D?line=1'>2</a>\u001b[0m spectral_clustering_xos \u001b[39m=\u001b[39m SpectralClustering(n_clusters\u001b[39m=\u001b[39m\u001b[39m2\u001b[39m, random_state\u001b[39m=\u001b[39m\u001b[39m42\u001b[39m)\n\u001b[0;32m----> <a href='vscode-notebook-cell:/Users/naveenjain/Desktop/Year%204/SEM%201/F21DL/CW/DMML-CW/Part2/SourceCode/spectral.ipynb#X11sZmlsZQ%3D%3D?line=2'>3</a>\u001b[0m clusters_xos \u001b[39m=\u001b[39m spectral_clustering_xos\u001b[39m.\u001b[39;49mfit(X_resampled)\n\u001b[1;32m      <a href='vscode-notebook-cell:/Users/naveenjain/Desktop/Year%204/SEM%201/F21DL/CW/DMML-CW/Part2/SourceCode/spectral.ipynb#X11sZmlsZQ%3D%3D?line=4'>5</a>\u001b[0m silhouette_avg_xos \u001b[39m=\u001b[39m silhouette_score(X_resampled, clusters_xos\u001b[39m.\u001b[39mlabels_)\n",
      "File \u001b[0;32m~/Library/Python/3.9/lib/python/site-packages/sklearn/base.py:1152\u001b[0m, in \u001b[0;36m_fit_context.<locals>.decorator.<locals>.wrapper\u001b[0;34m(estimator, *args, **kwargs)\u001b[0m\n\u001b[1;32m   1145\u001b[0m     estimator\u001b[39m.\u001b[39m_validate_params()\n\u001b[1;32m   1147\u001b[0m \u001b[39mwith\u001b[39;00m config_context(\n\u001b[1;32m   1148\u001b[0m     skip_parameter_validation\u001b[39m=\u001b[39m(\n\u001b[1;32m   1149\u001b[0m         prefer_skip_nested_validation \u001b[39mor\u001b[39;00m global_skip_validation\n\u001b[1;32m   1150\u001b[0m     )\n\u001b[1;32m   1151\u001b[0m ):\n\u001b[0;32m-> 1152\u001b[0m     \u001b[39mreturn\u001b[39;00m fit_method(estimator, \u001b[39m*\u001b[39;49margs, \u001b[39m*\u001b[39;49m\u001b[39m*\u001b[39;49mkwargs)\n",
      "File \u001b[0;32m~/Library/Python/3.9/lib/python/site-packages/sklearn/cluster/_spectral.py:730\u001b[0m, in \u001b[0;36mSpectralClustering.fit\u001b[0;34m(self, X, y)\u001b[0m\n\u001b[1;32m    721\u001b[0m n_components \u001b[39m=\u001b[39m (\n\u001b[1;32m    722\u001b[0m     \u001b[39mself\u001b[39m\u001b[39m.\u001b[39mn_clusters \u001b[39mif\u001b[39;00m \u001b[39mself\u001b[39m\u001b[39m.\u001b[39mn_components \u001b[39mis\u001b[39;00m \u001b[39mNone\u001b[39;00m \u001b[39melse\u001b[39;00m \u001b[39mself\u001b[39m\u001b[39m.\u001b[39mn_components\n\u001b[1;32m    723\u001b[0m )\n\u001b[1;32m    724\u001b[0m \u001b[39m# We now obtain the real valued solution matrix to the\u001b[39;00m\n\u001b[1;32m    725\u001b[0m \u001b[39m# relaxed Ncut problem, solving the eigenvalue problem\u001b[39;00m\n\u001b[1;32m    726\u001b[0m \u001b[39m# L_sym x = lambda x  and recovering u = D^-1/2 x.\u001b[39;00m\n\u001b[1;32m    727\u001b[0m \u001b[39m# The first eigenvector is constant only for fully connected graphs\u001b[39;00m\n\u001b[1;32m    728\u001b[0m \u001b[39m# and should be kept for spectral clustering (drop_first = False)\u001b[39;00m\n\u001b[1;32m    729\u001b[0m \u001b[39m# See spectral_embedding documentation.\u001b[39;00m\n\u001b[0;32m--> 730\u001b[0m maps \u001b[39m=\u001b[39m spectral_embedding(\n\u001b[1;32m    731\u001b[0m     \u001b[39mself\u001b[39;49m\u001b[39m.\u001b[39;49maffinity_matrix_,\n\u001b[1;32m    732\u001b[0m     n_components\u001b[39m=\u001b[39;49mn_components,\n\u001b[1;32m    733\u001b[0m     eigen_solver\u001b[39m=\u001b[39;49m\u001b[39mself\u001b[39;49m\u001b[39m.\u001b[39;49meigen_solver,\n\u001b[1;32m    734\u001b[0m     random_state\u001b[39m=\u001b[39;49mrandom_state,\n\u001b[1;32m    735\u001b[0m     eigen_tol\u001b[39m=\u001b[39;49m\u001b[39mself\u001b[39;49m\u001b[39m.\u001b[39;49meigen_tol,\n\u001b[1;32m    736\u001b[0m     drop_first\u001b[39m=\u001b[39;49m\u001b[39mFalse\u001b[39;49;00m,\n\u001b[1;32m    737\u001b[0m )\n\u001b[1;32m    738\u001b[0m \u001b[39mif\u001b[39;00m \u001b[39mself\u001b[39m\u001b[39m.\u001b[39mverbose:\n\u001b[1;32m    739\u001b[0m     \u001b[39mprint\u001b[39m(\u001b[39mf\u001b[39m\u001b[39m\"\u001b[39m\u001b[39mComputing label assignment using \u001b[39m\u001b[39m{\u001b[39;00m\u001b[39mself\u001b[39m\u001b[39m.\u001b[39massign_labels\u001b[39m}\u001b[39;00m\u001b[39m\"\u001b[39m)\n",
      "File \u001b[0;32m~/Library/Python/3.9/lib/python/site-packages/sklearn/manifold/_spectral_embedding.py:313\u001b[0m, in \u001b[0;36mspectral_embedding\u001b[0;34m(adjacency, n_components, eigen_solver, random_state, eigen_tol, norm_laplacian, drop_first)\u001b[0m\n\u001b[1;32m    311\u001b[0m laplacian \u001b[39m*\u001b[39m\u001b[39m=\u001b[39m \u001b[39m-\u001b[39m\u001b[39m1\u001b[39m\n\u001b[1;32m    312\u001b[0m v0 \u001b[39m=\u001b[39m _init_arpack_v0(laplacian\u001b[39m.\u001b[39mshape[\u001b[39m0\u001b[39m], random_state)\n\u001b[0;32m--> 313\u001b[0m _, diffusion_map \u001b[39m=\u001b[39m eigsh(\n\u001b[1;32m    314\u001b[0m     laplacian, k\u001b[39m=\u001b[39;49mn_components, sigma\u001b[39m=\u001b[39;49m\u001b[39m1.0\u001b[39;49m, which\u001b[39m=\u001b[39;49m\u001b[39m\"\u001b[39;49m\u001b[39mLM\u001b[39;49m\u001b[39m\"\u001b[39;49m, tol\u001b[39m=\u001b[39;49mtol, v0\u001b[39m=\u001b[39;49mv0\n\u001b[1;32m    315\u001b[0m )\n\u001b[1;32m    316\u001b[0m embedding \u001b[39m=\u001b[39m diffusion_map\u001b[39m.\u001b[39mT[n_components::\u001b[39m-\u001b[39m\u001b[39m1\u001b[39m]\n\u001b[1;32m    317\u001b[0m \u001b[39mif\u001b[39;00m norm_laplacian:\n\u001b[1;32m    318\u001b[0m     \u001b[39m# recover u = D^-1/2 x from the eigenvector output x\u001b[39;00m\n",
      "File \u001b[0;32m~/Library/Python/3.9/lib/python/site-packages/scipy/sparse/linalg/_eigen/arpack/arpack.py:1697\u001b[0m, in \u001b[0;36meigsh\u001b[0;34m(A, k, M, sigma, which, v0, ncv, maxiter, tol, return_eigenvectors, Minv, OPinv, mode)\u001b[0m\n\u001b[1;32m   1695\u001b[0m \u001b[39mwith\u001b[39;00m _ARPACK_LOCK:\n\u001b[1;32m   1696\u001b[0m     \u001b[39mwhile\u001b[39;00m \u001b[39mnot\u001b[39;00m params\u001b[39m.\u001b[39mconverged:\n\u001b[0;32m-> 1697\u001b[0m         params\u001b[39m.\u001b[39;49miterate()\n\u001b[1;32m   1699\u001b[0m     \u001b[39mreturn\u001b[39;00m params\u001b[39m.\u001b[39mextract(return_eigenvectors)\n",
      "File \u001b[0;32m~/Library/Python/3.9/lib/python/site-packages/scipy/sparse/linalg/_eigen/arpack/arpack.py:560\u001b[0m, in \u001b[0;36m_SymmetricArpackParams.iterate\u001b[0;34m(self)\u001b[0m\n\u001b[1;32m    558\u001b[0m     \u001b[39melse\u001b[39;00m:\n\u001b[1;32m    559\u001b[0m         Bxslice \u001b[39m=\u001b[39m \u001b[39mslice\u001b[39m(\u001b[39mself\u001b[39m\u001b[39m.\u001b[39mipntr[\u001b[39m2\u001b[39m] \u001b[39m-\u001b[39m \u001b[39m1\u001b[39m, \u001b[39mself\u001b[39m\u001b[39m.\u001b[39mipntr[\u001b[39m2\u001b[39m] \u001b[39m-\u001b[39m \u001b[39m1\u001b[39m \u001b[39m+\u001b[39m \u001b[39mself\u001b[39m\u001b[39m.\u001b[39mn)\n\u001b[0;32m--> 560\u001b[0m         \u001b[39mself\u001b[39m\u001b[39m.\u001b[39mworkd[yslice] \u001b[39m=\u001b[39m \u001b[39mself\u001b[39;49m\u001b[39m.\u001b[39;49mOPa(\u001b[39mself\u001b[39;49m\u001b[39m.\u001b[39;49mworkd[Bxslice])\n\u001b[1;32m    561\u001b[0m \u001b[39melif\u001b[39;00m \u001b[39mself\u001b[39m\u001b[39m.\u001b[39mido \u001b[39m==\u001b[39m \u001b[39m2\u001b[39m:\n\u001b[1;32m    562\u001b[0m     \u001b[39mself\u001b[39m\u001b[39m.\u001b[39mworkd[yslice] \u001b[39m=\u001b[39m \u001b[39mself\u001b[39m\u001b[39m.\u001b[39mB(\u001b[39mself\u001b[39m\u001b[39m.\u001b[39mworkd[xslice])\n",
      "File \u001b[0;32m~/Library/Python/3.9/lib/python/site-packages/scipy/sparse/linalg/_interface.py:234\u001b[0m, in \u001b[0;36mLinearOperator.matvec\u001b[0;34m(self, x)\u001b[0m\n\u001b[1;32m    231\u001b[0m \u001b[39mif\u001b[39;00m x\u001b[39m.\u001b[39mshape \u001b[39m!=\u001b[39m (N,) \u001b[39mand\u001b[39;00m x\u001b[39m.\u001b[39mshape \u001b[39m!=\u001b[39m (N,\u001b[39m1\u001b[39m):\n\u001b[1;32m    232\u001b[0m     \u001b[39mraise\u001b[39;00m \u001b[39mValueError\u001b[39;00m(\u001b[39m'\u001b[39m\u001b[39mdimension mismatch\u001b[39m\u001b[39m'\u001b[39m)\n\u001b[0;32m--> 234\u001b[0m y \u001b[39m=\u001b[39m \u001b[39mself\u001b[39;49m\u001b[39m.\u001b[39;49m_matvec(x)\n\u001b[1;32m    236\u001b[0m \u001b[39mif\u001b[39;00m \u001b[39misinstance\u001b[39m(x, np\u001b[39m.\u001b[39mmatrix):\n\u001b[1;32m    237\u001b[0m     y \u001b[39m=\u001b[39m asmatrix(y)\n",
      "File \u001b[0;32m~/Library/Python/3.9/lib/python/site-packages/scipy/sparse/linalg/_eigen/arpack/arpack.py:944\u001b[0m, in \u001b[0;36mLuInv._matvec\u001b[0;34m(self, x)\u001b[0m\n\u001b[1;32m    943\u001b[0m \u001b[39mdef\u001b[39;00m \u001b[39m_matvec\u001b[39m(\u001b[39mself\u001b[39m, x):\n\u001b[0;32m--> 944\u001b[0m     \u001b[39mreturn\u001b[39;00m lu_solve(\u001b[39mself\u001b[39;49m\u001b[39m.\u001b[39;49mM_lu, x)\n",
      "File \u001b[0;32m~/Library/Python/3.9/lib/python/site-packages/scipy/linalg/_decomp_lu.py:152\u001b[0m, in \u001b[0;36mlu_solve\u001b[0;34m(lu_and_piv, b, trans, overwrite_b, check_finite)\u001b[0m\n\u001b[1;32m    148\u001b[0m     \u001b[39mraise\u001b[39;00m \u001b[39mValueError\u001b[39;00m(\u001b[39m\"\u001b[39m\u001b[39mShapes of lu \u001b[39m\u001b[39m{}\u001b[39;00m\u001b[39m and b \u001b[39m\u001b[39m{}\u001b[39;00m\u001b[39m are incompatible\u001b[39m\u001b[39m\"\u001b[39m\n\u001b[1;32m    149\u001b[0m                      \u001b[39m.\u001b[39mformat(lu\u001b[39m.\u001b[39mshape, b1\u001b[39m.\u001b[39mshape))\n\u001b[1;32m    151\u001b[0m getrs, \u001b[39m=\u001b[39m get_lapack_funcs((\u001b[39m'\u001b[39m\u001b[39mgetrs\u001b[39m\u001b[39m'\u001b[39m,), (lu, b1))\n\u001b[0;32m--> 152\u001b[0m x, info \u001b[39m=\u001b[39m getrs(lu, piv, b1, trans\u001b[39m=\u001b[39;49mtrans, overwrite_b\u001b[39m=\u001b[39;49moverwrite_b)\n\u001b[1;32m    153\u001b[0m \u001b[39mif\u001b[39;00m info \u001b[39m==\u001b[39m \u001b[39m0\u001b[39m:\n\u001b[1;32m    154\u001b[0m     \u001b[39mreturn\u001b[39;00m x\n",
      "\u001b[0;31mKeyboardInterrupt\u001b[0m: "
     ]
    }
   ],
   "source": [
    "#with x_oversampled\n",
    "spectral_clustering_xos = SpectralClustering(n_clusters=2, random_state=42)\n",
    "clusters_xos = spectral_clustering_xos.fit(X_resampled)\n",
    "\n",
    "silhouette_avg_xos = silhouette_score(X_resampled, clusters_xos.labels_)"
   ]
  },
  {
   "cell_type": "code",
   "execution_count": null,
   "metadata": {},
   "outputs": [],
   "source": [
    "#printing the silhouette score\n",
    "print(\"========================================\")\n",
    "print(\"=   Silhouette Score with X_oversample =\")\n",
    "print(\"========================================\")\n",
    "print(\"= The average silhouette_score is :\", silhouette_avg_xos)\n",
    "print(\"========================================\")"
   ]
  }
 ],
 "metadata": {
  "kernelspec": {
   "display_name": "Python 3",
   "language": "python",
   "name": "python3"
  },
  "language_info": {
   "codemirror_mode": {
    "name": "ipython",
    "version": 3
   },
   "file_extension": ".py",
   "mimetype": "text/x-python",
   "name": "python",
   "nbconvert_exporter": "python",
   "pygments_lexer": "ipython3",
   "version": "3.9.6"
  }
 },
 "nbformat": 4,
 "nbformat_minor": 2
}
