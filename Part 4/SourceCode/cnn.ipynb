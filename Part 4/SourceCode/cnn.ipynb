{
 "cells": [
  {
   "cell_type": "code",
   "execution_count": 83,
   "metadata": {},
   "outputs": [],
   "source": [
    "import tensorflow as tf\n",
    "from tensorflow.keras.models import Sequential\n",
    "from tensorflow.keras.layers import Dense, Flatten, Conv2D, MaxPooling2D\n",
    "from tensorflow.keras.optimizers import Adam\n",
    "import pandas as pd"
   ]
  },
  {
   "cell_type": "code",
   "execution_count": 84,
   "metadata": {},
   "outputs": [],
   "source": [
    "#Reading from CSV File and Storing in Dataframe\n",
    "X_train = pd.read_csv('../../Dataset/x_train_all.csv')\n",
    "y_train = pd.read_csv('../../Dataset/y_train_all.csv')\n",
    "X_test = pd.read_csv('../../Dataset/x_test_all.csv')\n",
    "y_test = pd.read_csv('../../Dataset/y_test_all.csv')"
   ]
  },
  {
   "cell_type": "code",
   "execution_count": 85,
   "metadata": {},
   "outputs": [
    {
     "name": "stdout",
     "output_type": "stream",
     "text": [
      "========================================\n",
      "=   Shape to train and test Dataset    =\n",
      "========================================\n",
      "= Shape of X_train is  : (9690, 2304)\n",
      "= Shape of y_train is  : (9690, 1)\n",
      "= Shape of X_test is   : (3090, 2304)\n",
      "= Shape of y_test is   : (3090, 1)\n",
      "========================================\n"
     ]
    }
   ],
   "source": [
    "#Printing the shapes of the training\n",
    "print(\"========================================\")\n",
    "print(\"=   Shape to train and test Dataset    =\")\n",
    "print(\"========================================\")\n",
    "print(\"= Shape of X_train is  :\", X_train.shape)\n",
    "print(\"= Shape of y_train is  :\", y_train.shape)\n",
    "print(\"= Shape of X_test is   :\", X_test.shape)\n",
    "print(\"= Shape of y_test is   :\", y_test.shape)\n",
    "print(\"========================================\")"
   ]
  },
  {
   "cell_type": "code",
   "execution_count": 86,
   "metadata": {},
   "outputs": [],
   "source": [
    "# Reshaping the dataset\n",
    "X_train = X_train.values.reshape(-1, 48, 48, 1)\n",
    "X_test = X_test.values.reshape(-1, 48, 48, 1)"
   ]
  },
  {
   "cell_type": "code",
   "execution_count": 87,
   "metadata": {},
   "outputs": [
    {
     "name": "stdout",
     "output_type": "stream",
     "text": [
      "==========================================\n",
      "=   ReShape to train and test Dataset    =\n",
      "==========================================\n",
      "= Shape of X_train is  : (9690, 48, 48, 1)\n",
      "= Shape of y_train is  : (9690, 1)\n",
      "= Shape of X_test is   : (3090, 48, 48, 1)\n",
      "= Shape of y_test is   : (3090, 1)\n",
      "==========================================\n"
     ]
    }
   ],
   "source": [
    "#Printing the shapes of the data after reshaping\n",
    "print(\"==========================================\")\n",
    "print(\"=   ReShape to train and test Dataset    =\")\n",
    "print(\"==========================================\")\n",
    "print(\"= Shape of X_train is  :\", X_train.shape)\n",
    "print(\"= Shape of y_train is  :\", y_train.shape)\n",
    "print(\"= Shape of X_test is   :\", X_test.shape)\n",
    "print(\"= Shape of y_test is   :\", y_test.shape)\n",
    "print(\"==========================================\")"
   ]
  },
  {
   "cell_type": "code",
   "execution_count": 88,
   "metadata": {},
   "outputs": [
    {
     "name": "stderr",
     "output_type": "stream",
     "text": [
      "WARNING:absl:At this time, the v2.11+ optimizer `tf.keras.optimizers.Adam` runs slowly on M1/M2 Macs, please use the legacy Keras optimizer instead, located at `tf.keras.optimizers.legacy.Adam`.\n"
     ]
    },
    {
     "name": "stdout",
     "output_type": "stream",
     "text": [
      "Epoch 1/10\n",
      "303/303 [==============================] - 2s 7ms/step - loss: 11.1572 - accuracy: 0.6393\n",
      "Epoch 2/10\n",
      "303/303 [==============================] - 2s 7ms/step - loss: 0.3797 - accuracy: 0.9039\n",
      "Epoch 3/10\n",
      "303/303 [==============================] - 2s 7ms/step - loss: 0.2039 - accuracy: 0.9505\n",
      "Epoch 4/10\n",
      "303/303 [==============================] - 2s 7ms/step - loss: 0.1932 - accuracy: 0.9557\n",
      "Epoch 5/10\n",
      "303/303 [==============================] - 2s 7ms/step - loss: 0.1520 - accuracy: 0.9657\n",
      "Epoch 6/10\n",
      "303/303 [==============================] - 2s 7ms/step - loss: 0.1627 - accuracy: 0.9634\n",
      "Epoch 7/10\n",
      "303/303 [==============================] - 2s 7ms/step - loss: 0.0897 - accuracy: 0.9795\n",
      "Epoch 8/10\n",
      "303/303 [==============================] - 2s 7ms/step - loss: 0.1253 - accuracy: 0.9733\n",
      "Epoch 9/10\n",
      "303/303 [==============================] - 2s 7ms/step - loss: 0.0695 - accuracy: 0.9825\n",
      "Epoch 10/10\n",
      "303/303 [==============================] - 2s 7ms/step - loss: 0.1385 - accuracy: 0.9723\n",
      "303/303 [==============================] - 1s 2ms/step - loss: 0.0934 - accuracy: 0.9793\n",
      "==========================================\n",
      "=   Accuracy of the model is :           =\n",
      "==========================================\n",
      "Test Accuracy is : 97.93\n",
      "==========================================\n",
      "97/97 [==============================] - 0s 2ms/step - loss: 0.9645 - accuracy: 0.8828\n",
      "==========================================\n",
      "=   Accuracy of the model is :           =\n",
      "==========================================\n",
      "Test Accuracy is : 88.28\n",
      "==========================================\n"
     ]
    }
   ],
   "source": [
    "model = Sequential([\n",
    "        Conv2D(32, (3, 3), activation='relu', input_shape=(48, 48, 1)),\n",
    "        MaxPooling2D((2, 2)),\n",
    "        Flatten(),\n",
    "        Dense(64, activation='relu'),\n",
    "        Dense(10, activation='softmax')  \n",
    "    ])\n",
    "\n",
    "model.compile(optimizer=Adam(), loss='sparse_categorical_crossentropy', metrics=['accuracy'])\n",
    "\n",
    "model.fit(X_train, y_train, epochs=10)\n",
    "\n",
    "train_accuracy = model.evaluate(X_train, y_train)\n",
    "\n",
    "print(\"==========================================\")\n",
    "print(\"=   Accuracy of the model is :           =\")\n",
    "print(\"==========================================\")\n",
    "print(\"Test Accuracy is :\", round(train_accuracy[1] * 100,2))\n",
    "print(\"==========================================\")\n",
    "\n",
    "test_accuracy = model.evaluate(X_test, y_test)\n",
    "\n",
    "print(\"==========================================\")\n",
    "print(\"=   Accuracy of the model is :           =\")\n",
    "print(\"==========================================\")\n",
    "print(\"Test Accuracy is :\", round(test_accuracy[1] * 100,2))\n",
    "print(\"==========================================\")\n"
   ]
  },
  {
   "cell_type": "code",
   "execution_count": 89,
   "metadata": {},
   "outputs": [],
   "source": [
    "def run_cnn(loss_func, optimizer, activation_func, dense_layers, layer_activation_funcs):\n",
    "    model = Sequential([\n",
    "        Conv2D(32, (3, 3), activation=activation_func, input_shape=(48, 48, 1)),\n",
    "        MaxPooling2D((2, 2)),\n",
    "        Flatten()\n",
    "    ])\n",
    "\n",
    "    for units, activation_func in zip(dense_layers, layer_activation_funcs):\n",
    "        model.add(Dense(units, activation=activation_func))\n",
    "    \n",
    "    model.add(Dense(10, activation='softmax'))\n",
    "    \n",
    "    model.compile(optimizer=optimizer, loss=loss_func, metrics=['accuracy'])\n",
    "\n",
    "    model.fit(X_train, y_train, epochs=10)\n",
    "\n",
    "    train_accuracy = model.evaluate(X_train, y_train)\n",
    "\n",
    "    test_accuracy = model.evaluate(X_test, y_test)\n",
    "\n",
    "    print(\"\\n\\n\\n==========================================\")\n",
    "    print(\"= Loss Func    :\", loss_func)\n",
    "    print(\"= Optimizer    :\", optimizer)\n",
    "    print(\"= Activation   :\", activation_func)\n",
    "    print(\"==========================================\")\n",
    "    print(\"= Train Accuracy is :\", round(train_accuracy[1] * 100,2))\n",
    "    print(\"= Test Accuracy is :\", round(test_accuracy[1] * 100,2))\n",
    "    print(\"==========================================\")\n"
   ]
  },
  {
   "cell_type": "code",
   "execution_count": 90,
   "metadata": {},
   "outputs": [
    {
     "name": "stdout",
     "output_type": "stream",
     "text": [
      "Epoch 1/10\n",
      "303/303 [==============================] - 2s 6ms/step - loss: 1.9502 - accuracy: 0.2271\n",
      "Epoch 2/10\n",
      "303/303 [==============================] - 2s 6ms/step - loss: 1.9242 - accuracy: 0.2230\n",
      "Epoch 3/10\n",
      "303/303 [==============================] - 2s 6ms/step - loss: 1.9279 - accuracy: 0.2268\n",
      "Epoch 4/10\n",
      "303/303 [==============================] - 2s 6ms/step - loss: 1.9262 - accuracy: 0.2277\n",
      "Epoch 5/10\n",
      "303/303 [==============================] - 2s 6ms/step - loss: 1.9259 - accuracy: 0.2270\n",
      "Epoch 6/10\n",
      "303/303 [==============================] - 2s 6ms/step - loss: 1.9261 - accuracy: 0.2316\n",
      "Epoch 7/10\n",
      "303/303 [==============================] - 2s 6ms/step - loss: 1.9222 - accuracy: 0.2372\n",
      "Epoch 8/10\n",
      "303/303 [==============================] - 2s 6ms/step - loss: 1.9206 - accuracy: 0.2283\n",
      "Epoch 9/10\n",
      "303/303 [==============================] - 2s 6ms/step - loss: 1.9253 - accuracy: 0.2314\n",
      "Epoch 10/10\n",
      "303/303 [==============================] - 2s 6ms/step - loss: 1.9247 - accuracy: 0.2248\n",
      "303/303 [==============================] - 1s 2ms/step - loss: 1.9276 - accuracy: 0.2291\n",
      "97/97 [==============================] - 0s 2ms/step - loss: 1.8842 - accuracy: 0.2330\n",
      "\n",
      "\n",
      "\n",
      "==========================================\n",
      "= Loss Func    : sparse_categorical_crossentropy\n",
      "= Optimizer    : adam\n",
      "= Activation   : sigmoid\n",
      "==========================================\n",
      "= Train Accuracy is : 22.91\n",
      "= Test Accuracy is : 23.3\n",
      "==========================================\n"
     ]
    }
   ],
   "source": [
    "dense_layer_sizes = [64, 64, 32]  # Define your hidden layer sizes here\n",
    "activation_functions = ['relu', 'tanh', 'sigmoid']  # Define your activation functions here\n",
    "run_cnn('sparse_categorical_crossentropy', 'adam','relu', dense_layer_sizes, activation_functions)"
   ]
  },
  {
   "cell_type": "code",
   "execution_count": 91,
   "metadata": {},
   "outputs": [
    {
     "name": "stdout",
     "output_type": "stream",
     "text": [
      "Epoch 1/10\n",
      "303/303 [==============================] - 2s 6ms/step - loss: 9.6314 - accuracy: 0.6194\n",
      "Epoch 2/10\n",
      "303/303 [==============================] - 2s 6ms/step - loss: 0.4605 - accuracy: 0.8899\n",
      "Epoch 3/10\n",
      "303/303 [==============================] - 2s 6ms/step - loss: 0.2725 - accuracy: 0.9332\n",
      "Epoch 4/10\n",
      "303/303 [==============================] - 2s 6ms/step - loss: 0.2003 - accuracy: 0.9536\n",
      "Epoch 5/10\n",
      "303/303 [==============================] - 2s 6ms/step - loss: 0.1829 - accuracy: 0.9545\n",
      "Epoch 6/10\n",
      "303/303 [==============================] - 2s 6ms/step - loss: 0.1123 - accuracy: 0.9728\n",
      "Epoch 7/10\n",
      "303/303 [==============================] - 2s 6ms/step - loss: 0.1108 - accuracy: 0.9709\n",
      "Epoch 8/10\n",
      "303/303 [==============================] - 2s 6ms/step - loss: 0.1442 - accuracy: 0.9645\n",
      "Epoch 9/10\n",
      "303/303 [==============================] - 2s 6ms/step - loss: 0.1005 - accuracy: 0.9739\n",
      "Epoch 10/10\n",
      "303/303 [==============================] - 2s 6ms/step - loss: 0.0956 - accuracy: 0.9755\n",
      "303/303 [==============================] - 1s 2ms/step - loss: 0.0591 - accuracy: 0.9840\n",
      "97/97 [==============================] - 0s 2ms/step - loss: 0.5952 - accuracy: 0.9052\n",
      "\n",
      "\n",
      "\n",
      "==========================================\n",
      "= Loss Func    : sparse_categorical_crossentropy\n",
      "= Optimizer    : adam\n",
      "= Activation   : relu\n",
      "==========================================\n",
      "= Train Accuracy is : 98.4\n",
      "= Test Accuracy is : 90.52\n",
      "==========================================\n"
     ]
    }
   ],
   "source": [
    "run_cnn('sparse_categorical_crossentropy', 'adam', 'relu', [64], ['relu'])"
   ]
  },
  {
   "cell_type": "code",
   "execution_count": 92,
   "metadata": {},
   "outputs": [
    {
     "name": "stdout",
     "output_type": "stream",
     "text": [
      "Epoch 1/10\n",
      "303/303 [==============================] - 2s 6ms/step - loss: 14.0349 - accuracy: 0.2267\n",
      "Epoch 2/10\n",
      "303/303 [==============================] - 2s 7ms/step - loss: 14.0342 - accuracy: 0.2326\n",
      "Epoch 3/10\n",
      "303/303 [==============================] - 2s 7ms/step - loss: 14.0340 - accuracy: 0.2311\n",
      "Epoch 4/10\n",
      "303/303 [==============================] - 2s 8ms/step - loss: 14.0339 - accuracy: 0.2302\n",
      "Epoch 5/10\n",
      "303/303 [==============================] - 3s 8ms/step - loss: 14.0338 - accuracy: 0.2296\n",
      "Epoch 6/10\n",
      "303/303 [==============================] - 3s 8ms/step - loss: 14.0337 - accuracy: 0.2297\n",
      "Epoch 7/10\n",
      "303/303 [==============================] - 3s 9ms/step - loss: 14.0337 - accuracy: 0.2294\n",
      "Epoch 8/10\n",
      "303/303 [==============================] - 3s 9ms/step - loss: 14.0336 - accuracy: 0.2292\n",
      "Epoch 9/10\n",
      "303/303 [==============================] - 3s 9ms/step - loss: 14.0336 - accuracy: 0.2293\n",
      "Epoch 10/10\n",
      "303/303 [==============================] - 3s 10ms/step - loss: 14.0336 - accuracy: 0.2292\n",
      "303/303 [==============================] - 1s 3ms/step - loss: 14.0336 - accuracy: 0.2293\n",
      "97/97 [==============================] - 0s 3ms/step - loss: 13.2799 - accuracy: 0.2333\n",
      "\n",
      "\n",
      "\n",
      "==========================================\n",
      "= Loss Func    : mean_squared_error\n",
      "= Optimizer    : sgd\n",
      "= Activation   : tanh\n",
      "==========================================\n",
      "= Train Accuracy is : 22.93\n",
      "= Test Accuracy is : 23.33\n",
      "==========================================\n"
     ]
    }
   ],
   "source": [
    "run_cnn('mean_squared_error', 'sgd', 'relu', [64, 32], ['relu', 'tanh'])"
   ]
  },
  {
   "cell_type": "code",
   "execution_count": 93,
   "metadata": {},
   "outputs": [
    {
     "name": "stdout",
     "output_type": "stream",
     "text": [
      "Epoch 1/10\n",
      "303/303 [==============================] - 3s 10ms/step - loss: 3.0529 - accuracy: 0.0571\n",
      "Epoch 2/10\n",
      "303/303 [==============================] - 3s 10ms/step - loss: 3.0529 - accuracy: 0.1015\n",
      "Epoch 3/10\n",
      "303/303 [==============================] - 3s 11ms/step - loss: 3.0529 - accuracy: 0.1476\n",
      "Epoch 4/10\n",
      "303/303 [==============================] - 3s 10ms/step - loss: 3.0529 - accuracy: 0.1387\n",
      "Epoch 5/10\n",
      "303/303 [==============================] - 3s 10ms/step - loss: 3.0529 - accuracy: 0.1102\n",
      "Epoch 6/10\n",
      "303/303 [==============================] - 3s 10ms/step - loss: 3.0529 - accuracy: 0.0850\n",
      "Epoch 7/10\n",
      "303/303 [==============================] - 3s 11ms/step - loss: 3.0529 - accuracy: 0.0791\n",
      "Epoch 8/10\n",
      "303/303 [==============================] - 3s 10ms/step - loss: 3.0529 - accuracy: 0.0735\n",
      "Epoch 9/10\n",
      "303/303 [==============================] - 3s 10ms/step - loss: 3.0529 - accuracy: 0.0693\n",
      "Epoch 10/10\n",
      "303/303 [==============================] - 3s 11ms/step - loss: 3.0529 - accuracy: 0.0634\n",
      "303/303 [==============================] - 1s 3ms/step - loss: 3.0529 - accuracy: 0.0632\n",
      "97/97 [==============================] - 0s 3ms/step - loss: 2.9718 - accuracy: 0.0463\n",
      "\n",
      "\n",
      "\n",
      "==========================================\n",
      "= Loss Func    : mean_absolute_error\n",
      "= Optimizer    : adam\n",
      "= Activation   : relu\n",
      "==========================================\n",
      "= Train Accuracy is : 6.32\n",
      "= Test Accuracy is : 4.63\n",
      "==========================================\n"
     ]
    }
   ],
   "source": [
    "run_cnn('mean_absolute_error', 'adam', 'tanh', [64], ['relu'])"
   ]
  },
  {
   "cell_type": "code",
   "execution_count": 94,
   "metadata": {},
   "outputs": [
    {
     "name": "stdout",
     "output_type": "stream",
     "text": [
      "Epoch 1/10\n",
      "303/303 [==============================] - 3s 10ms/step - loss: 1.8355 - accuracy: 0.2906\n",
      "Epoch 2/10\n",
      "303/303 [==============================] - 3s 10ms/step - loss: 1.1849 - accuracy: 0.5873\n",
      "Epoch 3/10\n",
      "303/303 [==============================] - 3s 10ms/step - loss: 0.6551 - accuracy: 0.7948\n",
      "Epoch 4/10\n",
      "303/303 [==============================] - 3s 9ms/step - loss: 0.3496 - accuracy: 0.9095\n",
      "Epoch 5/10\n",
      "303/303 [==============================] - 3s 9ms/step - loss: 0.2828 - accuracy: 0.9264\n",
      "Epoch 6/10\n",
      "303/303 [==============================] - 3s 10ms/step - loss: 0.2121 - accuracy: 0.9474\n",
      "Epoch 7/10\n",
      "303/303 [==============================] - 4s 12ms/step - loss: 0.1697 - accuracy: 0.9600\n",
      "Epoch 8/10\n",
      "303/303 [==============================] - 4s 13ms/step - loss: 0.1408 - accuracy: 0.9668\n",
      "Epoch 9/10\n",
      "303/303 [==============================] - 3s 11ms/step - loss: 0.1476 - accuracy: 0.9641\n",
      "Epoch 10/10\n",
      "303/303 [==============================] - 4s 14ms/step - loss: 0.2180 - accuracy: 0.9391\n",
      "303/303 [==============================] - 1s 3ms/step - loss: 0.2342 - accuracy: 0.9277\n",
      "97/97 [==============================] - 0s 3ms/step - loss: 0.3576 - accuracy: 0.8799\n",
      "\n",
      "\n",
      "\n",
      "==========================================\n",
      "= Loss Func    : sparse_categorical_crossentropy\n",
      "= Optimizer    : sgd\n",
      "= Activation   : tanh\n",
      "==========================================\n",
      "= Train Accuracy is : 92.77\n",
      "= Test Accuracy is : 87.99\n",
      "==========================================\n"
     ]
    }
   ],
   "source": [
    "run_cnn('sparse_categorical_crossentropy', 'sgd', 'tanh', [64, 32], ['relu', 'tanh'])"
   ]
  },
  {
   "cell_type": "code",
   "execution_count": 95,
   "metadata": {},
   "outputs": [
    {
     "name": "stdout",
     "output_type": "stream",
     "text": [
      "Epoch 1/10\n",
      "303/303 [==============================] - 4s 11ms/step - loss: 14.0341 - accuracy: 0.0818\n",
      "Epoch 2/10\n",
      "303/303 [==============================] - 4s 12ms/step - loss: 14.0336 - accuracy: 0.0998\n",
      "Epoch 3/10\n",
      "303/303 [==============================] - 4s 12ms/step - loss: 14.0336 - accuracy: 0.0968\n",
      "Epoch 4/10\n",
      "303/303 [==============================] - 3s 11ms/step - loss: 14.0336 - accuracy: 0.0941\n",
      "Epoch 5/10\n",
      "303/303 [==============================] - 4s 13ms/step - loss: 14.0336 - accuracy: 0.0943\n",
      "Epoch 6/10\n",
      "303/303 [==============================] - 4s 13ms/step - loss: 14.0336 - accuracy: 0.0930\n",
      "Epoch 7/10\n",
      "303/303 [==============================] - 4s 13ms/step - loss: 14.0336 - accuracy: 0.0917\n",
      "Epoch 8/10\n",
      "303/303 [==============================] - 4s 12ms/step - loss: 14.0336 - accuracy: 0.0921\n",
      "Epoch 9/10\n",
      "303/303 [==============================] - 4s 12ms/step - loss: 14.0336 - accuracy: 0.0932\n",
      "Epoch 10/10\n",
      "303/303 [==============================] - 4s 12ms/step - loss: 14.0336 - accuracy: 0.0944\n",
      "303/303 [==============================] - 1s 3ms/step - loss: 14.0336 - accuracy: 0.0928\n",
      "97/97 [==============================] - 0s 3ms/step - loss: 13.2799 - accuracy: 0.0783\n",
      "\n",
      "\n",
      "\n",
      "==========================================\n",
      "= Loss Func    : mean_squared_error\n",
      "= Optimizer    : sgd\n",
      "= Activation   : tanh\n",
      "==========================================\n",
      "= Train Accuracy is : 9.28\n",
      "= Test Accuracy is : 7.83\n",
      "==========================================\n"
     ]
    }
   ],
   "source": [
    "run_cnn('mean_squared_error', 'sgd', 'sigmoid', [128, 64], ['relu', 'tanh'])"
   ]
  },
  {
   "cell_type": "code",
   "execution_count": 96,
   "metadata": {},
   "outputs": [
    {
     "name": "stdout",
     "output_type": "stream",
     "text": [
      "Epoch 1/10\n",
      "303/303 [==============================] - 3s 10ms/step - loss: 1.2552 - accuracy: 0.6268\n",
      "Epoch 2/10\n",
      "303/303 [==============================] - 3s 11ms/step - loss: 0.2669 - accuracy: 0.9283\n",
      "Epoch 3/10\n",
      "303/303 [==============================] - 3s 11ms/step - loss: 0.1550 - accuracy: 0.9591\n",
      "Epoch 4/10\n",
      "303/303 [==============================] - 3s 10ms/step - loss: 0.0995 - accuracy: 0.9746\n",
      "Epoch 5/10\n",
      "303/303 [==============================] - 3s 10ms/step - loss: 0.0682 - accuracy: 0.9829\n",
      "Epoch 6/10\n",
      "303/303 [==============================] - 3s 10ms/step - loss: 0.0457 - accuracy: 0.9912\n",
      "Epoch 7/10\n",
      "303/303 [==============================] - 3s 10ms/step - loss: 0.0377 - accuracy: 0.9925\n",
      "Epoch 8/10\n",
      "303/303 [==============================] - 3s 10ms/step - loss: 0.0226 - accuracy: 0.9967\n",
      "Epoch 9/10\n",
      "303/303 [==============================] - 3s 10ms/step - loss: 0.0170 - accuracy: 0.9979\n",
      "Epoch 10/10\n",
      "303/303 [==============================] - 3s 10ms/step - loss: 0.0265 - accuracy: 0.9940\n",
      "303/303 [==============================] - 1s 3ms/step - loss: 0.0404 - accuracy: 0.9875\n",
      "97/97 [==============================] - 0s 3ms/step - loss: 0.3490 - accuracy: 0.9298\n",
      "\n",
      "\n",
      "\n",
      "==========================================\n",
      "= Loss Func    : sparse_categorical_crossentropy\n",
      "= Optimizer    : adam\n",
      "= Activation   : relu\n",
      "==========================================\n",
      "= Train Accuracy is : 98.75\n",
      "= Test Accuracy is : 92.98\n",
      "==========================================\n"
     ]
    }
   ],
   "source": [
    "run_cnn('sparse_categorical_crossentropy', 'adam', 'sigmoid', [64], ['relu'])"
   ]
  },
  {
   "cell_type": "code",
   "execution_count": 97,
   "metadata": {},
   "outputs": [
    {
     "name": "stdout",
     "output_type": "stream",
     "text": [
      "Epoch 1/10\n",
      "303/303 [==============================] - 3s 9ms/step - loss: 3.0529 - accuracy: 0.1497\n",
      "Epoch 2/10\n",
      "303/303 [==============================] - 3s 10ms/step - loss: 3.0529 - accuracy: 0.1806\n",
      "Epoch 3/10\n",
      "303/303 [==============================] - 3s 9ms/step - loss: 3.0529 - accuracy: 0.1686\n",
      "Epoch 4/10\n",
      "303/303 [==============================] - 3s 10ms/step - loss: 3.0529 - accuracy: 0.1543\n",
      "Epoch 5/10\n",
      "303/303 [==============================] - 3s 10ms/step - loss: 3.0529 - accuracy: 0.1594\n",
      "Epoch 6/10\n",
      "303/303 [==============================] - 3s 9ms/step - loss: 3.0529 - accuracy: 0.1649\n",
      "Epoch 7/10\n",
      "303/303 [==============================] - 3s 9ms/step - loss: 3.0529 - accuracy: 0.1464\n",
      "Epoch 8/10\n",
      "303/303 [==============================] - 3s 9ms/step - loss: 3.0529 - accuracy: 0.1683\n",
      "Epoch 9/10\n",
      "303/303 [==============================] - 3s 9ms/step - loss: 3.0529 - accuracy: 0.1409\n",
      "Epoch 10/10\n",
      "303/303 [==============================] - 3s 9ms/step - loss: 3.0529 - accuracy: 0.1950\n",
      "303/303 [==============================] - 1s 2ms/step - loss: 3.0529 - accuracy: 0.1928\n",
      "97/97 [==============================] - 0s 3ms/step - loss: 2.9718 - accuracy: 0.1945\n",
      "\n",
      "\n",
      "\n",
      "==========================================\n",
      "= Loss Func    : mean_absolute_error\n",
      "= Optimizer    : adam\n",
      "= Activation   : tanh\n",
      "==========================================\n",
      "= Train Accuracy is : 19.28\n",
      "= Test Accuracy is : 19.45\n",
      "==========================================\n"
     ]
    }
   ],
   "source": [
    "run_cnn('mean_absolute_error', 'adam', 'relu', [64, 32], ['relu', 'tanh'])"
   ]
  },
  {
   "cell_type": "code",
   "execution_count": 98,
   "metadata": {},
   "outputs": [
    {
     "name": "stdout",
     "output_type": "stream",
     "text": [
      "Epoch 1/10\n",
      "303/303 [==============================] - 4s 12ms/step - loss: 1.4640 - accuracy: 0.5041\n",
      "Epoch 2/10\n",
      "303/303 [==============================] - 4s 13ms/step - loss: 0.3652 - accuracy: 0.9060\n",
      "Epoch 3/10\n",
      "303/303 [==============================] - 4s 13ms/step - loss: 0.1118 - accuracy: 0.9739\n",
      "Epoch 4/10\n",
      "303/303 [==============================] - 4s 13ms/step - loss: 0.0547 - accuracy: 0.9875\n",
      "Epoch 5/10\n",
      "303/303 [==============================] - 4s 13ms/step - loss: 0.0332 - accuracy: 0.9920\n",
      "Epoch 6/10\n",
      "303/303 [==============================] - 4s 13ms/step - loss: 0.0308 - accuracy: 0.9911\n",
      "Epoch 7/10\n",
      "303/303 [==============================] - 4s 13ms/step - loss: 0.0232 - accuracy: 0.9940\n",
      "Epoch 8/10\n",
      "303/303 [==============================] - 4s 12ms/step - loss: 0.0076 - accuracy: 0.9987\n",
      "Epoch 9/10\n",
      "303/303 [==============================] - 4s 13ms/step - loss: 0.0086 - accuracy: 0.9979\n",
      "Epoch 10/10\n",
      "303/303 [==============================] - 4s 13ms/step - loss: 0.0221 - accuracy: 0.9935\n",
      "303/303 [==============================] - 1s 3ms/step - loss: 0.0295 - accuracy: 0.9922\n",
      "97/97 [==============================] - 0s 3ms/step - loss: 0.2544 - accuracy: 0.9291\n",
      "\n",
      "\n",
      "\n",
      "==========================================\n",
      "= Loss Func    : sparse_categorical_crossentropy\n",
      "= Optimizer    : adam\n",
      "= Activation   : tanh\n",
      "==========================================\n",
      "= Train Accuracy is : 99.22\n",
      "= Test Accuracy is : 92.91\n",
      "==========================================\n"
     ]
    }
   ],
   "source": [
    "run_cnn('sparse_categorical_crossentropy', 'adam', 'sigmoid', [128, 64], ['relu', 'tanh'])"
   ]
  },
  {
   "cell_type": "code",
   "execution_count": 99,
   "metadata": {},
   "outputs": [
    {
     "name": "stdout",
     "output_type": "stream",
     "text": [
      "Epoch 1/10\n",
      "303/303 [==============================] - 3s 10ms/step - loss: 14.1231 - accuracy: 0.2036\n",
      "Epoch 2/10\n",
      "303/303 [==============================] - 3s 11ms/step - loss: 14.1235 - accuracy: 0.2043\n",
      "Epoch 3/10\n",
      "303/303 [==============================] - 3s 10ms/step - loss: 14.1235 - accuracy: 0.2043\n",
      "Epoch 4/10\n",
      "303/303 [==============================] - 3s 10ms/step - loss: 14.1235 - accuracy: 0.2043\n",
      "Epoch 5/10\n",
      "303/303 [==============================] - 3s 10ms/step - loss: 14.1235 - accuracy: 0.2043\n",
      "Epoch 6/10\n",
      "303/303 [==============================] - 3s 10ms/step - loss: 14.1235 - accuracy: 0.2043\n",
      "Epoch 7/10\n",
      "303/303 [==============================] - 3s 10ms/step - loss: 14.1235 - accuracy: 0.2043\n",
      "Epoch 8/10\n",
      "303/303 [==============================] - 3s 10ms/step - loss: 14.1235 - accuracy: 0.2043\n",
      "Epoch 9/10\n",
      "303/303 [==============================] - 4s 13ms/step - loss: 14.1235 - accuracy: 0.2043\n",
      "Epoch 10/10\n",
      "303/303 [==============================] - 5s 18ms/step - loss: 14.1235 - accuracy: 0.2043\n",
      "303/303 [==============================] - 1s 4ms/step - loss: 14.1235 - accuracy: 0.2043\n",
      "97/97 [==============================] - 0s 4ms/step - loss: 13.3699 - accuracy: 0.2136\n",
      "\n",
      "\n",
      "\n",
      "==========================================\n",
      "= Loss Func    : mean_squared_error\n",
      "= Optimizer    : adam\n",
      "= Activation   : relu\n",
      "==========================================\n",
      "= Train Accuracy is : 20.43\n",
      "= Test Accuracy is : 21.36\n",
      "==========================================\n"
     ]
    }
   ],
   "source": [
    "run_cnn('mean_squared_error', 'adam', 'tanh', [64], ['relu'])"
   ]
  },
  {
   "cell_type": "code",
   "execution_count": 100,
   "metadata": {},
   "outputs": [
    {
     "name": "stdout",
     "output_type": "stream",
     "text": [
      "Epoch 1/10\n",
      "303/303 [==============================] - 4s 13ms/step - loss: 1.9142 - accuracy: 0.2473\n",
      "Epoch 2/10\n",
      "303/303 [==============================] - 4s 13ms/step - loss: 1.4598 - accuracy: 0.4731\n",
      "Epoch 3/10\n",
      "303/303 [==============================] - 4s 14ms/step - loss: 0.8948 - accuracy: 0.7043\n",
      "Epoch 4/10\n",
      "303/303 [==============================] - 3s 10ms/step - loss: 0.5632 - accuracy: 0.8247\n",
      "Epoch 5/10\n",
      "303/303 [==============================] - 3s 10ms/step - loss: 0.3613 - accuracy: 0.9089\n",
      "Epoch 6/10\n",
      "303/303 [==============================] - 3s 10ms/step - loss: 0.2590 - accuracy: 0.9381\n",
      "Epoch 7/10\n",
      "303/303 [==============================] - 3s 10ms/step - loss: 0.1949 - accuracy: 0.9564\n",
      "Epoch 8/10\n",
      "303/303 [==============================] - 3s 9ms/step - loss: 0.1830 - accuracy: 0.9545\n",
      "Epoch 9/10\n",
      "303/303 [==============================] - 3s 9ms/step - loss: 0.1346 - accuracy: 0.9693\n",
      "Epoch 10/10\n",
      "303/303 [==============================] - 3s 9ms/step - loss: 0.1407 - accuracy: 0.9647\n",
      "303/303 [==============================] - 1s 3ms/step - loss: 0.0711 - accuracy: 0.9897\n",
      "97/97 [==============================] - 0s 3ms/step - loss: 0.1662 - accuracy: 0.9550\n",
      "\n",
      "\n",
      "\n",
      "==========================================\n",
      "= Loss Func    : sparse_categorical_crossentropy\n",
      "= Optimizer    : sgd\n",
      "= Activation   : tanh\n",
      "==========================================\n",
      "= Train Accuracy is : 98.97\n",
      "= Test Accuracy is : 95.5\n",
      "==========================================\n"
     ]
    }
   ],
   "source": [
    "run_cnn('sparse_categorical_crossentropy', 'sgd', 'tanh', [64, 32], ['relu', 'tanh'])"
   ]
  },
  {
   "cell_type": "code",
   "execution_count": 101,
   "metadata": {},
   "outputs": [
    {
     "name": "stdout",
     "output_type": "stream",
     "text": [
      "Epoch 1/10\n",
      "303/303 [==============================] - 4s 12ms/step - loss: 3.0529 - accuracy: 0.2017\n",
      "Epoch 2/10\n",
      "303/303 [==============================] - 4s 13ms/step - loss: 3.0529 - accuracy: 0.1955\n",
      "Epoch 3/10\n",
      "303/303 [==============================] - 4s 13ms/step - loss: 3.0529 - accuracy: 0.1915\n",
      "Epoch 4/10\n",
      "303/303 [==============================] - 4s 13ms/step - loss: 3.0529 - accuracy: 0.1903\n",
      "Epoch 5/10\n",
      "303/303 [==============================] - 4s 13ms/step - loss: 3.0529 - accuracy: 0.1798\n",
      "Epoch 6/10\n",
      "303/303 [==============================] - 4s 14ms/step - loss: 3.0529 - accuracy: 0.1534\n",
      "Epoch 7/10\n",
      "303/303 [==============================] - 5s 18ms/step - loss: 3.0529 - accuracy: 0.1142\n",
      "Epoch 8/10\n",
      "303/303 [==============================] - 5s 17ms/step - loss: 3.0529 - accuracy: 0.1144\n",
      "Epoch 9/10\n",
      "303/303 [==============================] - 5s 18ms/step - loss: 3.0529 - accuracy: 0.1390\n",
      "Epoch 10/10\n",
      "303/303 [==============================] - 4s 13ms/step - loss: 3.0529 - accuracy: 0.1432\n",
      "303/303 [==============================] - 1s 3ms/step - loss: 3.0529 - accuracy: 0.1488\n",
      "97/97 [==============================] - 0s 3ms/step - loss: 2.9718 - accuracy: 0.1236\n",
      "\n",
      "\n",
      "\n",
      "==========================================\n",
      "= Loss Func    : mean_absolute_error\n",
      "= Optimizer    : adam\n",
      "= Activation   : tanh\n",
      "==========================================\n",
      "= Train Accuracy is : 14.88\n",
      "= Test Accuracy is : 12.36\n",
      "==========================================\n"
     ]
    }
   ],
   "source": [
    "run_cnn('mean_absolute_error', 'adam', 'sigmoid', [128, 64], ['relu', 'tanh'])"
   ]
  },
  {
   "cell_type": "code",
   "execution_count": 102,
   "metadata": {},
   "outputs": [
    {
     "name": "stdout",
     "output_type": "stream",
     "text": [
      "Epoch 1/10\n",
      "303/303 [==============================] - 3s 10ms/step - loss: 7.5199 - accuracy: 0.1970\n",
      "Epoch 2/10\n",
      "303/303 [==============================] - 3s 9ms/step - loss: 2.1093 - accuracy: 0.2132\n",
      "Epoch 3/10\n",
      "303/303 [==============================] - 3s 10ms/step - loss: 2.0260 - accuracy: 0.2259\n",
      "Epoch 4/10\n",
      "303/303 [==============================] - 3s 9ms/step - loss: 1.9786 - accuracy: 0.2279\n",
      "Epoch 5/10\n",
      "303/303 [==============================] - 3s 9ms/step - loss: 1.9526 - accuracy: 0.2249\n",
      "Epoch 6/10\n",
      "303/303 [==============================] - 3s 9ms/step - loss: 1.9386 - accuracy: 0.2322\n",
      "Epoch 7/10\n",
      "303/303 [==============================] - 3s 9ms/step - loss: 1.9312 - accuracy: 0.2322\n",
      "Epoch 8/10\n",
      "303/303 [==============================] - 3s 9ms/step - loss: 1.9272 - accuracy: 0.2284\n",
      "Epoch 9/10\n",
      "303/303 [==============================] - 3s 9ms/step - loss: 1.9251 - accuracy: 0.2322\n",
      "Epoch 10/10\n",
      "303/303 [==============================] - 3s 9ms/step - loss: 1.9239 - accuracy: 0.2322\n",
      "303/303 [==============================] - 1s 3ms/step - loss: 1.9234 - accuracy: 0.2322\n",
      "97/97 [==============================] - 0s 3ms/step - loss: 1.8815 - accuracy: 0.2427\n",
      "\n",
      "\n",
      "\n",
      "==========================================\n",
      "= Loss Func    : sparse_categorical_crossentropy\n",
      "= Optimizer    : adam\n",
      "= Activation   : relu\n",
      "==========================================\n",
      "= Train Accuracy is : 23.22\n",
      "= Test Accuracy is : 24.27\n",
      "==========================================\n"
     ]
    }
   ],
   "source": [
    "run_cnn('sparse_categorical_crossentropy', 'adam', 'relu', [64], ['relu', 'tanh'])"
   ]
  },
  {
   "cell_type": "code",
   "execution_count": 103,
   "metadata": {},
   "outputs": [
    {
     "name": "stdout",
     "output_type": "stream",
     "text": [
      "Epoch 1/10\n",
      "303/303 [==============================] - 4s 12ms/step - loss: 1.8233 - accuracy: 0.2835\n",
      "Epoch 2/10\n",
      "303/303 [==============================] - 4s 12ms/step - loss: 1.1554 - accuracy: 0.5769\n",
      "Epoch 3/10\n",
      "303/303 [==============================] - 4s 12ms/step - loss: 0.5352 - accuracy: 0.8365\n",
      "Epoch 4/10\n",
      "303/303 [==============================] - 4s 12ms/step - loss: 0.3133 - accuracy: 0.9179\n",
      "Epoch 5/10\n",
      "303/303 [==============================] - 4s 12ms/step - loss: 0.2023 - accuracy: 0.9528\n",
      "Epoch 6/10\n",
      "303/303 [==============================] - 4s 12ms/step - loss: 0.1383 - accuracy: 0.9673\n",
      "Epoch 7/10\n",
      "303/303 [==============================] - 4s 12ms/step - loss: 0.0985 - accuracy: 0.9795\n",
      "Epoch 8/10\n",
      "303/303 [==============================] - 5s 15ms/step - loss: 0.0862 - accuracy: 0.9816\n",
      "Epoch 9/10\n",
      "303/303 [==============================] - 5s 15ms/step - loss: 0.0713 - accuracy: 0.9866\n",
      "Epoch 10/10\n",
      "303/303 [==============================] - 5s 17ms/step - loss: 0.0517 - accuracy: 0.9901\n",
      "303/303 [==============================] - 2s 5ms/step - loss: 0.0390 - accuracy: 0.9961\n",
      "97/97 [==============================] - 1s 5ms/step - loss: 0.1474 - accuracy: 0.9528\n",
      "\n",
      "\n",
      "\n",
      "==========================================\n",
      "= Loss Func    : sparse_categorical_crossentropy\n",
      "= Optimizer    : sgd\n",
      "= Activation   : tanh\n",
      "==========================================\n",
      "= Train Accuracy is : 99.61\n",
      "= Test Accuracy is : 95.28\n",
      "==========================================\n"
     ]
    }
   ],
   "source": [
    "run_cnn('sparse_categorical_crossentropy', 'sgd', 'sigmoid', [128, 64], ['relu', 'tanh'])"
   ]
  },
  {
   "cell_type": "code",
   "execution_count": null,
   "metadata": {},
   "outputs": [],
   "source": []
  },
  {
   "cell_type": "code",
   "execution_count": null,
   "metadata": {},
   "outputs": [],
   "source": []
  }
 ],
 "metadata": {
  "kernelspec": {
   "display_name": "Python 3",
   "language": "python",
   "name": "python3"
  },
  "language_info": {
   "codemirror_mode": {
    "name": "ipython",
    "version": 3
   },
   "file_extension": ".py",
   "mimetype": "text/x-python",
   "name": "python",
   "nbconvert_exporter": "python",
   "pygments_lexer": "ipython3",
   "version": "3.11.5"
  }
 },
 "nbformat": 4,
 "nbformat_minor": 2
}
