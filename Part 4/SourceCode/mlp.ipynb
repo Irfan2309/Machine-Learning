{
 "cells": [
  {
   "cell_type": "code",
   "execution_count": 69,
   "metadata": {},
   "outputs": [],
   "source": [
    "from sklearn.neural_network import MLPClassifier\n",
    "from sklearn.metrics import accuracy_score\n",
    "import pandas as pd"
   ]
  },
  {
   "cell_type": "code",
   "execution_count": 70,
   "metadata": {},
   "outputs": [],
   "source": [
    "#Reading from CSV File and Storing in Dataframe\n",
    "X_train = pd.read_csv('../../Dataset/x_train_all.csv')\n",
    "y_train = pd.read_csv('../../Dataset/y_train_all.csv')\n",
    "X_test = pd.read_csv('../../Dataset/x_test_all.csv')\n",
    "y_test = pd.read_csv('../../Dataset/y_test_all.csv')"
   ]
  },
  {
   "cell_type": "code",
   "execution_count": 71,
   "metadata": {},
   "outputs": [
    {
     "name": "stdout",
     "output_type": "stream",
     "text": [
      "========================================\n",
      "=   Shape to train and test Dataset    =\n",
      "========================================\n",
      "= Shape of X_train is  : (9690, 2304)\n",
      "= Shape of y_train is  : (9690, 1)\n",
      "= Shape of X_test is   : (3090, 2304)\n",
      "= Shape of y_test is   : (3090, 1)\n",
      "========================================\n"
     ]
    }
   ],
   "source": [
    "#Printing the shapes of the training\n",
    "print(\"========================================\")\n",
    "print(\"=   Shape to train and test Dataset    =\")\n",
    "print(\"========================================\")\n",
    "print(\"= Shape of X_train is  :\", X_train.shape)\n",
    "print(\"= Shape of y_train is  :\", y_train.shape)\n",
    "print(\"= Shape of X_test is   :\", X_test.shape)\n",
    "print(\"= Shape of y_test is   :\", y_test.shape)\n",
    "print(\"========================================\")"
   ]
  },
  {
   "cell_type": "code",
   "execution_count": 72,
   "metadata": {},
   "outputs": [],
   "source": [
    "mlp = MLPClassifier(hidden_layer_sizes=(100,), activation='relu', \n",
    "                    learning_rate_init=0.001, max_iter=200, momentum=0.9)"
   ]
  },
  {
   "cell_type": "code",
   "execution_count": 73,
   "metadata": {},
   "outputs": [
    {
     "name": "stderr",
     "output_type": "stream",
     "text": [
      "/opt/homebrew/lib/python3.11/site-packages/sklearn/neural_network/_multilayer_perceptron.py:1102: DataConversionWarning: A column-vector y was passed when a 1d array was expected. Please change the shape of y to (n_samples, ), for example using ravel().\n",
      "  y = column_or_1d(y, warn=True)\n"
     ]
    },
    {
     "data": {
      "text/html": [
       "<style>#sk-container-id-3 {color: black;}#sk-container-id-3 pre{padding: 0;}#sk-container-id-3 div.sk-toggleable {background-color: white;}#sk-container-id-3 label.sk-toggleable__label {cursor: pointer;display: block;width: 100%;margin-bottom: 0;padding: 0.3em;box-sizing: border-box;text-align: center;}#sk-container-id-3 label.sk-toggleable__label-arrow:before {content: \"▸\";float: left;margin-right: 0.25em;color: #696969;}#sk-container-id-3 label.sk-toggleable__label-arrow:hover:before {color: black;}#sk-container-id-3 div.sk-estimator:hover label.sk-toggleable__label-arrow:before {color: black;}#sk-container-id-3 div.sk-toggleable__content {max-height: 0;max-width: 0;overflow: hidden;text-align: left;background-color: #f0f8ff;}#sk-container-id-3 div.sk-toggleable__content pre {margin: 0.2em;color: black;border-radius: 0.25em;background-color: #f0f8ff;}#sk-container-id-3 input.sk-toggleable__control:checked~div.sk-toggleable__content {max-height: 200px;max-width: 100%;overflow: auto;}#sk-container-id-3 input.sk-toggleable__control:checked~label.sk-toggleable__label-arrow:before {content: \"▾\";}#sk-container-id-3 div.sk-estimator input.sk-toggleable__control:checked~label.sk-toggleable__label {background-color: #d4ebff;}#sk-container-id-3 div.sk-label input.sk-toggleable__control:checked~label.sk-toggleable__label {background-color: #d4ebff;}#sk-container-id-3 input.sk-hidden--visually {border: 0;clip: rect(1px 1px 1px 1px);clip: rect(1px, 1px, 1px, 1px);height: 1px;margin: -1px;overflow: hidden;padding: 0;position: absolute;width: 1px;}#sk-container-id-3 div.sk-estimator {font-family: monospace;background-color: #f0f8ff;border: 1px dotted black;border-radius: 0.25em;box-sizing: border-box;margin-bottom: 0.5em;}#sk-container-id-3 div.sk-estimator:hover {background-color: #d4ebff;}#sk-container-id-3 div.sk-parallel-item::after {content: \"\";width: 100%;border-bottom: 1px solid gray;flex-grow: 1;}#sk-container-id-3 div.sk-label:hover label.sk-toggleable__label {background-color: #d4ebff;}#sk-container-id-3 div.sk-serial::before {content: \"\";position: absolute;border-left: 1px solid gray;box-sizing: border-box;top: 0;bottom: 0;left: 50%;z-index: 0;}#sk-container-id-3 div.sk-serial {display: flex;flex-direction: column;align-items: center;background-color: white;padding-right: 0.2em;padding-left: 0.2em;position: relative;}#sk-container-id-3 div.sk-item {position: relative;z-index: 1;}#sk-container-id-3 div.sk-parallel {display: flex;align-items: stretch;justify-content: center;background-color: white;position: relative;}#sk-container-id-3 div.sk-item::before, #sk-container-id-3 div.sk-parallel-item::before {content: \"\";position: absolute;border-left: 1px solid gray;box-sizing: border-box;top: 0;bottom: 0;left: 50%;z-index: -1;}#sk-container-id-3 div.sk-parallel-item {display: flex;flex-direction: column;z-index: 1;position: relative;background-color: white;}#sk-container-id-3 div.sk-parallel-item:first-child::after {align-self: flex-end;width: 50%;}#sk-container-id-3 div.sk-parallel-item:last-child::after {align-self: flex-start;width: 50%;}#sk-container-id-3 div.sk-parallel-item:only-child::after {width: 0;}#sk-container-id-3 div.sk-dashed-wrapped {border: 1px dashed gray;margin: 0 0.4em 0.5em 0.4em;box-sizing: border-box;padding-bottom: 0.4em;background-color: white;}#sk-container-id-3 div.sk-label label {font-family: monospace;font-weight: bold;display: inline-block;line-height: 1.2em;}#sk-container-id-3 div.sk-label-container {text-align: center;}#sk-container-id-3 div.sk-container {/* jupyter's `normalize.less` sets `[hidden] { display: none; }` but bootstrap.min.css set `[hidden] { display: none !important; }` so we also need the `!important` here to be able to override the default hidden behavior on the sphinx rendered scikit-learn.org. See: https://github.com/scikit-learn/scikit-learn/issues/21755 */display: inline-block !important;position: relative;}#sk-container-id-3 div.sk-text-repr-fallback {display: none;}</style><div id=\"sk-container-id-3\" class=\"sk-top-container\"><div class=\"sk-text-repr-fallback\"><pre>MLPClassifier()</pre><b>In a Jupyter environment, please rerun this cell to show the HTML representation or trust the notebook. <br />On GitHub, the HTML representation is unable to render, please try loading this page with nbviewer.org.</b></div><div class=\"sk-container\" hidden><div class=\"sk-item\"><div class=\"sk-estimator sk-toggleable\"><input class=\"sk-toggleable__control sk-hidden--visually\" id=\"sk-estimator-id-3\" type=\"checkbox\" checked><label for=\"sk-estimator-id-3\" class=\"sk-toggleable__label sk-toggleable__label-arrow\">MLPClassifier</label><div class=\"sk-toggleable__content\"><pre>MLPClassifier()</pre></div></div></div></div></div>"
      ],
      "text/plain": [
       "MLPClassifier()"
      ]
     },
     "execution_count": 73,
     "metadata": {},
     "output_type": "execute_result"
    }
   ],
   "source": [
    "mlp.fit(X_train, y_train)"
   ]
  },
  {
   "cell_type": "code",
   "execution_count": 74,
   "metadata": {},
   "outputs": [
    {
     "name": "stdout",
     "output_type": "stream",
     "text": [
      "========================================\n",
      "=        Training Accuracy              =\n",
      "========================================\n",
      "= Accuracy : 23.22\n",
      "========================================\n"
     ]
    }
   ],
   "source": [
    "# Predictions and evaluation on training data\n",
    "y_pred_train = mlp.predict(X_train)\n",
    "train_accuracy = accuracy_score(y_train, y_pred_train)\n",
    "print(\"========================================\")\n",
    "print(\"=        Training Accuracy              =\")\n",
    "print(\"========================================\")\n",
    "print(\"= Accuracy :\", round(train_accuracy * 100,2))\n",
    "print(\"========================================\")"
   ]
  },
  {
   "cell_type": "code",
   "execution_count": 75,
   "metadata": {},
   "outputs": [],
   "source": [
    "y_pred = mlp.predict(X_test)"
   ]
  },
  {
   "cell_type": "code",
   "execution_count": 76,
   "metadata": {},
   "outputs": [
    {
     "name": "stdout",
     "output_type": "stream",
     "text": [
      "========================================\n",
      "=        Testing Accuracy              =\n",
      "========================================\n",
      "= Accuracy : 24.27\n",
      "========================================\n"
     ]
    }
   ],
   "source": [
    "test_accuracy = accuracy_score(y_test, y_pred)\n",
    "\n",
    "print(\"========================================\")\n",
    "print(\"=        Testing Accuracy              =\")\n",
    "print(\"========================================\")\n",
    "print(\"= Accuracy :\", round(test_accuracy * 100,2))\n",
    "print(\"========================================\")"
   ]
  },
  {
   "cell_type": "code",
   "execution_count": 77,
   "metadata": {},
   "outputs": [],
   "source": [
    "def run_mlp(hidden_layers, activation, learning_rate, max_iter, momentum):\n",
    "    mlp = MLPClassifier(hidden_layer_sizes=hidden_layers, activation=activation, \n",
    "                    learning_rate_init=learning_rate, max_iter=max_iter, momentum=momentum)\n",
    "    \n",
    "    mlp.fit(X_train, y_train)\n",
    "    \n",
    "    y_pred_train = mlp.predict(X_train)\n",
    "    \n",
    "    train_accuracy = accuracy_score(y_train, y_pred_train)\n",
    "    \n",
    "    y_pred = mlp.predict(X_test)\n",
    "\n",
    "    test_accuracy = accuracy_score(y_test, y_pred)\n",
    "\n",
    "    print(\"========================================\")\n",
    "    print(\"= Hidden Layers        :\", hidden_layers)\n",
    "    print(\"= Activation           :\", activation)\n",
    "    print(\"= Learning Rate        :\", learning_rate)\n",
    "    print(\"= Max Iterations       :\", max_iter)\n",
    "    print(\"= Momentum             :\", momentum)\n",
    "    print(\"========================================\")\n",
    "    print(\"= Training Accuracy    :\", round(train_accuracy * 100,2))\n",
    "    print(\"========================================\")\n",
    "    print(\"= Testing Accuracy     :\", round(test_accuracy * 100,2))\n",
    "    print(\"========================================\")"
   ]
  },
  {
   "cell_type": "code",
   "execution_count": 78,
   "metadata": {},
   "outputs": [
    {
     "name": "stderr",
     "output_type": "stream",
     "text": [
      "/opt/homebrew/lib/python3.11/site-packages/sklearn/neural_network/_multilayer_perceptron.py:1102: DataConversionWarning: A column-vector y was passed when a 1d array was expected. Please change the shape of y to (n_samples, ), for example using ravel().\n",
      "  y = column_or_1d(y, warn=True)\n"
     ]
    },
    {
     "name": "stdout",
     "output_type": "stream",
     "text": [
      "========================================\n",
      "= Hidden Layers        : (100, 100)\n",
      "= Activation           : relu\n",
      "= Learning Rate        : 0.001\n",
      "= Max Iterations       : 200\n",
      "= Momentum             : 0.9\n",
      "========================================\n",
      "= Training Accuracy    : 96.39\n",
      "========================================\n",
      "= Testing Accuracy     : 89.35\n",
      "========================================\n"
     ]
    }
   ],
   "source": [
    "run_mlp(hidden_layers=(100,100), activation='relu', learning_rate=0.001, max_iter=200, momentum=0.9)"
   ]
  },
  {
   "cell_type": "code",
   "execution_count": 79,
   "metadata": {},
   "outputs": [
    {
     "name": "stderr",
     "output_type": "stream",
     "text": [
      "/opt/homebrew/lib/python3.11/site-packages/sklearn/neural_network/_multilayer_perceptron.py:1102: DataConversionWarning: A column-vector y was passed when a 1d array was expected. Please change the shape of y to (n_samples, ), for example using ravel().\n",
      "  y = column_or_1d(y, warn=True)\n"
     ]
    },
    {
     "name": "stdout",
     "output_type": "stream",
     "text": [
      "========================================\n",
      "= Hidden Layers        : (50, 50)\n",
      "= Activation           : tanh\n",
      "= Learning Rate        : 0.01\n",
      "= Max Iterations       : 300\n",
      "= Momentum             : 0.8\n",
      "========================================\n",
      "= Training Accuracy    : 22.91\n",
      "========================================\n",
      "= Testing Accuracy     : 23.3\n",
      "========================================\n"
     ]
    }
   ],
   "source": [
    "run_mlp(hidden_layers=(50, 50), activation='tanh', learning_rate=0.01, max_iter=300, momentum=0.8)"
   ]
  },
  {
   "cell_type": "code",
   "execution_count": 80,
   "metadata": {},
   "outputs": [
    {
     "name": "stderr",
     "output_type": "stream",
     "text": [
      "/opt/homebrew/lib/python3.11/site-packages/sklearn/neural_network/_multilayer_perceptron.py:1102: DataConversionWarning: A column-vector y was passed when a 1d array was expected. Please change the shape of y to (n_samples, ), for example using ravel().\n",
      "  y = column_or_1d(y, warn=True)\n"
     ]
    },
    {
     "name": "stdout",
     "output_type": "stream",
     "text": [
      "========================================\n",
      "= Hidden Layers        : (150,)\n",
      "= Activation           : logistic\n",
      "= Learning Rate        : 0.005\n",
      "= Max Iterations       : 100\n",
      "= Momentum             : 0.9\n",
      "========================================\n",
      "= Training Accuracy    : 22.91\n",
      "========================================\n",
      "= Testing Accuracy     : 23.3\n",
      "========================================\n"
     ]
    }
   ],
   "source": [
    "run_mlp(hidden_layers=(150,), activation='logistic', learning_rate=0.005, max_iter=100, momentum=0.9)"
   ]
  },
  {
   "cell_type": "code",
   "execution_count": 81,
   "metadata": {},
   "outputs": [
    {
     "name": "stderr",
     "output_type": "stream",
     "text": [
      "/opt/homebrew/lib/python3.11/site-packages/sklearn/neural_network/_multilayer_perceptron.py:1102: DataConversionWarning: A column-vector y was passed when a 1d array was expected. Please change the shape of y to (n_samples, ), for example using ravel().\n",
      "  y = column_or_1d(y, warn=True)\n"
     ]
    },
    {
     "name": "stdout",
     "output_type": "stream",
     "text": [
      "========================================\n",
      "= Hidden Layers        : (100, 50)\n",
      "= Activation           : relu\n",
      "= Learning Rate        : 0.001\n",
      "= Max Iterations       : 400\n",
      "= Momentum             : 0.85\n",
      "========================================\n",
      "= Training Accuracy    : 83.25\n",
      "========================================\n",
      "= Testing Accuracy     : 79.09\n",
      "========================================\n"
     ]
    }
   ],
   "source": [
    "run_mlp(hidden_layers=(100, 50), activation='relu', learning_rate=0.001, max_iter=400, momentum=0.85)"
   ]
  },
  {
   "cell_type": "code",
   "execution_count": 82,
   "metadata": {},
   "outputs": [
    {
     "name": "stderr",
     "output_type": "stream",
     "text": [
      "/opt/homebrew/lib/python3.11/site-packages/sklearn/neural_network/_multilayer_perceptron.py:1102: DataConversionWarning: A column-vector y was passed when a 1d array was expected. Please change the shape of y to (n_samples, ), for example using ravel().\n",
      "  y = column_or_1d(y, warn=True)\n"
     ]
    },
    {
     "name": "stdout",
     "output_type": "stream",
     "text": [
      "========================================\n",
      "= Hidden Layers        : (200,)\n",
      "= Activation           : tanh\n",
      "= Learning Rate        : 0.01\n",
      "= Max Iterations       : 200\n",
      "= Momentum             : 0.95\n",
      "========================================\n",
      "= Training Accuracy    : 20.43\n",
      "========================================\n",
      "= Testing Accuracy     : 21.36\n",
      "========================================\n"
     ]
    }
   ],
   "source": [
    "run_mlp(hidden_layers=(200,), activation='tanh', learning_rate=0.01, max_iter=200, momentum=0.95)"
   ]
  },
  {
   "cell_type": "code",
   "execution_count": 83,
   "metadata": {},
   "outputs": [
    {
     "name": "stderr",
     "output_type": "stream",
     "text": [
      "/opt/homebrew/lib/python3.11/site-packages/sklearn/neural_network/_multilayer_perceptron.py:1102: DataConversionWarning: A column-vector y was passed when a 1d array was expected. Please change the shape of y to (n_samples, ), for example using ravel().\n",
      "  y = column_or_1d(y, warn=True)\n"
     ]
    },
    {
     "name": "stdout",
     "output_type": "stream",
     "text": [
      "========================================\n",
      "= Hidden Layers        : (100, 100)\n",
      "= Activation           : logistic\n",
      "= Learning Rate        : 0.003\n",
      "= Max Iterations       : 150\n",
      "= Momentum             : 0.9\n",
      "========================================\n",
      "= Training Accuracy    : 23.22\n",
      "========================================\n",
      "= Testing Accuracy     : 24.27\n",
      "========================================\n"
     ]
    }
   ],
   "source": [
    "run_mlp(hidden_layers=(100, 100), activation='logistic', learning_rate=0.003, max_iter=150, momentum=0.9)"
   ]
  },
  {
   "cell_type": "code",
   "execution_count": 84,
   "metadata": {},
   "outputs": [
    {
     "name": "stderr",
     "output_type": "stream",
     "text": [
      "/opt/homebrew/lib/python3.11/site-packages/sklearn/neural_network/_multilayer_perceptron.py:1102: DataConversionWarning: A column-vector y was passed when a 1d array was expected. Please change the shape of y to (n_samples, ), for example using ravel().\n",
      "  y = column_or_1d(y, warn=True)\n"
     ]
    },
    {
     "name": "stdout",
     "output_type": "stream",
     "text": [
      "========================================\n",
      "= Hidden Layers        : (60, 40, 20)\n",
      "= Activation           : relu\n",
      "= Learning Rate        : 0.002\n",
      "= Max Iterations       : 250\n",
      "= Momentum             : 0.8\n",
      "========================================\n",
      "= Training Accuracy    : 40.95\n",
      "========================================\n",
      "= Testing Accuracy     : 39.84\n",
      "========================================\n"
     ]
    }
   ],
   "source": [
    "run_mlp(hidden_layers=(60, 40, 20), activation='relu', learning_rate=0.002, max_iter=250, momentum=0.8)"
   ]
  },
  {
   "cell_type": "code",
   "execution_count": 85,
   "metadata": {},
   "outputs": [
    {
     "name": "stderr",
     "output_type": "stream",
     "text": [
      "/opt/homebrew/lib/python3.11/site-packages/sklearn/neural_network/_multilayer_perceptron.py:1102: DataConversionWarning: A column-vector y was passed when a 1d array was expected. Please change the shape of y to (n_samples, ), for example using ravel().\n",
      "  y = column_or_1d(y, warn=True)\n"
     ]
    },
    {
     "name": "stdout",
     "output_type": "stream",
     "text": [
      "========================================\n",
      "= Hidden Layers        : (80, 80)\n",
      "= Activation           : tanh\n",
      "= Learning Rate        : 0.005\n",
      "= Max Iterations       : 300\n",
      "= Momentum             : 0.85\n",
      "========================================\n",
      "= Training Accuracy    : 23.59\n",
      "========================================\n",
      "= Testing Accuracy     : 24.47\n",
      "========================================\n"
     ]
    }
   ],
   "source": [
    "run_mlp(hidden_layers=(80, 80), activation='tanh', learning_rate=0.005, max_iter=300, momentum=0.85)"
   ]
  },
  {
   "cell_type": "code",
   "execution_count": 86,
   "metadata": {},
   "outputs": [
    {
     "name": "stderr",
     "output_type": "stream",
     "text": [
      "/opt/homebrew/lib/python3.11/site-packages/sklearn/neural_network/_multilayer_perceptron.py:1102: DataConversionWarning: A column-vector y was passed when a 1d array was expected. Please change the shape of y to (n_samples, ), for example using ravel().\n",
      "  y = column_or_1d(y, warn=True)\n"
     ]
    },
    {
     "name": "stdout",
     "output_type": "stream",
     "text": [
      "========================================\n",
      "= Hidden Layers        : (120,)\n",
      "= Activation           : logistic\n",
      "= Learning Rate        : 0.007\n",
      "= Max Iterations       : 180\n",
      "= Momentum             : 0.92\n",
      "========================================\n",
      "= Training Accuracy    : 20.43\n",
      "========================================\n",
      "= Testing Accuracy     : 21.36\n",
      "========================================\n"
     ]
    }
   ],
   "source": [
    "run_mlp(hidden_layers=(120,), activation='logistic', learning_rate=0.007, max_iter=180, momentum=0.92)"
   ]
  },
  {
   "cell_type": "code",
   "execution_count": 87,
   "metadata": {},
   "outputs": [
    {
     "name": "stderr",
     "output_type": "stream",
     "text": [
      "/opt/homebrew/lib/python3.11/site-packages/sklearn/neural_network/_multilayer_perceptron.py:1102: DataConversionWarning: A column-vector y was passed when a 1d array was expected. Please change the shape of y to (n_samples, ), for example using ravel().\n",
      "  y = column_or_1d(y, warn=True)\n"
     ]
    },
    {
     "name": "stdout",
     "output_type": "stream",
     "text": [
      "========================================\n",
      "= Hidden Layers        : (50, 50, 50)\n",
      "= Activation           : relu\n",
      "= Learning Rate        : 0.006\n",
      "= Max Iterations       : 350\n",
      "= Momentum             : 0.88\n",
      "========================================\n",
      "= Training Accuracy    : 94.3\n",
      "========================================\n",
      "= Testing Accuracy     : 87.61\n",
      "========================================\n"
     ]
    }
   ],
   "source": [
    "run_mlp(hidden_layers=(50, 50, 50), activation='relu', learning_rate=0.006, max_iter=350, momentum=0.88)"
   ]
  },
  {
   "cell_type": "code",
   "execution_count": null,
   "metadata": {},
   "outputs": [],
   "source": []
  }
 ],
 "metadata": {
  "kernelspec": {
   "display_name": "Python 3",
   "language": "python",
   "name": "python3"
  },
  "language_info": {
   "codemirror_mode": {
    "name": "ipython",
    "version": 3
   },
   "file_extension": ".py",
   "mimetype": "text/x-python",
   "name": "python",
   "nbconvert_exporter": "python",
   "pygments_lexer": "ipython3",
   "version": "3.9.7"
  }
 },
 "nbformat": 4,
 "nbformat_minor": 2
}
