{
 "cells": [
  {
   "cell_type": "code",
   "execution_count": 37,
   "metadata": {},
   "outputs": [],
   "source": [
    "import pandas as pd\n",
    "from sklearn.naive_bayes import MultinomialNB\n",
    "from sklearn.model_selection import train_test_split\n",
    "from sklearn.metrics import accuracy_score\n",
    "from sklearn.metrics import confusion_matrix, classification_report, precision_score, recall_score, f1_score\n",
    "import matplotlib.pyplot as plt\n",
    "import seaborn as sns\n",
    "import numpy as np"
   ]
  },
  {
   "cell_type": "code",
   "execution_count": 38,
   "metadata": {},
   "outputs": [],
   "source": [
    "#Reading from CSV File and Storing in Dataframe\n",
    "X_train = pd.read_csv(\"../../Dataset/x_train_all.csv\")\n",
    "y_train = pd.read_csv('../../Dataset/y_train_all.csv')\n",
    "X_test = pd.read_csv('../../Dataset/x_test_all.csv')\n",
    "y_test = pd.read_csv('../../Dataset/y_test_all.csv')\n"
   ]
  },
  {
   "cell_type": "code",
   "execution_count": 39,
   "metadata": {},
   "outputs": [],
   "source": [
    "X_train = X_train/255.0\n",
    "X_test = X_test/255.0"
   ]
  },
  {
   "cell_type": "code",
   "execution_count": 41,
   "metadata": {},
   "outputs": [],
   "source": [
    "y_train_0 = pd.read_csv(\"../../Dataset/OnevrsAll/0_vrs_all/y_train_0.csv\")\n",
    "y_train_1 = pd.read_csv(\"../../Dataset/OnevrsAll/1_vrs_all/y_train_1.csv\")\n",
    "y_train_2 = pd.read_csv(\"../../Dataset/OnevrsAll/2_vrs_all/y_train_2.csv\")\n",
    "y_train_3 = pd.read_csv(\"../../Dataset/OnevrsAll/3_vrs_all/y_train_3.csv\")\n",
    "y_train_4 = pd.read_csv(\"../../Dataset/OnevrsAll/4_vrs_all/y_train_4.csv\")\n",
    "y_train_5 = pd.read_csv(\"../../Dataset/OnevrsAll/5_vrs_all/y_train_5.csv\")\n",
    "y_train_6 = pd.read_csv(\"../../Dataset/OnevrsAll/6_vrs_all/y_train_6.csv\")\n",
    "y_train_7 = pd.read_csv(\"../../Dataset/OnevrsAll/7_vrs_all/y_train_7.csv\")\n",
    "y_train_8 = pd.read_csv(\"../../Dataset/OnevrsAll/8_vrs_all/y_train_8.csv\")\n",
    "y_train_9 = pd.read_csv(\"../../Dataset/OnevrsAll/9_vrs_all/y_train_9.csv\")"
   ]
  },
  {
   "cell_type": "code",
   "execution_count": 42,
   "metadata": {},
   "outputs": [],
   "source": [
    "y_test_0 = pd.read_csv(\"../../Dataset/OnevrsAll/0_vrs_all/y_test_0.csv\")\n",
    "y_test_1 = pd.read_csv(\"../../Dataset/OnevrsAll/1_vrs_all/y_test_1.csv\")\n",
    "y_test_2 = pd.read_csv(\"../../Dataset/OnevrsAll/2_vrs_all/y_test_2.csv\")\n",
    "y_test_3 = pd.read_csv(\"../../Dataset/OnevrsAll/3_vrs_all/y_test_3.csv\")\n",
    "y_test_4 = pd.read_csv(\"../../Dataset/OnevrsAll/4_vrs_all/y_test_4.csv\")\n",
    "y_test_5 = pd.read_csv(\"../../Dataset/OnevrsAll/5_vrs_all/y_test_5.csv\")\n",
    "y_test_6 = pd.read_csv(\"../../Dataset/OnevrsAll/6_vrs_all/y_test_6.csv\")\n",
    "y_test_7 = pd.read_csv(\"../../Dataset/OnevrsAll/7_vrs_all/y_test_7.csv\")\n",
    "y_test_8 = pd.read_csv(\"../../Dataset/OnevrsAll/8_vrs_all/y_test_8.csv\")\n",
    "y_test_9 = pd.read_csv(\"../../Dataset/OnevrsAll/9_vrs_all/y_test_9.csv\")"
   ]
  },
  {
   "cell_type": "code",
   "execution_count": 43,
   "metadata": {},
   "outputs": [],
   "source": [
    "def cor_matrix(name):\n",
    "    y_name = f'y_train_{name}'\n",
    "    if y_name in globals():  \n",
    "        X_train[name] = globals()[y_name]\n",
    "    X_train[name] = X_train[name].replace({0:1,1:0})\n",
    "    corr_mat = X_train.corr()[name]\n",
    "    corr_mat = corr_mat.abs()\n",
    "    corr_mat = corr_mat.sort_values(ascending=False)\n",
    "    return corr_mat\n",
    "\n",
    "co_matrix_0 = cor_matrix(0)\n",
    "co_matrix_1 = cor_matrix(1)\n",
    "co_matrix_2 = cor_matrix(2)\n",
    "co_matrix_3 = cor_matrix(3)\n",
    "co_matrix_4 = cor_matrix(4)\n",
    "co_matrix_5 = cor_matrix(5)\n",
    "co_matrix_6 = cor_matrix(6)\n",
    "co_matrix_7 = cor_matrix(7)\n",
    "co_matrix_8 = cor_matrix(8)\n",
    "co_matrix_9 = cor_matrix(9)\n"
   ]
  },
  {
   "cell_type": "code",
   "execution_count": 44,
   "metadata": {},
   "outputs": [
    {
     "data": {
      "text/plain": [
       "0       1.000000\n",
       "2261    0.190060\n",
       "2262    0.190014\n",
       "2263    0.187942\n",
       "2213    0.186962\n",
       "          ...   \n",
       "363     0.000676\n",
       "412     0.000600\n",
       "945     0.000581\n",
       "361     0.000419\n",
       "1470    0.000373\n",
       "Name: 0, Length: 2305, dtype: float64"
      ]
     },
     "execution_count": 44,
     "metadata": {},
     "output_type": "execute_result"
    }
   ],
   "source": [
    "co_matrix_0"
   ]
  },
  {
   "cell_type": "code",
   "execution_count": 45,
   "metadata": {},
   "outputs": [],
   "source": [
    "#indexes to remove\n",
    "index_array =['y_train_0','y_train_1','y_train_2','y_train_3','y_train_4','y_train_5','y_train_6','y_train_7','y_train_8','y_train_9'] \n",
    "def remove_indexes(index_array, df):\n",
    "    return df[~df.index.isin(index_array)]\n",
    "\n",
    "co_matrix_0 = remove_indexes(index_array, co_matrix_0)\n",
    "co_matrix_1 = remove_indexes(index_array, co_matrix_1)\n",
    "co_matrix_2 = remove_indexes(index_array, co_matrix_2)\n",
    "co_matrix_3 = remove_indexes(index_array, co_matrix_3)\n",
    "co_matrix_4 = remove_indexes(index_array, co_matrix_4)\n",
    "co_matrix_5 = remove_indexes(index_array, co_matrix_5)\n",
    "co_matrix_6 = remove_indexes(index_array, co_matrix_6)\n",
    "co_matrix_7 = remove_indexes(index_array, co_matrix_7)\n",
    "co_matrix_8 = remove_indexes(index_array, co_matrix_8)\n",
    "co_matrix_9 = remove_indexes(index_array, co_matrix_9)    "
   ]
  },
  {
   "cell_type": "code",
   "execution_count": 46,
   "metadata": {},
   "outputs": [],
   "source": [
    "# class_0_5_features = np.array(co_matrix_0.iloc[1:6].index)\n",
    "# class_1_5_features = np.array((co_matrix_1[~co_matrix_1.index.isin(class_0_5_features)]).iloc[1:6].index)\n",
    "# features_50 = np.append(class_0_5_features, class_1_5_features)\n",
    "def features_selection(num_features):\n",
    "    features = np.array([])\n",
    "    for i in range(0,10):\n",
    "        co_matrix = globals()[f'co_matrix_{i}']\n",
    "        class_i_5_features = np.array((co_matrix[~co_matrix.index.isin(features)]).iloc[1:num_features+1].index)\n",
    "        features = np.append(features, class_i_5_features)\n",
    "    return features\n",
    "\n",
    "features_50 = features_selection(5)\n",
    "features_100 = features_selection(10)\n",
    "features_200 = features_selection(20)"
   ]
  },
  {
   "cell_type": "code",
   "execution_count": 47,
   "metadata": {},
   "outputs": [],
   "source": [
    "features_50 = np.unique(features_50.astype(int))\n",
    "features_100 = np.unique(features_100.astype(int))\n",
    "features_200 = np.unique(features_200.astype(int))"
   ]
  },
  {
   "cell_type": "code",
   "execution_count": 48,
   "metadata": {},
   "outputs": [
    {
     "name": "stdout",
     "output_type": "stream",
     "text": [
      "[   1    2  792  793  794  841  842  935  982  983 1030 1031 1072 1073\n",
      " 1074 1086 1120 1121 1134 1215 1216 1218 1219 1263 1265 1266 1268 1313\n",
      " 1316 1317 1507 1508 1666 1667 1694 1695 1713 1714 1715 1742 1743 1744\n",
      " 1760 1761 1762 2213 2260 2261 2262 2263]\n"
     ]
    },
    {
     "data": {
      "text/plain": [
       "50"
      ]
     },
     "execution_count": 48,
     "metadata": {},
     "output_type": "execute_result"
    }
   ],
   "source": [
    "print(features_50)\n",
    "len(features_50)"
   ]
  },
  {
   "cell_type": "code",
   "execution_count": 49,
   "metadata": {},
   "outputs": [
    {
     "name": "stdout",
     "output_type": "stream",
     "text": [
      "[   1    2    3  744  745  792  793  794  795  841  842  935  982  983\n",
      " 1025 1026 1030 1031 1072 1073 1074 1086 1119 1120 1121 1125 1134 1167\n",
      " 1168 1171 1173 1182 1183 1215 1216 1217 1218 1219 1263 1264 1265 1266\n",
      " 1268 1269 1311 1312 1313 1314 1315 1316 1317 1361 1364 1365 1459 1460\n",
      " 1461 1468 1469 1471 1506 1507 1508 1517 1518 1561 1562 1610 1666 1667\n",
      " 1694 1695 1696 1713 1714 1715 1742 1743 1744 1760 1761 1762 1763 1791\n",
      " 1792 2095 2096 2138 2139 2140 2165 2212 2213 2214 2215 2260 2261 2262\n",
      " 2263 2264]\n"
     ]
    },
    {
     "data": {
      "text/plain": [
       "100"
      ]
     },
     "execution_count": 49,
     "metadata": {},
     "output_type": "execute_result"
    }
   ],
   "source": [
    "print(features_100)\n",
    "len(features_100)"
   ]
  },
  {
   "cell_type": "code",
   "execution_count": 50,
   "metadata": {},
   "outputs": [
    {
     "name": "stdout",
     "output_type": "stream",
     "text": [
      "[   1    2    3  509  560  608  694  741  742  743  744  745  746  788\n",
      "  789  790  791  792  793  794  795  840  841  842  843  935  981  982\n",
      "  983 1024 1025 1026 1029 1030 1031 1037 1038 1071 1072 1073 1074 1077\n",
      " 1078 1085 1086 1119 1120 1121 1123 1125 1126 1133 1134 1135 1166 1167\n",
      " 1168 1169 1170 1171 1172 1173 1174 1176 1181 1182 1183 1214 1215 1216\n",
      " 1217 1218 1219 1220 1221 1222 1224 1230 1231 1262 1263 1264 1265 1266\n",
      " 1267 1268 1269 1310 1311 1312 1313 1314 1315 1316 1317 1358 1360 1361\n",
      " 1362 1363 1364 1365 1408 1409 1410 1420 1458 1459 1460 1461 1468 1469\n",
      " 1470 1471 1472 1505 1506 1507 1508 1517 1518 1519 1520 1561 1562 1563\n",
      " 1609 1610 1611 1618 1646 1647 1648 1659 1665 1666 1667 1693 1694 1695\n",
      " 1696 1712 1713 1714 1715 1741 1742 1743 1744 1745 1759 1760 1761 1762\n",
      " 1763 1790 1791 1792 1793 1807 1808 1809 1810 1979 2025 2026 2027 2028\n",
      " 2049 2050 2077 2078 2094 2095 2096 2097 2098 2138 2139 2140 2141 2142\n",
      " 2164 2165 2166 2186 2211 2212 2213 2214 2215 2216 2259 2260 2261 2262\n",
      " 2263 2264 2269 2270]\n"
     ]
    },
    {
     "data": {
      "text/plain": [
       "200"
      ]
     },
     "execution_count": 50,
     "metadata": {},
     "output_type": "execute_result"
    }
   ],
   "source": [
    "print(features_200)\n",
    "len(features_200)"
   ]
  },
  {
   "cell_type": "code",
   "execution_count": 51,
   "metadata": {},
   "outputs": [
    {
     "name": "stdout",
     "output_type": "stream",
     "text": [
      "========================================\n",
      "Accuracy Score : 0.4368932038834951\n",
      "========================================\n"
     ]
    },
    {
     "name": "stderr",
     "output_type": "stream",
     "text": [
      "c:\\Users\\Muhammad Nemr Aslam\\AppData\\Local\\Programs\\Python\\Python311\\Lib\\site-packages\\sklearn\\utils\\validation.py:1184: DataConversionWarning: A column-vector y was passed when a 1d array was expected. Please change the shape of y to (n_samples, ), for example using ravel().\n",
      "  y = column_or_1d(y, warn=True)\n"
     ]
    }
   ],
   "source": [
    "new_dataset_50 = X_train.iloc[:,features_50]\n",
    "#Creating the object of model and fitting the data\n",
    "nb_classifier_50 = MultinomialNB()\n",
    "nb_classifier_50.fit(new_dataset_50, y_train)\n",
    "#Predicting the test data\n",
    "new_test_dataset_50 = X_test.iloc[:,features_50]\n",
    "#Predicting the test data\n",
    "y_pred_50 = nb_classifier_50.predict(new_test_dataset_50)\n",
    "#Printing the accuracy score\n",
    "accuracy_50 = accuracy_score(y_test, y_pred_50)\n",
    "\n",
    "print(\"========================================\")\n",
    "print(\"Accuracy Score :\", accuracy_50)\n",
    "print(\"========================================\")"
   ]
  },
  {
   "cell_type": "code",
   "execution_count": 52,
   "metadata": {},
   "outputs": [
    {
     "name": "stdout",
     "output_type": "stream",
     "text": [
      "========================================\n",
      "Accuracy Score : 0.4961165048543689\n",
      "========================================\n"
     ]
    },
    {
     "name": "stderr",
     "output_type": "stream",
     "text": [
      "c:\\Users\\Muhammad Nemr Aslam\\AppData\\Local\\Programs\\Python\\Python311\\Lib\\site-packages\\sklearn\\utils\\validation.py:1184: DataConversionWarning: A column-vector y was passed when a 1d array was expected. Please change the shape of y to (n_samples, ), for example using ravel().\n",
      "  y = column_or_1d(y, warn=True)\n"
     ]
    }
   ],
   "source": [
    "new_dataset_100 = X_train.iloc[:,features_100]\n",
    "#Creating the object of model and fitting the data\n",
    "nb_classifier_100 = MultinomialNB()\n",
    "nb_classifier_100.fit(new_dataset_100, y_train)\n",
    "#Predicting the test data\n",
    "new_test_dataset_100 = X_test.iloc[:,features_100]\n",
    "#Predicting the test data\n",
    "y_pred_100 = nb_classifier_100.predict(new_test_dataset_100)\n",
    "#Printing the accuracy score\n",
    "accuracy_100 = accuracy_score(y_test, y_pred_100)\n",
    "print(\"========================================\")\n",
    "print(\"Accuracy Score :\", accuracy_100)\n",
    "print(\"========================================\")"
   ]
  },
  {
   "cell_type": "code",
   "execution_count": 53,
   "metadata": {},
   "outputs": [
    {
     "name": "stdout",
     "output_type": "stream",
     "text": [
      "========================================\n",
      "Accuracy Score : 0.5074433656957928\n",
      "========================================\n"
     ]
    },
    {
     "name": "stderr",
     "output_type": "stream",
     "text": [
      "c:\\Users\\Muhammad Nemr Aslam\\AppData\\Local\\Programs\\Python\\Python311\\Lib\\site-packages\\sklearn\\utils\\validation.py:1184: DataConversionWarning: A column-vector y was passed when a 1d array was expected. Please change the shape of y to (n_samples, ), for example using ravel().\n",
      "  y = column_or_1d(y, warn=True)\n"
     ]
    }
   ],
   "source": [
    "new_dataset_200 = X_train.iloc[:,features_200]\n",
    "#Creating the object of model and fitting the data\n",
    "nb_classifier_200 = MultinomialNB()\n",
    "nb_classifier_200.fit(new_dataset_200, y_train)\n",
    "#Predicting the test data\n",
    "new_test_dataset_200 = X_test.iloc[:,features_200]\n",
    "#Predicting the test data\n",
    "y_pred_200 = nb_classifier_200.predict(new_test_dataset_200)\n",
    "#Printing the accuracy score\n",
    "accuracy_200 = accuracy_score(y_test, y_pred_200)\n",
    "print(\"========================================\")\n",
    "print(\"Accuracy Score :\", accuracy_200)\n",
    "print(\"========================================\")"
   ]
  },
  {
   "cell_type": "code",
   "execution_count": null,
   "metadata": {},
   "outputs": [],
   "source": []
  }
 ],
 "metadata": {
  "kernelspec": {
   "display_name": "Python 3",
   "language": "python",
   "name": "python3"
  },
  "language_info": {
   "codemirror_mode": {
    "name": "ipython",
    "version": 3
   },
   "file_extension": ".py",
   "mimetype": "text/x-python",
   "name": "python",
   "nbconvert_exporter": "python",
   "pygments_lexer": "ipython3",
   "version": "3.11.5"
  }
 },
 "nbformat": 4,
 "nbformat_minor": 2
}
