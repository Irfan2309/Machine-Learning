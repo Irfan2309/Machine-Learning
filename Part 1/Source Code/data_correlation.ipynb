{
 "cells": [
  {
   "cell_type": "code",
   "execution_count": 17,
   "metadata": {},
   "outputs": [],
   "source": [
    "import pandas as pd\n",
    "from sklearn.naive_bayes import MultinomialNB\n",
    "from sklearn.model_selection import train_test_split\n",
    "from sklearn.metrics import accuracy_score\n",
    "from sklearn.metrics import confusion_matrix, classification_report, precision_score, recall_score, f1_score\n",
    "import matplotlib.pyplot as plt\n",
    "import seaborn as sns\n",
    "import numpy as np"
   ]
  },
  {
   "cell_type": "code",
   "execution_count": null,
   "metadata": {},
   "outputs": [],
   "source": []
  },
  {
   "cell_type": "code",
   "execution_count": 3,
   "metadata": {},
   "outputs": [],
   "source": [
    "#Reading from CSV File and Storing in Dataframe\n",
    "X_train = pd.read_csv('../../Dataset/x_train_all.csv')\n",
    "y_train = pd.read_csv('../../Dataset/y_train_all.csv')\n",
    "X_test = pd.read_csv('../../Dataset/x_test_all.csv')\n",
    "y_test = pd.read_csv('../../Dataset/y_test_all.csv')"
   ]
  },
  {
   "cell_type": "code",
   "execution_count": 4,
   "metadata": {},
   "outputs": [
    {
     "name": "stdout",
     "output_type": "stream",
     "text": [
      "correlation_matrix_0 = X_train.corr()['class_0']\n",
      "correlation_matrix_1 = X_train.corr()['class_1']\n",
      "correlation_matrix_2 = X_train.corr()['class_2']\n",
      "correlation_matrix_3 = X_train.corr()['class_3']\n",
      "correlation_matrix_4 = X_train.corr()['class_4']\n",
      "correlation_matrix_5 = X_train.corr()['class_5']\n",
      "correlation_matrix_6 = X_train.corr()['class_6']\n",
      "correlation_matrix_7 = X_train.corr()['class_7']\n",
      "correlation_matrix_8 = X_train.corr()['class_8']\n",
      "correlation_matrix_9 = X_train.corr()['class_9']\n"
     ]
    }
   ],
   "source": [
    "for i in range(0,10):\n",
    "    print(\"correlation_matrix_\",i,\" = X_train.corr()['class_\",i,\"']\", sep='')\n",
    "    # print(\"X_train['class_\",i,\"'] = X_train['class_\",i,\"'].replace({0:1,1:0})\", sep = '')\n",
    "    # print(\"X_train['class_\",i,\"'] = y_train_\",i,sep='')\n",
    "    # print('y_test_',i,' = pd.read_csv(\"../../Dataset/OnevrsAll/' , i , '_vrs_all/y_test_' , i,'.csv\")', sep='')"
   ]
  },
  {
   "cell_type": "code",
   "execution_count": 5,
   "metadata": {},
   "outputs": [],
   "source": [
    "y_train_0 = pd.read_csv(\"../../Dataset/OnevrsAll/0_vrs_all/y_train_0.csv\")\n",
    "y_train_1 = pd.read_csv(\"../../Dataset/OnevrsAll/1_vrs_all/y_train_1.csv\")\n",
    "y_train_2 = pd.read_csv(\"../../Dataset/OnevrsAll/2_vrs_all/y_train_2.csv\")\n",
    "y_train_3 = pd.read_csv(\"../../Dataset/OnevrsAll/3_vrs_all/y_train_3.csv\")\n",
    "y_train_4 = pd.read_csv(\"../../Dataset/OnevrsAll/4_vrs_all/y_train_4.csv\")\n",
    "y_train_5 = pd.read_csv(\"../../Dataset/OnevrsAll/5_vrs_all/y_train_5.csv\")\n",
    "y_train_6 = pd.read_csv(\"../../Dataset/OnevrsAll/6_vrs_all/y_train_6.csv\")\n",
    "y_train_7 = pd.read_csv(\"../../Dataset/OnevrsAll/7_vrs_all/y_train_7.csv\")\n",
    "y_train_8 = pd.read_csv(\"../../Dataset/OnevrsAll/8_vrs_all/y_train_8.csv\")\n",
    "y_train_9 = pd.read_csv(\"../../Dataset/OnevrsAll/9_vrs_all/y_train_9.csv\")"
   ]
  },
  {
   "cell_type": "code",
   "execution_count": 6,
   "metadata": {},
   "outputs": [],
   "source": [
    "y_test_0 = pd.read_csv(\"../../Dataset/OnevrsAll/0_vrs_all/y_test_0.csv\")\n",
    "y_test_1 = pd.read_csv(\"../../Dataset/OnevrsAll/1_vrs_all/y_test_1.csv\")\n",
    "y_test_2 = pd.read_csv(\"../../Dataset/OnevrsAll/2_vrs_all/y_test_2.csv\")\n",
    "y_test_3 = pd.read_csv(\"../../Dataset/OnevrsAll/3_vrs_all/y_test_3.csv\")\n",
    "y_test_4 = pd.read_csv(\"../../Dataset/OnevrsAll/4_vrs_all/y_test_4.csv\")\n",
    "y_test_5 = pd.read_csv(\"../../Dataset/OnevrsAll/5_vrs_all/y_test_5.csv\")\n",
    "y_test_6 = pd.read_csv(\"../../Dataset/OnevrsAll/6_vrs_all/y_test_6.csv\")\n",
    "y_test_7 = pd.read_csv(\"../../Dataset/OnevrsAll/7_vrs_all/y_test_7.csv\")\n",
    "y_test_8 = pd.read_csv(\"../../Dataset/OnevrsAll/8_vrs_all/y_test_8.csv\")\n",
    "y_test_9 = pd.read_csv(\"../../Dataset/OnevrsAll/9_vrs_all/y_test_9.csv\")"
   ]
  },
  {
   "cell_type": "code",
   "execution_count": 7,
   "metadata": {},
   "outputs": [],
   "source": [
    "X_train['class_0'] = y_train_0\n",
    "X_train['class_1'] = y_train_1\n",
    "X_train['class_2'] = y_train_2\n",
    "X_train['class_3'] = y_train_3\n",
    "X_train['class_4'] = y_train_4\n",
    "X_train['class_5'] = y_train_5\n",
    "X_train['class_6'] = y_train_6\n",
    "X_train['class_7'] = y_train_7\n",
    "X_train['class_8'] = y_train_8\n",
    "X_train['class_9'] = y_train_9"
   ]
  },
  {
   "cell_type": "code",
   "execution_count": 8,
   "metadata": {},
   "outputs": [],
   "source": [
    "X_train['class_0'] = X_train['class_0'].replace({0:1,1:0})\n",
    "X_train['class_1'] = X_train['class_1'].replace({0:1,1:0})\n",
    "X_train['class_2'] = X_train['class_2'].replace({0:1,1:0})\n",
    "X_train['class_3'] = X_train['class_3'].replace({0:1,1:0})\n",
    "X_train['class_4'] = X_train['class_4'].replace({0:1,1:0})\n",
    "X_train['class_5'] = X_train['class_5'].replace({0:1,1:0})\n",
    "X_train['class_6'] = X_train['class_6'].replace({0:1,1:0})\n",
    "X_train['class_7'] = X_train['class_7'].replace({0:1,1:0})\n",
    "X_train['class_8'] = X_train['class_8'].replace({0:1,1:0})\n",
    "X_train['class_9'] = X_train['class_9'].replace({0:1,1:0})"
   ]
  },
  {
   "cell_type": "code",
   "execution_count": null,
   "metadata": {},
   "outputs": [],
   "source": []
  },
  {
   "cell_type": "code",
   "execution_count": 12,
   "metadata": {},
   "outputs": [],
   "source": [
    "# correlation_matrix.sort_values(ascending=False).head(6)"
   ]
  },
  {
   "cell_type": "markdown",
   "metadata": {},
   "source": []
  },
  {
   "cell_type": "code",
   "execution_count": 10,
   "metadata": {},
   "outputs": [
    {
     "ename": "NameError",
     "evalue": "name 'correlation_matrix' is not defined",
     "output_type": "error",
     "traceback": [
      "\u001b[0;31m---------------------------------------------------------------------------\u001b[0m",
      "\u001b[0;31mNameError\u001b[0m                                 Traceback (most recent call last)",
      "\u001b[1;32m/Users/akshaygarg/Documents/Github/DMML-CW/Part 1/Source Code/data_correlation.ipynb Cell 11\u001b[0m line \u001b[0;36m1\n\u001b[0;32m----> <a href='vscode-notebook-cell:/Users/akshaygarg/Documents/Github/DMML-CW/Part%201/Source%20Code/data_correlation.ipynb#X32sZmlsZQ%3D%3D?line=0'>1</a>\u001b[0m correlation_matrix\u001b[39m.\u001b[39msort_values(ascending\u001b[39m=\u001b[39m\u001b[39mFalse\u001b[39;00m)\u001b[39m.\u001b[39mtail(\u001b[39m10\u001b[39m)\n",
      "\u001b[0;31mNameError\u001b[0m: name 'correlation_matrix' is not defined"
     ]
    }
   ],
   "source": [
    "# correlation_matrix.sort_values(ascending=False).tail(10)"
   ]
  },
  {
   "cell_type": "code",
   "execution_count": 11,
   "metadata": {},
   "outputs": [],
   "source": [
    "correlation_matrix_0 = X_train.corr()['class_0']\n",
    "correlation_matrix_1 = X_train.corr()['class_1']\n",
    "correlation_matrix_2 = X_train.corr()['class_2']\n",
    "correlation_matrix_3 = X_train.corr()['class_3']\n",
    "correlation_matrix_4 = X_train.corr()['class_4']\n",
    "correlation_matrix_5 = X_train.corr()['class_5']\n",
    "correlation_matrix_6 = X_train.corr()['class_6']\n",
    "correlation_matrix_7 = X_train.corr()['class_7']\n",
    "correlation_matrix_8 = X_train.corr()['class_8']\n",
    "correlation_matrix_9 = X_train.corr()['class_9']"
   ]
  },
  {
   "cell_type": "code",
   "execution_count": 98,
   "metadata": {},
   "outputs": [],
   "source": [
    "correlation_matrix_0 = correlation_matrix_0.abs()\n",
    "correlation_matrix_1 = correlation_matrix_1.abs()\n",
    "correlation_matrix_2 = correlation_matrix_2.abs()\n",
    "correlation_matrix_3 = correlation_matrix_3.abs()\n",
    "correlation_matrix_4 = correlation_matrix_4.abs()\n",
    "correlation_matrix_5 = correlation_matrix_5.abs()\n",
    "correlation_matrix_6 = correlation_matrix_6.abs()\n",
    "correlation_matrix_7 = correlation_matrix_7.abs()\n",
    "correlation_matrix_8 = correlation_matrix_8.abs()\n",
    "correlation_matrix_9 = correlation_matrix_9.abs()"
   ]
  },
  {
   "cell_type": "code",
   "execution_count": 103,
   "metadata": {},
   "outputs": [],
   "source": [
    "correlation_matrix_0 = correlation_matrix_0.drop(columns=['class_0','class_1','class_2','class_3','class_4','class_5','class_6','class_7','class_8','class_9','actual'],axis=1)\n",
    "correlation_matrix_1 = correlation_matrix_1.drop(columns=['class_0','class_1','class_2','class_3','class_4','class_5','class_6','class_7','class_8','class_9','actual'],axis=1)\n",
    "correlation_matrix_2 = correlation_matrix_2.drop(columns=['class_0','class_1','class_2','class_3','class_4','class_5','class_6','class_7','class_8','class_9','actual'],axis=1)\n",
    "correlation_matrix_3 = correlation_matrix_3.drop(columns=['class_0','class_1','class_2','class_3','class_4','class_5','class_6','class_7','class_8','class_9','actual'],axis=1)\n",
    "correlation_matrix_4 = correlation_matrix_4.drop(columns=['class_0','class_1','class_2','class_3','class_4','class_5','class_6','class_7','class_8','class_9','actual'],axis=1)\n",
    "correlation_matrix_5 = correlation_matrix_5.drop(columns=['class_0','class_1','class_2','class_3','class_4','class_5','class_6','class_7','class_8','class_9','actual'],axis=1)\n",
    "correlation_matrix_6 = correlation_matrix_6.drop(columns=['class_0','class_1','class_2','class_3','class_4','class_5','class_6','class_7','class_8','class_9','actual'],axis=1)\n",
    "correlation_matrix_7 = correlation_matrix_7.drop(columns=['class_0','class_1','class_2','class_3','class_4','class_5','class_6','class_7','class_8','class_9','actual'],axis=1)\n",
    "correlation_matrix_8 = correlation_matrix_8.drop(columns=['class_0','class_1','class_2','class_3','class_4','class_5','class_6','class_7','class_8','class_9','actual'],axis=1)\n",
    "correlation_matrix_9 = correlation_matrix_9.drop(columns=['class_0','class_1','class_2','class_3','class_4','class_5','class_6','class_7','class_8','class_9','actual'],axis=1)\n"
   ]
  },
  {
   "cell_type": "code",
   "execution_count": 110,
   "metadata": {},
   "outputs": [
    {
     "data": {
      "text/plain": [
       "0          0.058439\n",
       "1          0.057728\n",
       "2          0.054702\n",
       "3          0.051526\n",
       "4          0.055726\n",
       "             ...   \n",
       "class_5    0.022152\n",
       "class_6    0.029236\n",
       "class_7    0.023719\n",
       "class_8    0.036157\n",
       "class_9    0.025198\n",
       "Name: class_0, Length: 2314, dtype: float64"
      ]
     },
     "execution_count": 110,
     "metadata": {},
     "output_type": "execute_result"
    }
   ],
   "source": [
    "correlation_matrix_0"
   ]
  },
  {
   "cell_type": "code",
   "execution_count": 107,
   "metadata": {},
   "outputs": [
    {
     "name": "stdout",
     "output_type": "stream",
     "text": [
      "['2261' '2262' '2263' '2213' '2260' '1073' '1121' '1120' '1074' '1072']\n",
      "['2261' '2262' '2263' '2213' '2260' '1073' '1121' '1120' '1074' '1072'\n",
      " '1316' '1030' 'class_1' '1317' '1268']\n",
      "['2261' '2262' '2263' '2213' '2260' '1073' '1121' '1120' '1074' '1072'\n",
      " '1316' '1030' 'class_1' '1317' '1268' '1218' '1265' '1313' '1266' '1219']\n",
      "['2261' '2262' '2263' '2213' '2260' '1073' '1121' '1120' '1074' '1072'\n",
      " '1316' '1030' 'class_1' '1317' '1268' '1218' '1265' '1313' '1266' '1219'\n",
      " 'class_2' '983' '1031' '982' '935']\n",
      "['2261' '2262' '2263' '2213' '2260' '1073' '1121' '1120' '1074' '1072'\n",
      " '1316' '1030' 'class_1' '1317' '1268' '1218' '1265' '1313' '1266' '1219'\n",
      " 'class_2' '983' '1031' '982' '935' '1743' '1507' '1744' '1508' '1742']\n",
      "['2261' '2262' '2263' '2213' '2260' '1073' '1121' '1120' '1074' '1072'\n",
      " '1316' '1030' 'class_1' '1317' '1268' '1218' '1265' '1313' '1266' '1219'\n",
      " 'class_2' '983' '1031' '982' '935' '1743' '1507' '1744' '1508' '1742'\n",
      " '793' '794' '841' '842' '792']\n",
      "['2261' '2262' '2263' '2213' '2260' '1073' '1121' '1120' '1074' '1072'\n",
      " '1316' '1030' 'class_1' '1317' '1268' '1218' '1265' '1313' '1266' '1219'\n",
      " 'class_2' '983' '1031' '982' '935' '1743' '1507' '1744' '1508' '1742'\n",
      " '793' '794' '841' '842' '792' '1761' '1695' '1694' '1714' '1713']\n",
      "['2261' '2262' '2263' '2213' '2260' '1073' '1121' '1120' '1074' '1072'\n",
      " '1316' '1030' 'class_1' '1317' '1268' '1218' '1265' '1313' '1266' '1219'\n",
      " 'class_2' '983' '1031' '982' '935' '1743' '1507' '1744' '1508' '1742'\n",
      " '793' '794' '841' '842' '792' '1761' '1695' '1694' '1714' '1713' '1715'\n",
      " '1666' '1762' '1667' '1760']\n",
      "['2261' '2262' '2263' '2213' '2260' '1073' '1121' '1120' '1074' '1072'\n",
      " '1316' '1030' 'class_1' '1317' '1268' '1218' '1265' '1313' '1266' '1219'\n",
      " 'class_2' '983' '1031' '982' '935' '1743' '1507' '1744' '1508' '1742'\n",
      " '793' '794' '841' '842' '792' '1761' '1695' '1694' '1714' '1713' '1715'\n",
      " '1666' '1762' '1667' '1760' '1134' '1215' '1263' '1086' '1216']\n"
     ]
    }
   ],
   "source": [
    "class_0_5_features = np.array(correlation_matrix_0.sort_values(ascending=False).iloc[1:6].index)\n",
    "class_1_5_features = np.array((correlation_matrix_1[~correlation_matrix_1.index.isin(class_0_5_features)]).sort_values(ascending=False).iloc[1:6].index)\n",
    "features_50 = np.append(class_0_5_features,class_1_5_features)\n",
    "print(features_50)\n",
    "class_2_5_features = np.array((correlation_matrix_2[~correlation_matrix_2.index.isin(features_50)]).sort_values(ascending=False).iloc[1:6].index)\n",
    "features_50 = np.append(features_50,class_2_5_features)\n",
    "print(features_50)\n",
    "class_3_5_features = np.array((correlation_matrix_3[~correlation_matrix_3.index.isin(features_50)]).sort_values(ascending=False).iloc[1:6].index)\n",
    "features_50 = np.append(features_50,class_3_5_features)\n",
    "print(features_50)\n",
    "class_4_5_features = np.array((correlation_matrix_4[~correlation_matrix_4.index.isin(features_50)]).sort_values(ascending=False).iloc[1:6].index)\n",
    "features_50 = np.append(features_50,class_4_5_features)\n",
    "print(features_50)\n",
    "class_5_5_features = np.array((correlation_matrix_5[~correlation_matrix_5.index.isin(features_50)]).sort_values(ascending=False).iloc[1:6].index)\n",
    "features_50 = np.append(features_50,class_5_5_features)\n",
    "print(features_50)\n",
    "class_6_5_features = np.array((correlation_matrix_6[~correlation_matrix_6.index.isin(features_50)]).sort_values(ascending=False).iloc[1:6].index)\n",
    "features_50 = np.append(features_50,class_6_5_features)\n",
    "print(features_50)\n",
    "class_7_5_features = np.array((correlation_matrix_7[~correlation_matrix_7.index.isin(features_50)]).sort_values(ascending=False).iloc[1:6].index)\n",
    "features_50 = np.append(features_50,class_7_5_features)\n",
    "print(features_50)\n",
    "class_8_5_features = np.array((correlation_matrix_8[~correlation_matrix_8.index.isin(features_50)]).sort_values(ascending=False).iloc[1:6].index)\n",
    "features_50 = np.append(features_50,class_8_5_features)\n",
    "print(features_50)\n",
    "class_9_5_features = np.array((correlation_matrix_9[~correlation_matrix_9.index.isin(features_50)]).sort_values(ascending=False).iloc[1:6].index)\n",
    "features_50 = np.append(features_50,class_9_5_features)\n",
    "print(features_50)"
   ]
  },
  {
   "cell_type": "code",
   "execution_count": 108,
   "metadata": {},
   "outputs": [
    {
     "data": {
      "text/plain": [
       "array(['1030', '1031', '1072', '1073', '1074', '1086', '1120', '1121',\n",
       "       '1134', '1215', '1216', '1218', '1219', '1263', '1265', '1266',\n",
       "       '1268', '1313', '1316', '1317', '1507', '1508', '1666', '1667',\n",
       "       '1694', '1695', '1713', '1714', '1715', '1742', '1743', '1744',\n",
       "       '1760', '1761', '1762', '2213', '2260', '2261', '2262', '2263',\n",
       "       '792', '793', '794', '841', '842', '935', '982', '983', 'class_1',\n",
       "       'class_2'], dtype=object)"
      ]
     },
     "execution_count": 108,
     "metadata": {},
     "output_type": "execute_result"
    }
   ],
   "source": [
    "np.unique(features_50)"
   ]
  },
  {
   "cell_type": "code",
   "execution_count": 44,
   "metadata": {},
   "outputs": [],
   "source": [
    "class_0_10_features = np.array(correlation_matrix_0.sort_values(ascending=True).iloc[1:11].index)\n",
    "class_1_10_features = np.array((~correlation_matrix_1.index.isin(index_array)).sort_values(ascending=True).iloc[1:11].index)\n",
    "class_2_10_features = np.array(correlation_matrix_2.sort_values(ascending=True).iloc[1:11].index)\n",
    "class_3_10_features = np.array(correlation_matrix_3.sort_values(ascending=True).iloc[1:11].index)\n",
    "class_4_10_features = np.array(correlation_matrix_4.sort_values(ascending=True).iloc[1:11].index)\n",
    "class_5_10_features = np.array(correlation_matrix_5.sort_values(ascending=True).iloc[1:11].index)\n",
    "class_6_10_features = np.array(correlation_matrix_6.sort_values(ascending=True).iloc[1:11].index)\n",
    "class_7_10_features = np.array(correlation_matrix_7.sort_values(ascending=True).iloc[1:11].index)\n",
    "class_8_10_features = np.array(correlation_matrix_8.sort_values(ascending=True).iloc[1:11].index)\n",
    "class_9_10_features = np.array(correlation_matrix_9.sort_values(ascending=True).iloc[1:11].index)"
   ]
  },
  {
   "cell_type": "code",
   "execution_count": 45,
   "metadata": {},
   "outputs": [],
   "source": [
    "class_0_20_features = np.array(correlation_matrix_0.sort_values(ascending=True).iloc[1:21].index)\n",
    "class_1_20_features = np.array(correlation_matrix_1.sort_values(ascending=True).iloc[1:21].index)\n",
    "class_2_20_features = np.array(correlation_matrix_2.sort_values(ascending=True).iloc[1:21].index)\n",
    "class_3_20_features = np.array(correlation_matrix_3.sort_values(ascending=True).iloc[1:21].index)\n",
    "class_4_20_features = np.array(correlation_matrix_4.sort_values(ascending=True).iloc[1:21].index)\n",
    "class_5_20_features = np.array(correlation_matrix_5.sort_values(ascending=True).iloc[1:21].index)\n",
    "class_6_20_features = np.array(correlation_matrix_6.sort_values(ascending=True).iloc[1:21].index)\n",
    "class_7_20_features = np.array(correlation_matrix_7.sort_values(ascending=True).iloc[1:21].index)\n",
    "class_8_20_features = np.array(correlation_matrix_8.sort_values(ascending=True).iloc[1:21].index)\n",
    "class_9_20_features = np.array(correlation_matrix_9.sort_values(ascending=True).iloc[1:21].index)"
   ]
  },
  {
   "cell_type": "code",
   "execution_count": 46,
   "metadata": {},
   "outputs": [
    {
     "data": {
      "text/plain": [
       "array(['2261', '2262', '2263', '2213', '2260'], dtype=object)"
      ]
     },
     "execution_count": 46,
     "metadata": {},
     "output_type": "execute_result"
    }
   ],
   "source": [
    "class_0_5_features"
   ]
  },
  {
   "cell_type": "code",
   "execution_count": 53,
   "metadata": {},
   "outputs": [],
   "source": [
    "features_50 = np.concatenate((class_0_5_features,class_1_5_features,class_2_5_features,class_3_5_features,class_4_5_features,class_5_5_features,class_6_5_features,class_7_5_features,class_8_5_features,class_9_5_features))"
   ]
  },
  {
   "cell_type": "code",
   "execution_count": 54,
   "metadata": {},
   "outputs": [
    {
     "data": {
      "text/plain": [
       "dtype('O')"
      ]
     },
     "execution_count": 54,
     "metadata": {},
     "output_type": "execute_result"
    }
   ],
   "source": [
    "features_50.dtype"
   ]
  },
  {
   "cell_type": "code",
   "execution_count": 60,
   "metadata": {},
   "outputs": [],
   "source": [
    "features_50 = np.unique(features_50.astype(str))\n",
    "\n",
    "# Create a boolean mask to identify non-integer values\n",
    "mask = np.char.isnumeric(features_50)\n",
    "# Use the mask to filter the array\n",
    "filtered_array = features_50[mask]"
   ]
  },
  {
   "cell_type": "code",
   "execution_count": 62,
   "metadata": {},
   "outputs": [
    {
     "data": {
      "text/plain": [
       "42"
      ]
     },
     "execution_count": 62,
     "metadata": {},
     "output_type": "execute_result"
    }
   ],
   "source": [
    "len(filtered_array)"
   ]
  },
  {
   "cell_type": "code",
   "execution_count": 63,
   "metadata": {},
   "outputs": [],
   "source": [
    "def get_unique_features(correlation_matrix, num_features=5):\n",
    "    unique_features = set()  # Use a set to store unique features\n",
    "    \n",
    "    # Iterate through each class\n",
    "    for class_name in correlation_matrix.columns:\n",
    "        # Sort and select the top features\n",
    "        top_features = correlation_matrix[class_name].sort_values(ascending=False).iloc[1:num_features + 1].index\n",
    "        unique_features.update(top_features)\n",
    "    \n",
    "    return list(unique_features)\n"
   ]
  },
  {
   "cell_type": "code",
   "execution_count": 67,
   "metadata": {},
   "outputs": [],
   "source": [
    "data = {'A': [1, 2, 3, 4], 'B': [5, 6, 7, 8]}\n",
    "df = pd.DataFrame(data)"
   ]
  },
  {
   "cell_type": "code",
   "execution_count": 68,
   "metadata": {},
   "outputs": [
    {
     "data": {
      "text/html": [
       "<div>\n",
       "<style scoped>\n",
       "    .dataframe tbody tr th:only-of-type {\n",
       "        vertical-align: middle;\n",
       "    }\n",
       "\n",
       "    .dataframe tbody tr th {\n",
       "        vertical-align: top;\n",
       "    }\n",
       "\n",
       "    .dataframe thead th {\n",
       "        text-align: right;\n",
       "    }\n",
       "</style>\n",
       "<table border=\"1\" class=\"dataframe\">\n",
       "  <thead>\n",
       "    <tr style=\"text-align: right;\">\n",
       "      <th></th>\n",
       "      <th>A</th>\n",
       "      <th>B</th>\n",
       "    </tr>\n",
       "  </thead>\n",
       "  <tbody>\n",
       "    <tr>\n",
       "      <th>0</th>\n",
       "      <td>1</td>\n",
       "      <td>5</td>\n",
       "    </tr>\n",
       "    <tr>\n",
       "      <th>1</th>\n",
       "      <td>2</td>\n",
       "      <td>6</td>\n",
       "    </tr>\n",
       "    <tr>\n",
       "      <th>2</th>\n",
       "      <td>3</td>\n",
       "      <td>7</td>\n",
       "    </tr>\n",
       "    <tr>\n",
       "      <th>3</th>\n",
       "      <td>4</td>\n",
       "      <td>8</td>\n",
       "    </tr>\n",
       "  </tbody>\n",
       "</table>\n",
       "</div>"
      ],
      "text/plain": [
       "   A  B\n",
       "0  1  5\n",
       "1  2  6\n",
       "2  3  7\n",
       "3  4  8"
      ]
     },
     "execution_count": 68,
     "metadata": {},
     "output_type": "execute_result"
    }
   ],
   "source": [
    "df"
   ]
  },
  {
   "cell_type": "code",
   "execution_count": 70,
   "metadata": {},
   "outputs": [
    {
     "data": {
      "text/html": [
       "<div>\n",
       "<style scoped>\n",
       "    .dataframe tbody tr th:only-of-type {\n",
       "        vertical-align: middle;\n",
       "    }\n",
       "\n",
       "    .dataframe tbody tr th {\n",
       "        vertical-align: top;\n",
       "    }\n",
       "\n",
       "    .dataframe thead th {\n",
       "        text-align: right;\n",
       "    }\n",
       "</style>\n",
       "<table border=\"1\" class=\"dataframe\">\n",
       "  <thead>\n",
       "    <tr style=\"text-align: right;\">\n",
       "      <th></th>\n",
       "      <th>A</th>\n",
       "      <th>B</th>\n",
       "    </tr>\n",
       "  </thead>\n",
       "  <tbody>\n",
       "    <tr>\n",
       "      <th>0</th>\n",
       "      <td>1</td>\n",
       "      <td>5</td>\n",
       "    </tr>\n",
       "    <tr>\n",
       "      <th>2</th>\n",
       "      <td>3</td>\n",
       "      <td>7</td>\n",
       "    </tr>\n",
       "  </tbody>\n",
       "</table>\n",
       "</div>"
      ],
      "text/plain": [
       "   A  B\n",
       "0  1  5\n",
       "2  3  7"
      ]
     },
     "execution_count": 70,
     "metadata": {},
     "output_type": "execute_result"
    }
   ],
   "source": [
    "index_array = np.array([1, 3])\n",
    "df[~df.index.isin(index_array)]"
   ]
  },
  {
   "cell_type": "code",
   "execution_count": 71,
   "metadata": {},
   "outputs": [],
   "source": []
  },
  {
   "cell_type": "code",
   "execution_count": 79,
   "metadata": {},
   "outputs": [
    {
     "data": {
      "text/plain": [
       "0          0.118066\n",
       "1          0.122209\n",
       "2          0.122218\n",
       "3          0.122916\n",
       "4          0.123027\n",
       "             ...   \n",
       "class_5    0.081138\n",
       "class_6    0.107085\n",
       "class_7    0.086877\n",
       "class_8    0.132435\n",
       "class_9    0.092294\n",
       "Name: class_1, Length: 2309, dtype: float64"
      ]
     },
     "execution_count": 79,
     "metadata": {},
     "output_type": "execute_result"
    }
   ],
   "source": [
    "class_0_5_features = np.array(correlation_matrix_0.sort_values(ascending=False).iloc[1:6].index)\n",
    "correlation_matrix_1[~correlation_matrix_1.index.isin(class_0_5_features)]"
   ]
  },
  {
   "cell_type": "code",
   "execution_count": 92,
   "metadata": {},
   "outputs": [],
   "source": [
    "class_0_5_features = np.array(correlation_matrix_0.sort_values(ascending=False).iloc[1:6].index)\n",
    "class_1_5_features = np.array((correlation_matrix_1[~correlation_matrix_1.index.isin(class_0_5_features)]).sort_values(ascending=False).iloc[1:6].index)\n",
    "features_50 = np.append(class_0_5_features,class_1_5_features)\n",
    "class_2_5_features = np.array((correlation_matrix_2[~correlation_matrix_2.index.isin(features_50)]).sort_values(ascending=False).iloc[1:6].index)\n",
    "features_50 = np.append(features_50,class_2_5_features)\n",
    "class_3_5_features = np.array((correlation_matrix_3[~correlation_matrix_3.index.isin(features_50)]).sort_values(ascending=False).iloc[1:6].index)\n",
    "features_50 = np.append(features_50,class_3_5_features)\n",
    "class_4_5_features = np.array((correlation_matrix_4[~correlation_matrix_4.index.isin(features_50)]).sort_values(ascending=False).iloc[1:6].index)\n",
    "features_50 = np.append(features_50,class_4_5_features)\n",
    "class_5_5_features = np.array((correlation_matrix_5[~correlation_matrix_5.index.isin(features_50)]).sort_values(ascending=False).iloc[1:6].index)\n",
    "features_50 = np.append(features_50,class_5_5_features)\n",
    "class_6_5_features = np.array((correlation_matrix_6[~correlation_matrix_6.index.isin(features_50)]).sort_values(ascending=False).iloc[1:6].index)\n",
    "features_50 = np.append(features_50,class_6_5_features)\n",
    "class_7_5_features = np.array((correlation_matrix_7[~correlation_matrix_7.index.isin(features_50)]).sort_values(ascending=False).iloc[1:6].index)\n",
    "features_50 = np.append(features_50,class_7_5_features)\n",
    "class_8_5_features = np.array((correlation_matrix_8[~correlation_matrix_8.index.isin(features_50)]).sort_values(ascending=False).iloc[1:6].index)\n",
    "features_50 = np.append(features_50,class_8_5_features)\n",
    "class_9_5_features = np.array((correlation_matrix_9[~correlation_matrix_9.index.isin(features_50)]).sort_values(ascending=False).iloc[1:6].index)\n",
    "features_50 = np.append(features_50,class_9_5_features)"
   ]
  },
  {
   "cell_type": "code",
   "execution_count": 93,
   "metadata": {},
   "outputs": [
    {
     "data": {
      "text/plain": [
       "array(['1030', '1031', '1072', '1073', '1074', '1086', '1120', '1121',\n",
       "       '1134', '1215', '1216', '1218', '1219', '1263', '1265', '1266',\n",
       "       '1268', '1313', '1316', '1317', '1507', '1508', '1666', '1667',\n",
       "       '1694', '1695', '1713', '1714', '1715', '1742', '1743', '1744',\n",
       "       '1760', '1761', '1762', '2213', '2260', '2261', '2262', '2263',\n",
       "       '792', '793', '794', '841', '842', '935', '982', '983', 'class_1',\n",
       "       'class_2'], dtype=object)"
      ]
     },
     "execution_count": 93,
     "metadata": {},
     "output_type": "execute_result"
    }
   ],
   "source": [
    "np.unique(features_50)"
   ]
  },
  {
   "cell_type": "code",
   "execution_count": 90,
   "metadata": {},
   "outputs": [
    {
     "data": {
      "text/plain": [
       "50"
      ]
     },
     "execution_count": 90,
     "metadata": {},
     "output_type": "execute_result"
    }
   ],
   "source": [
    "len(features_50)"
   ]
  },
  {
   "cell_type": "code",
   "execution_count": null,
   "metadata": {},
   "outputs": [],
   "source": []
  }
 ],
 "metadata": {
  "kernelspec": {
   "display_name": "Python 3",
   "language": "python",
   "name": "python3"
  },
  "language_info": {
   "codemirror_mode": {
    "name": "ipython",
    "version": 3
   },
   "file_extension": ".py",
   "mimetype": "text/x-python",
   "name": "python",
   "nbconvert_exporter": "python",
   "pygments_lexer": "ipython3",
   "version": "3.11.5"
  }
 },
 "nbformat": 4,
 "nbformat_minor": 2
}
