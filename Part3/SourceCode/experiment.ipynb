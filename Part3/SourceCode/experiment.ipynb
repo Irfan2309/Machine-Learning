{
 "cells": [
  {
   "cell_type": "code",
   "execution_count": 1,
   "metadata": {},
   "outputs": [],
   "source": [
    "from sklearn.tree import DecisionTreeClassifier\n",
    "from sklearn.metrics import accuracy_score\n",
    "import pandas as pd"
   ]
  },
  {
   "cell_type": "code",
   "execution_count": 2,
   "metadata": {},
   "outputs": [],
   "source": [
    "X_train = pd.read_csv('../../Dataset/x_train_all.csv')\n",
    "y_train = pd.read_csv('../../Dataset/y_train_all.csv')\n",
    "X_test = pd.read_csv('../../Dataset/x_test_all.csv')\n",
    "y_test = pd.read_csv('../../Dataset/y_test_all.csv')"
   ]
  },
  {
   "cell_type": "code",
   "execution_count": 3,
   "metadata": {},
   "outputs": [],
   "source": [
    "# Create a function to train and evaluate the decision tree\n",
    "def evaluate_decision_tree(depth, ccp_alpha, criterion, min_samples_leaf):\n",
    "    clf = DecisionTreeClassifier(\n",
    "        max_depth=depth,\n",
    "        ccp_alpha=ccp_alpha,\n",
    "        criterion=criterion,\n",
    "        min_samples_leaf=min_samples_leaf\n",
    "    )\n",
    "    clf.fit(X_train, y_train)\n",
    "    train_predictions = clf.predict(X_train)\n",
    "    test_predictions = clf.predict(X_test)\n",
    "    print(\"--------------------------------------------------\")\n",
    "    print(\"Depth                   :\", depth)\n",
    "    print(\"ccp_alpha               :\", ccp_alpha)\n",
    "    print(\"criterion               :\", criterion)\n",
    "    print(\"min_samples_leaf        :\", min_samples_leaf)\n",
    "    print('---------------------------------------------------')\n",
    "    print(f\"Accuracy on Test Set   : {accuracy_score(y_test, test_predictions)}\")\n",
    "    # print(classification_report(y_test, test_predictions))\n",
    "    print(\"--------------------------------------------------\")\n",
    "\n"
   ]
  },
  {
   "cell_type": "code",
   "execution_count": 4,
   "metadata": {},
   "outputs": [
    {
     "name": "stdout",
     "output_type": "stream",
     "text": [
      "--------------------------------------------------\n",
      "Depth                   : None\n",
      "ccp_alpha               : 0.0\n",
      "criterion               : gini\n",
      "min_samples_leaf        : 1\n",
      "---------------------------------------------------\n",
      "Accuracy on Test Set   : 0.6883495145631068\n",
      "--------------------------------------------------\n"
     ]
    }
   ],
   "source": [
    "evaluate_decision_tree(None, 0.0, 'gini', 1)"
   ]
  },
  {
   "cell_type": "code",
   "execution_count": 5,
   "metadata": {},
   "outputs": [
    {
     "name": "stdout",
     "output_type": "stream",
     "text": [
      "--------------------------------------------------\n",
      "Depth                   : 10\n",
      "ccp_alpha               : 0.0\n",
      "criterion               : gini\n",
      "min_samples_leaf        : 1\n",
      "---------------------------------------------------\n",
      "Accuracy on Test Set   : 0.6912621359223301\n",
      "--------------------------------------------------\n"
     ]
    }
   ],
   "source": [
    "evaluate_decision_tree(10, 0.0, 'gini', 1)"
   ]
  },
  {
   "cell_type": "code",
   "execution_count": 6,
   "metadata": {},
   "outputs": [
    {
     "name": "stdout",
     "output_type": "stream",
     "text": [
      "--------------------------------------------------\n",
      "Depth                   : None\n",
      "ccp_alpha               : 0.01\n",
      "criterion               : gini\n",
      "min_samples_leaf        : 1\n",
      "---------------------------------------------------\n",
      "Accuracy on Test Set   : 0.5572815533980583\n",
      "--------------------------------------------------\n"
     ]
    }
   ],
   "source": [
    "evaluate_decision_tree(None, 0.01, 'gini', 1)"
   ]
  },
  {
   "cell_type": "code",
   "execution_count": 7,
   "metadata": {},
   "outputs": [
    {
     "name": "stdout",
     "output_type": "stream",
     "text": [
      "--------------------------------------------------\n",
      "Depth                   : None\n",
      "ccp_alpha               : 0.0\n",
      "criterion               : entropy\n",
      "min_samples_leaf        : 1\n",
      "---------------------------------------------------\n",
      "Accuracy on Test Set   : 0.7135922330097088\n",
      "--------------------------------------------------\n"
     ]
    }
   ],
   "source": [
    "evaluate_decision_tree(None, 0.0, 'entropy', 1)"
   ]
  },
  {
   "cell_type": "code",
   "execution_count": 8,
   "metadata": {},
   "outputs": [
    {
     "name": "stdout",
     "output_type": "stream",
     "text": [
      "--------------------------------------------------\n",
      "Depth                   : 5\n",
      "ccp_alpha               : 0.0\n",
      "criterion               : entropy\n",
      "min_samples_leaf        : 1\n",
      "---------------------------------------------------\n",
      "Accuracy on Test Set   : 0.6171521035598706\n",
      "--------------------------------------------------\n"
     ]
    }
   ],
   "source": [
    "evaluate_decision_tree(5, 0.0, 'entropy', 1)"
   ]
  },
  {
   "cell_type": "code",
   "execution_count": 9,
   "metadata": {},
   "outputs": [
    {
     "name": "stdout",
     "output_type": "stream",
     "text": [
      "--------------------------------------------------\n",
      "Depth                   : 10\n",
      "ccp_alpha               : 0.0\n",
      "criterion               : entropy\n",
      "min_samples_leaf        : 1\n",
      "---------------------------------------------------\n",
      "Accuracy on Test Set   : 0.7233009708737864\n",
      "--------------------------------------------------\n"
     ]
    }
   ],
   "source": [
    "evaluate_decision_tree(10, 0.0, 'entropy', 1)"
   ]
  },
  {
   "cell_type": "code",
   "execution_count": 10,
   "metadata": {},
   "outputs": [
    {
     "name": "stdout",
     "output_type": "stream",
     "text": [
      "--------------------------------------------------\n",
      "Depth                   : 15\n",
      "ccp_alpha               : 0.01\n",
      "criterion               : entropy\n",
      "min_samples_leaf        : 1\n",
      "---------------------------------------------------\n",
      "Accuracy on Test Set   : 0.6598705501618123\n",
      "--------------------------------------------------\n"
     ]
    }
   ],
   "source": [
    "evaluate_decision_tree(15, 0.01, 'entropy', 1)"
   ]
  },
  {
   "cell_type": "code",
   "execution_count": 11,
   "metadata": {},
   "outputs": [
    {
     "name": "stdout",
     "output_type": "stream",
     "text": [
      "--------------------------------------------------\n",
      "Depth                   : 10\n",
      "ccp_alpha               : 0.0\n",
      "criterion               : gini\n",
      "min_samples_leaf        : 1\n",
      "---------------------------------------------------\n",
      "Accuracy on Test Set   : 0.6919093851132686\n",
      "--------------------------------------------------\n"
     ]
    }
   ],
   "source": [
    "evaluate_decision_tree(10, 0.0, 'gini', 1)"
   ]
  },
  {
   "cell_type": "code",
   "execution_count": 12,
   "metadata": {},
   "outputs": [
    {
     "name": "stdout",
     "output_type": "stream",
     "text": [
      "--------------------------------------------------\n",
      "Depth                   : 15\n",
      "ccp_alpha               : 0.01\n",
      "criterion               : gini\n",
      "min_samples_leaf        : 1\n",
      "---------------------------------------------------\n",
      "Accuracy on Test Set   : 0.5572815533980583\n",
      "--------------------------------------------------\n"
     ]
    }
   ],
   "source": [
    "evaluate_decision_tree(15, 0.01, 'gini', 1)"
   ]
  },
  {
   "cell_type": "code",
   "execution_count": 13,
   "metadata": {},
   "outputs": [
    {
     "name": "stdout",
     "output_type": "stream",
     "text": [
      "--------------------------------------------------\n",
      "Depth                   : None\n",
      "ccp_alpha               : 0.0\n",
      "criterion               : gini\n",
      "min_samples_leaf        : 5\n",
      "---------------------------------------------------\n",
      "Accuracy on Test Set   : 0.6899676375404531\n",
      "--------------------------------------------------\n"
     ]
    }
   ],
   "source": [
    "evaluate_decision_tree(None, 0.0, 'gini', 5)"
   ]
  }
 ],
 "metadata": {
  "kernelspec": {
   "display_name": "Python 3",
   "language": "python",
   "name": "python3"
  },
  "language_info": {
   "codemirror_mode": {
    "name": "ipython",
    "version": 3
   },
   "file_extension": ".py",
   "mimetype": "text/x-python",
   "name": "python",
   "nbconvert_exporter": "python",
   "pygments_lexer": "ipython3",
   "version": "3.9.7"
  }
 },
 "nbformat": 4,
 "nbformat_minor": 2
}
