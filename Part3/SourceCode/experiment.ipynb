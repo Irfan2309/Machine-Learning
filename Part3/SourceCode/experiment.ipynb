{
 "cells": [
  {
   "cell_type": "code",
   "execution_count": 11,
   "metadata": {},
   "outputs": [],
   "source": [
    "from sklearn.tree import DecisionTreeClassifier\n",
    "from sklearn.metrics import accuracy_score\n",
    "import pandas as pd"
   ]
  },
  {
   "cell_type": "code",
   "execution_count": 12,
   "metadata": {},
   "outputs": [],
   "source": [
    "X_train = pd.read_csv('../../Dataset/x_train_all.csv')\n",
    "y_train = pd.read_csv('../../Dataset/y_train_all.csv')\n",
    "X_test = pd.read_csv('../../Dataset/x_test_all.csv')\n",
    "y_test = pd.read_csv('../../Dataset/y_test_all.csv')"
   ]
  },
  {
   "cell_type": "code",
   "execution_count": 13,
   "metadata": {},
   "outputs": [],
   "source": [
    "# Create a function to train and evaluate the decision tree\n",
    "def evaluate_decision_tree(depth, ccp_alpha, criterion, min_samples_leaf):\n",
    "    clf = DecisionTreeClassifier(\n",
    "        max_depth=depth,\n",
    "        ccp_alpha=ccp_alpha,\n",
    "        criterion=criterion,\n",
    "        min_samples_leaf=min_samples_leaf\n",
    "    )\n",
    "    clf.fit(X_train, y_train)\n",
    "    train_predictions = clf.predict(X_train)\n",
    "    test_predictions = clf.predict(X_test)\n",
    "    print(\"--------------------------------------------------\")\n",
    "    print(\"Depth                   :\", depth)\n",
    "    print(\"ccp_alpha               :\", ccp_alpha)\n",
    "    print(\"criterion               :\", criterion)\n",
    "    print(\"min_samples_leaf        :\", min_samples_leaf)\n",
    "    print('---------------------------------------------------')\n",
    "    print(f\"Accuracy on Test Set   : {accuracy_score(y_test, test_predictions)}\")\n",
    "    # print(classification_report(y_test, test_predictions))\n",
    "    print(\"--------------------------------------------------\")\n",
    "\n"
   ]
  },
  {
   "cell_type": "code",
   "execution_count": 14,
   "metadata": {},
   "outputs": [
    {
     "name": "stdout",
     "output_type": "stream",
     "text": [
      "--------------------------------------------------\n",
      "Depth                   : None\n",
      "ccp_alpha               : 0.0\n",
      "criterion               : gini\n",
      "min_samples_leaf        : 1\n",
      "---------------------------------------------------\n",
      "Accuracy on Test Set   : 0.683495145631068\n",
      "--------------------------------------------------\n"
     ]
    }
   ],
   "source": [
    "evaluate_decision_tree(None, 0.0, 'gini', 1)"
   ]
  },
  {
   "cell_type": "code",
   "execution_count": 15,
   "metadata": {},
   "outputs": [
    {
     "name": "stdout",
     "output_type": "stream",
     "text": [
      "--------------------------------------------------\n",
      "Depth                   : 10\n",
      "ccp_alpha               : 0.0\n",
      "criterion               : gini\n",
      "min_samples_leaf        : 1\n",
      "---------------------------------------------------\n",
      "Accuracy on Test Set   : 0.6954692556634304\n",
      "--------------------------------------------------\n"
     ]
    }
   ],
   "source": [
    "evaluate_decision_tree(10, 0.0, 'gini', 1)"
   ]
  },
  {
   "cell_type": "code",
   "execution_count": 16,
   "metadata": {},
   "outputs": [
    {
     "name": "stdout",
     "output_type": "stream",
     "text": [
      "--------------------------------------------------\n",
      "Depth                   : None\n",
      "ccp_alpha               : 0.01\n",
      "criterion               : gini\n",
      "min_samples_leaf        : 1\n",
      "---------------------------------------------------\n",
      "Accuracy on Test Set   : 0.5572815533980583\n",
      "--------------------------------------------------\n"
     ]
    }
   ],
   "source": [
    "evaluate_decision_tree(None, 0.01, 'gini', 1)"
   ]
  },
  {
   "cell_type": "code",
   "execution_count": 17,
   "metadata": {},
   "outputs": [
    {
     "name": "stdout",
     "output_type": "stream",
     "text": [
      "--------------------------------------------------\n",
      "Depth                   : None\n",
      "ccp_alpha               : 0.0\n",
      "criterion               : entropy\n",
      "min_samples_leaf        : 1\n",
      "---------------------------------------------------\n",
      "Accuracy on Test Set   : 0.7307443365695793\n",
      "--------------------------------------------------\n"
     ]
    }
   ],
   "source": [
    "evaluate_decision_tree(None, 0.0, 'entropy', 1)"
   ]
  },
  {
   "cell_type": "code",
   "execution_count": 18,
   "metadata": {},
   "outputs": [
    {
     "name": "stdout",
     "output_type": "stream",
     "text": [
      "--------------------------------------------------\n",
      "Depth                   : 5\n",
      "ccp_alpha               : 0.0\n",
      "criterion               : entropy\n",
      "min_samples_leaf        : 1\n",
      "---------------------------------------------------\n",
      "Accuracy on Test Set   : 0.6171521035598706\n",
      "--------------------------------------------------\n"
     ]
    }
   ],
   "source": [
    "evaluate_decision_tree(5, 0.0, 'entropy', 1)"
   ]
  },
  {
   "cell_type": "code",
   "execution_count": 19,
   "metadata": {},
   "outputs": [
    {
     "name": "stdout",
     "output_type": "stream",
     "text": [
      "--------------------------------------------------\n",
      "Depth                   : 10\n",
      "ccp_alpha               : 0.0\n",
      "criterion               : entropy\n",
      "min_samples_leaf        : 1\n",
      "---------------------------------------------------\n",
      "Accuracy on Test Set   : 0.7317152103559871\n",
      "--------------------------------------------------\n"
     ]
    }
   ],
   "source": [
    "evaluate_decision_tree(10, 0.0, 'entropy', 1)"
   ]
  },
  {
   "cell_type": "code",
   "execution_count": 20,
   "metadata": {},
   "outputs": [
    {
     "name": "stdout",
     "output_type": "stream",
     "text": [
      "--------------------------------------------------\n",
      "Depth                   : 15\n",
      "ccp_alpha               : 0.01\n",
      "criterion               : entropy\n",
      "min_samples_leaf        : 1\n",
      "---------------------------------------------------\n",
      "Accuracy on Test Set   : 0.6598705501618123\n",
      "--------------------------------------------------\n"
     ]
    }
   ],
   "source": [
    "evaluate_decision_tree(15, 0.01, 'entropy', 1)"
   ]
  },
  {
   "cell_type": "code",
   "execution_count": 21,
   "metadata": {},
   "outputs": [
    {
     "name": "stdout",
     "output_type": "stream",
     "text": [
      "--------------------------------------------------\n",
      "Depth                   : 10\n",
      "ccp_alpha               : 0.0\n",
      "criterion               : gini\n",
      "min_samples_leaf        : 1\n",
      "---------------------------------------------------\n",
      "Accuracy on Test Set   : 0.6967637540453074\n",
      "--------------------------------------------------\n"
     ]
    }
   ],
   "source": [
    "evaluate_decision_tree(10, 0.0, 'gini', 1)"
   ]
  },
  {
   "cell_type": "code",
   "execution_count": 22,
   "metadata": {},
   "outputs": [
    {
     "name": "stdout",
     "output_type": "stream",
     "text": [
      "--------------------------------------------------\n",
      "Depth                   : 15\n",
      "ccp_alpha               : 0.01\n",
      "criterion               : gini\n",
      "min_samples_leaf        : 1\n",
      "---------------------------------------------------\n",
      "Accuracy on Test Set   : 0.5572815533980583\n",
      "--------------------------------------------------\n"
     ]
    }
   ],
   "source": [
    "evaluate_decision_tree(15, 0.01, 'gini', 1)"
   ]
  },
  {
   "cell_type": "code",
   "execution_count": 23,
   "metadata": {},
   "outputs": [
    {
     "name": "stdout",
     "output_type": "stream",
     "text": [
      "--------------------------------------------------\n",
      "Depth                   : None\n",
      "ccp_alpha               : 0.0\n",
      "criterion               : gini\n",
      "min_samples_leaf        : 5\n",
      "---------------------------------------------------\n",
      "Accuracy on Test Set   : 0.6838187702265373\n",
      "--------------------------------------------------\n"
     ]
    }
   ],
   "source": [
    "evaluate_decision_tree(None, 0.0, 'gini', 5)"
   ]
  },
  {
   "cell_type": "code",
   "execution_count": null,
   "metadata": {},
   "outputs": [],
   "source": []
  }
 ],
 "metadata": {
  "kernelspec": {
   "display_name": "Python 3",
   "language": "python",
   "name": "python3"
  },
  "language_info": {
   "codemirror_mode": {
    "name": "ipython",
    "version": 3
   },
   "file_extension": ".py",
   "mimetype": "text/x-python",
   "name": "python",
   "nbconvert_exporter": "python",
   "pygments_lexer": "ipython3",
   "version": "3.11.5"
  }
 },
 "nbformat": 4,
 "nbformat_minor": 2
}
