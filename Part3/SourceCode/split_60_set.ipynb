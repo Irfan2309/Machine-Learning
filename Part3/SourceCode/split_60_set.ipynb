{
 "cells": [
  {
   "cell_type": "code",
   "execution_count": 1,
   "metadata": {},
   "outputs": [],
   "source": [
    "from sklearn.tree import DecisionTreeClassifier\n",
    "from sklearn.metrics import accuracy_score, classification_report, confusion_matrix, precision_score, recall_score, f1_score\n",
    "import seaborn as sns\n",
    "import matplotlib.pyplot as plt\n",
    "import numpy as np\n",
    "import pandas as pd\n",
    "from sklearn.model_selection import train_test_split"
   ]
  },
  {
   "cell_type": "code",
   "execution_count": 2,
   "metadata": {},
   "outputs": [],
   "source": [
    "#Reading from CSV File and Storing in Dataframe\n",
    "X_train = pd.read_csv('../../Dataset/x_train_all.csv')\n",
    "y_train = pd.read_csv('../../Dataset/y_train_all.csv')\n",
    "X_test = pd.read_csv('../../Dataset/x_test_all.csv')\n",
    "y_test = pd.read_csv('../../Dataset/y_test_all.csv')"
   ]
  },
  {
   "cell_type": "code",
   "execution_count": 3,
   "metadata": {},
   "outputs": [
    {
     "name": "stdout",
     "output_type": "stream",
     "text": [
      "========================================\n",
      "=   Shape to train and test Dataset    =\n",
      "========================================\n",
      "= Shape of X_train is  : (9690, 2304)\n",
      "= Shape of y_train is  : (9690, 1)\n",
      "= Shape of X_test is   : (3090, 2304)\n",
      "= Shape of y_test is   : (3090, 1)\n",
      "========================================\n"
     ]
    }
   ],
   "source": [
    "#Printing the shapes of the training\n",
    "print(\"========================================\")\n",
    "print(\"=   Shape to train and test Dataset    =\")\n",
    "print(\"========================================\")\n",
    "print(\"= Shape of X_train is  :\", X_train.shape)\n",
    "print(\"= Shape of y_train is  :\", y_train.shape)\n",
    "print(\"= Shape of X_test is   :\", X_test.shape)\n",
    "print(\"= Shape of y_test is   :\", y_test.shape)\n",
    "print(\"========================================\")"
   ]
  },
  {
   "cell_type": "code",
   "execution_count": 4,
   "metadata": {},
   "outputs": [],
   "source": [
    "X_train_new, X_test_60 = train_test_split(X_train, test_size=0.6, random_state=42)"
   ]
  },
  {
   "cell_type": "code",
   "execution_count": 5,
   "metadata": {},
   "outputs": [],
   "source": [
    "X_test_new = pd.concat([X_test, X_test_60], ignore_index=True)"
   ]
  },
  {
   "cell_type": "code",
   "execution_count": 6,
   "metadata": {},
   "outputs": [],
   "source": [
    "y_train_new, y_test_60 = train_test_split(y_train, test_size=0.6, random_state=42)\n",
    "y_test_new = pd.concat([y_test, y_test_60], ignore_index=True)"
   ]
  },
  {
   "cell_type": "code",
   "execution_count": 7,
   "metadata": {},
   "outputs": [
    {
     "name": "stdout",
     "output_type": "stream",
     "text": [
      "========================================\n",
      "=   Shape to train and test Dataset    =\n",
      "========================================\n",
      "= Shape of X_train is  : (3876, 2304)\n",
      "= Shape of y_train is  : (3876, 1)\n",
      "= Shape of X_test is   : (8904, 2304)\n",
      "= Shape of y_test is   : (8904, 1)\n",
      "========================================\n"
     ]
    }
   ],
   "source": [
    "#Printing the shapes of the training\n",
    "print(\"========================================\")\n",
    "print(\"=   Shape to train and test Dataset    =\")\n",
    "print(\"========================================\")\n",
    "print(\"= Shape of X_train is  :\", X_train_new.shape)\n",
    "print(\"= Shape of y_train is  :\", y_train_new.shape)\n",
    "print(\"= Shape of X_test is   :\", X_test_new.shape)\n",
    "print(\"= Shape of y_test is   :\", y_test_new.shape)\n",
    "print(\"========================================\")"
   ]
  },
  {
   "cell_type": "code",
   "execution_count": 8,
   "metadata": {},
   "outputs": [],
   "source": [
    "# Initialize the Decision Tree Classifier\n",
    "clf = DecisionTreeClassifier(criterion='entropy') "
   ]
  },
  {
   "cell_type": "code",
   "execution_count": 9,
   "metadata": {},
   "outputs": [
    {
     "data": {
      "text/html": [
       "<style>#sk-container-id-1 {color: black;}#sk-container-id-1 pre{padding: 0;}#sk-container-id-1 div.sk-toggleable {background-color: white;}#sk-container-id-1 label.sk-toggleable__label {cursor: pointer;display: block;width: 100%;margin-bottom: 0;padding: 0.3em;box-sizing: border-box;text-align: center;}#sk-container-id-1 label.sk-toggleable__label-arrow:before {content: \"▸\";float: left;margin-right: 0.25em;color: #696969;}#sk-container-id-1 label.sk-toggleable__label-arrow:hover:before {color: black;}#sk-container-id-1 div.sk-estimator:hover label.sk-toggleable__label-arrow:before {color: black;}#sk-container-id-1 div.sk-toggleable__content {max-height: 0;max-width: 0;overflow: hidden;text-align: left;background-color: #f0f8ff;}#sk-container-id-1 div.sk-toggleable__content pre {margin: 0.2em;color: black;border-radius: 0.25em;background-color: #f0f8ff;}#sk-container-id-1 input.sk-toggleable__control:checked~div.sk-toggleable__content {max-height: 200px;max-width: 100%;overflow: auto;}#sk-container-id-1 input.sk-toggleable__control:checked~label.sk-toggleable__label-arrow:before {content: \"▾\";}#sk-container-id-1 div.sk-estimator input.sk-toggleable__control:checked~label.sk-toggleable__label {background-color: #d4ebff;}#sk-container-id-1 div.sk-label input.sk-toggleable__control:checked~label.sk-toggleable__label {background-color: #d4ebff;}#sk-container-id-1 input.sk-hidden--visually {border: 0;clip: rect(1px 1px 1px 1px);clip: rect(1px, 1px, 1px, 1px);height: 1px;margin: -1px;overflow: hidden;padding: 0;position: absolute;width: 1px;}#sk-container-id-1 div.sk-estimator {font-family: monospace;background-color: #f0f8ff;border: 1px dotted black;border-radius: 0.25em;box-sizing: border-box;margin-bottom: 0.5em;}#sk-container-id-1 div.sk-estimator:hover {background-color: #d4ebff;}#sk-container-id-1 div.sk-parallel-item::after {content: \"\";width: 100%;border-bottom: 1px solid gray;flex-grow: 1;}#sk-container-id-1 div.sk-label:hover label.sk-toggleable__label {background-color: #d4ebff;}#sk-container-id-1 div.sk-serial::before {content: \"\";position: absolute;border-left: 1px solid gray;box-sizing: border-box;top: 0;bottom: 0;left: 50%;z-index: 0;}#sk-container-id-1 div.sk-serial {display: flex;flex-direction: column;align-items: center;background-color: white;padding-right: 0.2em;padding-left: 0.2em;position: relative;}#sk-container-id-1 div.sk-item {position: relative;z-index: 1;}#sk-container-id-1 div.sk-parallel {display: flex;align-items: stretch;justify-content: center;background-color: white;position: relative;}#sk-container-id-1 div.sk-item::before, #sk-container-id-1 div.sk-parallel-item::before {content: \"\";position: absolute;border-left: 1px solid gray;box-sizing: border-box;top: 0;bottom: 0;left: 50%;z-index: -1;}#sk-container-id-1 div.sk-parallel-item {display: flex;flex-direction: column;z-index: 1;position: relative;background-color: white;}#sk-container-id-1 div.sk-parallel-item:first-child::after {align-self: flex-end;width: 50%;}#sk-container-id-1 div.sk-parallel-item:last-child::after {align-self: flex-start;width: 50%;}#sk-container-id-1 div.sk-parallel-item:only-child::after {width: 0;}#sk-container-id-1 div.sk-dashed-wrapped {border: 1px dashed gray;margin: 0 0.4em 0.5em 0.4em;box-sizing: border-box;padding-bottom: 0.4em;background-color: white;}#sk-container-id-1 div.sk-label label {font-family: monospace;font-weight: bold;display: inline-block;line-height: 1.2em;}#sk-container-id-1 div.sk-label-container {text-align: center;}#sk-container-id-1 div.sk-container {/* jupyter's `normalize.less` sets `[hidden] { display: none; }` but bootstrap.min.css set `[hidden] { display: none !important; }` so we also need the `!important` here to be able to override the default hidden behavior on the sphinx rendered scikit-learn.org. See: https://github.com/scikit-learn/scikit-learn/issues/21755 */display: inline-block !important;position: relative;}#sk-container-id-1 div.sk-text-repr-fallback {display: none;}</style><div id=\"sk-container-id-1\" class=\"sk-top-container\"><div class=\"sk-text-repr-fallback\"><pre>DecisionTreeClassifier(criterion=&#x27;entropy&#x27;)</pre><b>In a Jupyter environment, please rerun this cell to show the HTML representation or trust the notebook. <br />On GitHub, the HTML representation is unable to render, please try loading this page with nbviewer.org.</b></div><div class=\"sk-container\" hidden><div class=\"sk-item\"><div class=\"sk-estimator sk-toggleable\"><input class=\"sk-toggleable__control sk-hidden--visually\" id=\"sk-estimator-id-1\" type=\"checkbox\" checked><label for=\"sk-estimator-id-1\" class=\"sk-toggleable__label sk-toggleable__label-arrow\">DecisionTreeClassifier</label><div class=\"sk-toggleable__content\"><pre>DecisionTreeClassifier(criterion=&#x27;entropy&#x27;)</pre></div></div></div></div></div>"
      ],
      "text/plain": [
       "DecisionTreeClassifier(criterion='entropy')"
      ]
     },
     "execution_count": 9,
     "metadata": {},
     "output_type": "execute_result"
    }
   ],
   "source": [
    "# Train the classifier on the training set\n",
    "clf.fit(X_train_new, y_train_new)"
   ]
  },
  {
   "cell_type": "code",
   "execution_count": 10,
   "metadata": {},
   "outputs": [
    {
     "name": "stdout",
     "output_type": "stream",
     "text": [
      "Accuracy on Training Set: 1.0\n"
     ]
    }
   ],
   "source": [
    "# Predict on the training set\n",
    "train_predictions = clf.predict(X_train_new)\n",
    "train_accuracy = accuracy_score(y_train_new, train_predictions)\n",
    "print(f\"Accuracy on Training Set: {train_accuracy}\")"
   ]
  },
  {
   "cell_type": "code",
   "execution_count": 11,
   "metadata": {},
   "outputs": [
    {
     "name": "stdout",
     "output_type": "stream",
     "text": [
      "Accuracy on Test Set: 0.764487870619946\n"
     ]
    }
   ],
   "source": [
    "# Predict on the testing set\n",
    "test_predictions = clf.predict(X_test_new)\n",
    "test_accuracy = accuracy_score(y_test_new, test_predictions)\n",
    "print(f\"Accuracy on Test Set: {test_accuracy}\")"
   ]
  },
  {
   "cell_type": "code",
   "execution_count": 12,
   "metadata": {},
   "outputs": [
    {
     "name": "stdout",
     "output_type": "stream",
     "text": [
      "              precision    recall  f1-score   support\n",
      "\n",
      "           0       0.62      0.57      0.59       194\n",
      "           1       0.77      0.78      0.77      2056\n",
      "           2       0.79      0.80      0.79      2108\n",
      "           3       0.80      0.78      0.79      1316\n",
      "           4       0.79      0.81      0.80      1811\n",
      "           5       0.61      0.53      0.57       189\n",
      "           6       0.66      0.62      0.64       309\n",
      "           7       0.64      0.62      0.63       204\n",
      "           8       0.71      0.77      0.74       468\n",
      "           9       0.62      0.56      0.59       249\n",
      "\n",
      "    accuracy                           0.76      8904\n",
      "   macro avg       0.70      0.68      0.69      8904\n",
      "weighted avg       0.76      0.76      0.76      8904\n",
      "\n"
     ]
    }
   ],
   "source": [
    "print(classification_report(y_test_new, test_predictions))"
   ]
  },
  {
   "cell_type": "code",
   "execution_count": 13,
   "metadata": {},
   "outputs": [],
   "source": [
    "# Calculating precision, recall, and F1-score for each class\n",
    "precision = precision_score(y_test_new, test_predictions, average=None)\n",
    "recall = recall_score(y_test_new, test_predictions, average=None)\n",
    "f1 = f1_score(y_test_new, test_predictions, average=None)"
   ]
  },
  {
   "cell_type": "code",
   "execution_count": 14,
   "metadata": {},
   "outputs": [
    {
     "data": {
      "text/html": [
       "<div>\n",
       "<style scoped>\n",
       "    .dataframe tbody tr th:only-of-type {\n",
       "        vertical-align: middle;\n",
       "    }\n",
       "\n",
       "    .dataframe tbody tr th {\n",
       "        vertical-align: top;\n",
       "    }\n",
       "\n",
       "    .dataframe thead th {\n",
       "        text-align: right;\n",
       "    }\n",
       "</style>\n",
       "<table border=\"1\" class=\"dataframe\">\n",
       "  <thead>\n",
       "    <tr style=\"text-align: right;\">\n",
       "      <th></th>\n",
       "      <th>Precision</th>\n",
       "      <th>F1 Score</th>\n",
       "      <th>Recall</th>\n",
       "    </tr>\n",
       "  </thead>\n",
       "  <tbody>\n",
       "    <tr>\n",
       "      <th>0</th>\n",
       "      <td>0.625000</td>\n",
       "      <td>0.594595</td>\n",
       "      <td>0.567010</td>\n",
       "    </tr>\n",
       "    <tr>\n",
       "      <th>1</th>\n",
       "      <td>0.771981</td>\n",
       "      <td>0.774600</td>\n",
       "      <td>0.777237</td>\n",
       "    </tr>\n",
       "    <tr>\n",
       "      <th>2</th>\n",
       "      <td>0.789770</td>\n",
       "      <td>0.794055</td>\n",
       "      <td>0.798387</td>\n",
       "    </tr>\n",
       "    <tr>\n",
       "      <th>3</th>\n",
       "      <td>0.803292</td>\n",
       "      <td>0.790895</td>\n",
       "      <td>0.778875</td>\n",
       "    </tr>\n",
       "    <tr>\n",
       "      <th>4</th>\n",
       "      <td>0.789276</td>\n",
       "      <td>0.800871</td>\n",
       "      <td>0.812811</td>\n",
       "    </tr>\n",
       "    <tr>\n",
       "      <th>5</th>\n",
       "      <td>0.612121</td>\n",
       "      <td>0.570621</td>\n",
       "      <td>0.534392</td>\n",
       "    </tr>\n",
       "    <tr>\n",
       "      <th>6</th>\n",
       "      <td>0.656357</td>\n",
       "      <td>0.636667</td>\n",
       "      <td>0.618123</td>\n",
       "    </tr>\n",
       "    <tr>\n",
       "      <th>7</th>\n",
       "      <td>0.635000</td>\n",
       "      <td>0.628713</td>\n",
       "      <td>0.622549</td>\n",
       "    </tr>\n",
       "    <tr>\n",
       "      <th>8</th>\n",
       "      <td>0.711462</td>\n",
       "      <td>0.739220</td>\n",
       "      <td>0.769231</td>\n",
       "    </tr>\n",
       "    <tr>\n",
       "      <th>9</th>\n",
       "      <td>0.625000</td>\n",
       "      <td>0.591966</td>\n",
       "      <td>0.562249</td>\n",
       "    </tr>\n",
       "  </tbody>\n",
       "</table>\n",
       "</div>"
      ],
      "text/plain": [
       "   Precision  F1 Score    Recall\n",
       "0   0.625000  0.594595  0.567010\n",
       "1   0.771981  0.774600  0.777237\n",
       "2   0.789770  0.794055  0.798387\n",
       "3   0.803292  0.790895  0.778875\n",
       "4   0.789276  0.800871  0.812811\n",
       "5   0.612121  0.570621  0.534392\n",
       "6   0.656357  0.636667  0.618123\n",
       "7   0.635000  0.628713  0.622549\n",
       "8   0.711462  0.739220  0.769231\n",
       "9   0.625000  0.591966  0.562249"
      ]
     },
     "execution_count": 14,
     "metadata": {},
     "output_type": "execute_result"
    }
   ],
   "source": [
    "#Creating dataframe of precision, recall, and F1-score for each class\n",
    "df = pd.DataFrame({'Precision': precision, 'F1 Score': f1, 'Recall': recall})\n",
    "df"
   ]
  },
  {
   "cell_type": "code",
   "execution_count": 15,
   "metadata": {},
   "outputs": [
    {
     "data": {
      "image/png": "[encoded data removed]",
      "text/plain": [
       "<Figure size 576x360 with 2 Axes>"
      ]
     },
     "metadata": {
      "needs_background": "light"
     },
     "output_type": "display_data"
    }
   ],
   "source": [
    "# Generate and visualize the confusion matrix for the test set\n",
    "cm = confusion_matrix(y_test_new, test_predictions)\n",
    "plt.figure(figsize=(8, 5))\n",
    "sns.heatmap(cm, annot=True, fmt='g', cmap='Blues', xticklabels=np.unique(y_train_new), yticklabels=np.unique(y_train_new))\n",
    "plt.xlabel('Predicted Labels')\n",
    "plt.ylabel('True Labels')\n",
    "plt.title('Confusion Matrix for Test Set')\n",
    "plt.show()"
   ]
  }
 ],
 "metadata": {
  "kernelspec": {
   "display_name": "Python 3",
   "language": "python",
   "name": "python3"
  },
  "language_info": {
   "codemirror_mode": {
    "name": "ipython",
    "version": 3
   },
   "file_extension": ".py",
   "mimetype": "text/x-python",
   "name": "python",
   "nbconvert_exporter": "python",
   "pygments_lexer": "ipython3",
   "version": "3.9.7"
  }
 },
 "nbformat": 4,
 "nbformat_minor": 2
}
