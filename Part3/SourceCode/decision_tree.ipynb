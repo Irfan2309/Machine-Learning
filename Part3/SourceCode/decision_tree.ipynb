{
 "cells": [
  {
   "cell_type": "code",
   "execution_count": 1,
   "metadata": {},
   "outputs": [],
   "source": [
    "import pandas as pd\n",
    "from sklearn.tree import DecisionTreeClassifier\n",
    "from sklearn.model_selection import cross_val_predict\n",
    "from sklearn.metrics import classification_report, accuracy_score, confusion_matrix\n",
    "import seaborn as sns\n",
    "import matplotlib.pyplot as plt\n",
    "import numpy as np"
   ]
  },
  {
   "cell_type": "code",
   "execution_count": 2,
   "metadata": {},
   "outputs": [],
   "source": [
    "#Reading from CSV File and Storing in Dataframe\n",
    "X_train = pd.read_csv('../../Dataset/x_train_all.csv')\n",
    "y_train = pd.read_csv('../../Dataset/y_train_all.csv')\n",
    "X_test = pd.read_csv('../../Dataset/x_test_all.csv')\n",
    "y_test = pd.read_csv('../../Dataset/y_test_all.csv')"
   ]
  },
  {
   "cell_type": "code",
   "execution_count": 3,
   "metadata": {},
   "outputs": [
    {
     "name": "stdout",
     "output_type": "stream",
     "text": [
      "========================================\n",
      "=   Shape to train and test Dataset    =\n",
      "========================================\n",
      "= Shape of X_train is  : (9690, 2304)\n",
      "= Shape of y_train is  : (9690, 1)\n",
      "= Shape of X_test is   : (3090, 2304)\n",
      "= Shape of y_test is   : (3090, 1)\n",
      "========================================\n"
     ]
    }
   ],
   "source": [
    "#Printing the shapes of the training\n",
    "print(\"========================================\")\n",
    "print(\"=   Shape to train and test Dataset    =\")\n",
    "print(\"========================================\")\n",
    "print(\"= Shape of X_train is  :\", X_train.shape)\n",
    "print(\"= Shape of y_train is  :\", y_train.shape)\n",
    "print(\"= Shape of X_test is   :\", X_test.shape)\n",
    "print(\"= Shape of y_test is   :\", y_test.shape)\n",
    "print(\"========================================\")"
   ]
  },
  {
   "cell_type": "code",
   "execution_count": 4,
   "metadata": {},
   "outputs": [
    {
     "data": {
      "text/html": [
       "<style>#sk-container-id-1 {color: black;}#sk-container-id-1 pre{padding: 0;}#sk-container-id-1 div.sk-toggleable {background-color: white;}#sk-container-id-1 label.sk-toggleable__label {cursor: pointer;display: block;width: 100%;margin-bottom: 0;padding: 0.3em;box-sizing: border-box;text-align: center;}#sk-container-id-1 label.sk-toggleable__label-arrow:before {content: \"▸\";float: left;margin-right: 0.25em;color: #696969;}#sk-container-id-1 label.sk-toggleable__label-arrow:hover:before {color: black;}#sk-container-id-1 div.sk-estimator:hover label.sk-toggleable__label-arrow:before {color: black;}#sk-container-id-1 div.sk-toggleable__content {max-height: 0;max-width: 0;overflow: hidden;text-align: left;background-color: #f0f8ff;}#sk-container-id-1 div.sk-toggleable__content pre {margin: 0.2em;color: black;border-radius: 0.25em;background-color: #f0f8ff;}#sk-container-id-1 input.sk-toggleable__control:checked~div.sk-toggleable__content {max-height: 200px;max-width: 100%;overflow: auto;}#sk-container-id-1 input.sk-toggleable__control:checked~label.sk-toggleable__label-arrow:before {content: \"▾\";}#sk-container-id-1 div.sk-estimator input.sk-toggleable__control:checked~label.sk-toggleable__label {background-color: #d4ebff;}#sk-container-id-1 div.sk-label input.sk-toggleable__control:checked~label.sk-toggleable__label {background-color: #d4ebff;}#sk-container-id-1 input.sk-hidden--visually {border: 0;clip: rect(1px 1px 1px 1px);clip: rect(1px, 1px, 1px, 1px);height: 1px;margin: -1px;overflow: hidden;padding: 0;position: absolute;width: 1px;}#sk-container-id-1 div.sk-estimator {font-family: monospace;background-color: #f0f8ff;border: 1px dotted black;border-radius: 0.25em;box-sizing: border-box;margin-bottom: 0.5em;}#sk-container-id-1 div.sk-estimator:hover {background-color: #d4ebff;}#sk-container-id-1 div.sk-parallel-item::after {content: \"\";width: 100%;border-bottom: 1px solid gray;flex-grow: 1;}#sk-container-id-1 div.sk-label:hover label.sk-toggleable__label {background-color: #d4ebff;}#sk-container-id-1 div.sk-serial::before {content: \"\";position: absolute;border-left: 1px solid gray;box-sizing: border-box;top: 0;bottom: 0;left: 50%;z-index: 0;}#sk-container-id-1 div.sk-serial {display: flex;flex-direction: column;align-items: center;background-color: white;padding-right: 0.2em;padding-left: 0.2em;position: relative;}#sk-container-id-1 div.sk-item {position: relative;z-index: 1;}#sk-container-id-1 div.sk-parallel {display: flex;align-items: stretch;justify-content: center;background-color: white;position: relative;}#sk-container-id-1 div.sk-item::before, #sk-container-id-1 div.sk-parallel-item::before {content: \"\";position: absolute;border-left: 1px solid gray;box-sizing: border-box;top: 0;bottom: 0;left: 50%;z-index: -1;}#sk-container-id-1 div.sk-parallel-item {display: flex;flex-direction: column;z-index: 1;position: relative;background-color: white;}#sk-container-id-1 div.sk-parallel-item:first-child::after {align-self: flex-end;width: 50%;}#sk-container-id-1 div.sk-parallel-item:last-child::after {align-self: flex-start;width: 50%;}#sk-container-id-1 div.sk-parallel-item:only-child::after {width: 0;}#sk-container-id-1 div.sk-dashed-wrapped {border: 1px dashed gray;margin: 0 0.4em 0.5em 0.4em;box-sizing: border-box;padding-bottom: 0.4em;background-color: white;}#sk-container-id-1 div.sk-label label {font-family: monospace;font-weight: bold;display: inline-block;line-height: 1.2em;}#sk-container-id-1 div.sk-label-container {text-align: center;}#sk-container-id-1 div.sk-container {/* jupyter's `normalize.less` sets `[hidden] { display: none; }` but bootstrap.min.css set `[hidden] { display: none !important; }` so we also need the `!important` here to be able to override the default hidden behavior on the sphinx rendered scikit-learn.org. See: https://github.com/scikit-learn/scikit-learn/issues/21755 */display: inline-block !important;position: relative;}#sk-container-id-1 div.sk-text-repr-fallback {display: none;}</style><div id=\"sk-container-id-1\" class=\"sk-top-container\"><div class=\"sk-text-repr-fallback\"><pre>DecisionTreeClassifier(random_state=0)</pre><b>In a Jupyter environment, please rerun this cell to show the HTML representation or trust the notebook. <br />On GitHub, the HTML representation is unable to render, please try loading this page with nbviewer.org.</b></div><div class=\"sk-container\" hidden><div class=\"sk-item\"><div class=\"sk-estimator sk-toggleable\"><input class=\"sk-toggleable__control sk-hidden--visually\" id=\"sk-estimator-id-1\" type=\"checkbox\" checked><label for=\"sk-estimator-id-1\" class=\"sk-toggleable__label sk-toggleable__label-arrow\">DecisionTreeClassifier</label><div class=\"sk-toggleable__content\"><pre>DecisionTreeClassifier(random_state=0)</pre></div></div></div></div></div>"
      ],
      "text/plain": [
       "DecisionTreeClassifier(random_state=0)"
      ]
     },
     "execution_count": 4,
     "metadata": {},
     "output_type": "execute_result"
    }
   ],
   "source": [
    "#Initializing the Decision Tree Classifier\n",
    "clf = DecisionTreeClassifier(random_state=0)\n",
    "\n",
    "#Fitting the model\n",
    "clf.fit(X_train, y_train)"
   ]
  },
  {
   "cell_type": "code",
   "execution_count": 5,
   "metadata": {},
   "outputs": [],
   "source": [
    "# Predicting the training data\n",
    "y_pred = clf.predict(X_train)\n"
   ]
  },
  {
   "cell_type": "code",
   "execution_count": 6,
   "metadata": {},
   "outputs": [
    {
     "name": "stdout",
     "output_type": "stream",
     "text": [
      "========================================\n",
      "=   Accuracy of Training Data          =\n",
      "========================================\n",
      "= Accuracy Score is    : 100.0\n",
      "========================================\n"
     ]
    }
   ],
   "source": [
    "#Accuracy of the model on training data\n",
    "acc_train = accuracy_score(y_train, y_pred)\n",
    "print(\"========================================\")\n",
    "print(\"=   Accuracy of Training Data          =\")\n",
    "print(\"========================================\")\n",
    "print(\"= Accuracy Score is    :\", acc_train*100)\n",
    "print(\"========================================\")\n"
   ]
  },
  {
   "cell_type": "code",
   "execution_count": 7,
   "metadata": {},
   "outputs": [],
   "source": [
    "#Predicting on cross validation data\n",
    "y_pred_cross = cross_val_predict(clf, X_train, y_train, cv=10)\n"
   ]
  },
  {
   "cell_type": "code",
   "execution_count": 8,
   "metadata": {},
   "outputs": [
    {
     "name": "stdout",
     "output_type": "stream",
     "text": [
      "Cross-Validated Accuracy on Training Set: 0.6691434468524252\n",
      "========================================\n",
      "=   Accuracy of Training Data          =\n",
      "========================================\n",
      "= Accuracy Score is    : 66.91\n",
      "========================================\n"
     ]
    }
   ],
   "source": [
    "# The overall accuracy from cross-validation\n",
    "cv_accuracy = accuracy_score(y_train, y_pred_cross)\n",
    "print(f'Cross-Validated Accuracy on Training Set: {cv_accuracy}')\n",
    "#Accuracy of the model cross validation data\n",
    "print(\"========================================\")\n",
    "print(\"=   Accuracy of Training Data          =\")\n",
    "print(\"========================================\")\n",
    "print(\"= Accuracy Score is    :\", round(cv_accuracy*100,2))\n",
    "print(\"========================================\")"
   ]
  },
  {
   "cell_type": "code",
   "execution_count": 9,
   "metadata": {},
   "outputs": [
    {
     "data": {
      "image/png": "[encoded data removed]",
      "text/plain": [
       "<Figure size 576x576 with 2 Axes>"
      ]
     },
     "metadata": {
      "needs_background": "light"
     },
     "output_type": "display_data"
    }
   ],
   "source": [
    "# Compute confusion matrix\n",
    "cm = confusion_matrix(y_train, y_pred_cross)\n",
    "plt.figure(figsize=(8, 8))\n",
    "sns.heatmap(cm, annot=True, fmt='g', cmap='Blues', xticklabels=np.unique(y_train), yticklabels=np.unique(y_train))\n",
    "plt.xlabel('Predicted labels')\n",
    "plt.ylabel('True labels')\n",
    "plt.title('Confusion Matrix')\n",
    "plt.show()"
   ]
  },
  {
   "cell_type": "code",
   "execution_count": 10,
   "metadata": {},
   "outputs": [
    {
     "name": "stdout",
     "output_type": "stream",
     "text": [
      "              precision    recall  f1-score   support\n",
      "\n",
      "           0       0.39      0.39      0.39       210\n",
      "           1       0.69      0.70      0.69      2220\n",
      "           2       0.67      0.68      0.68      2250\n",
      "           3       0.70      0.70      0.70      1410\n",
      "           4       0.72      0.72      0.72      1980\n",
      "           5       0.48      0.52      0.50       210\n",
      "           6       0.54      0.60      0.57       360\n",
      "           7       0.66      0.52      0.58       240\n",
      "           8       0.63      0.58      0.61       540\n",
      "           9       0.60      0.55      0.57       270\n",
      "\n",
      "    accuracy                           0.67      9690\n",
      "   macro avg       0.61      0.60      0.60      9690\n",
      "weighted avg       0.67      0.67      0.67      9690\n",
      "\n"
     ]
    }
   ],
   "source": [
    "#Classification Report\n",
    "print(classification_report(y_train, y_pred_cross))"
   ]
  },
  {
   "cell_type": "code",
   "execution_count": 11,
   "metadata": {},
   "outputs": [],
   "source": [
    "# Calculating the TPR, FPR, Precision and F1 Score\n",
    "TP = cm.diagonal()\n",
    "FP = cm.sum(axis=0) - TP\n",
    "FN = cm.sum(axis=1) - TP\n",
    "TN = cm.sum() - (FP + FN + TP)\n",
    "TPR = TP / (TP + FN)\n",
    "FPR = FP / (FP + TN)\n",
    "Precision = TP / (TP + FP)\n",
    "F1_Score = 2 * (Precision * TPR) / (Precision + TPR)"
   ]
  },
  {
   "cell_type": "code",
   "execution_count": 14,
   "metadata": {},
   "outputs": [
    {
     "name": "stdout",
     "output_type": "stream",
     "text": [
      "    TP Rate   FP Rate  Precision  F1_Score\n",
      "0  0.390476  0.013713   0.386792  0.388626\n",
      "1  0.697297  0.092637   0.691071  0.694170\n",
      "2  0.684444  0.102016   0.669856  0.677072\n",
      "3  0.700000  0.050845   0.700994  0.700497\n",
      "4  0.715657  0.072374   0.717468  0.716561\n",
      "5  0.519048  0.012658   0.475983  0.496583\n",
      "6  0.597222  0.019614   0.540201  0.567282\n",
      "7  0.516667  0.006772   0.659574  0.579439\n",
      "8  0.581481  0.019781   0.634343  0.606763\n",
      "9  0.548148  0.010403   0.601626  0.573643\n"
     ]
    }
   ],
   "source": [
    "# Keeping results into a dataframe\n",
    "results = pd.DataFrame({'TP Rate': TPR, 'FP Rate': FPR, 'Precision': Precision, 'F1_Score': F1_Score})\n",
    "print(results)"
   ]
  }
 ],
 "metadata": {
  "kernelspec": {
   "display_name": "Python 3",
   "language": "python",
   "name": "python3"
  },
  "language_info": {
   "codemirror_mode": {
    "name": "ipython",
    "version": 3
   },
   "file_extension": ".py",
   "mimetype": "text/x-python",
   "name": "python",
   "nbconvert_exporter": "python",
   "pygments_lexer": "ipython3",
   "version": "3.9.7"
  }
 },
 "nbformat": 4,
 "nbformat_minor": 2
}
